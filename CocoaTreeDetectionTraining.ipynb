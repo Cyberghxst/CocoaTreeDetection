{
  "cells": [
    {
      "cell_type": "markdown",
      "metadata": {
        "id": "TOZVKdmgJdoy"
      },
      "source": [
        "# Descompresión de las imágenes etiquetadas"
      ]
    },
    {
      "cell_type": "markdown",
      "source": [
        "En este paso, montamos nuestro disco de Google Drive.\n",
        "Este paso es importante si queremos mover o importar algo a/desde nuestra nube de Google Drive."
      ],
      "metadata": {
        "id": "KRb4-enV2UFh"
      }
    },
    {
      "cell_type": "code",
      "source": [
        "from google.colab import drive\n",
        "drive.mount('/content/drive')"
      ],
      "metadata": {
        "colab": {
          "base_uri": "https://localhost:8080/"
        },
        "id": "S03SX5aOyXao",
        "outputId": "0bded709-39eb-42dc-9281-cf5f1a570c2e"
      },
      "execution_count": null,
      "outputs": [
        {
          "output_type": "stream",
          "name": "stdout",
          "text": [
            "Mounted at /content/drive\n"
          ]
        }
      ]
    },
    {
      "cell_type": "markdown",
      "source": [
        "En este paso, se debe subir el dataset al colab como archivo comprimido.\n",
        "El comando debajo se utiliza para descomprimir el archivo con nombre: \"cocoa_trees.v1i.yolov8-obb.zip\""
      ],
      "metadata": {
        "id": "jiHwz_Zp2gKx"
      }
    },
    {
      "cell_type": "code",
      "execution_count": null,
      "metadata": {
        "colab": {
          "base_uri": "https://localhost:8080/"
        },
        "id": "0enznE_PJmef",
        "outputId": "49eb6d36-e813-4614-fa60-bbf58d2e04ad",
        "collapsed": true
      },
      "outputs": [
        {
          "output_type": "stream",
          "name": "stdout",
          "text": [
            "Archive:  cocoa_tree_recognition.v2i.yolov8_forms.zip\n",
            "  inflating: README.roboflow.txt     \n",
            "  inflating: data.yaml               \n",
            "   creating: test/\n",
            "   creating: test/images/\n",
            " extracting: test/images/1-planta-de-platano-tabasco-musa-cavendishii-chiquita-banana-compra-en-mexico-arboles_jpg.rf.226585eeb71383ee65429cb540ea4f96.jpg  \n",
            " extracting: test/images/13_jpg.rf.8b209dcf1866694deb30ba8a36d6fd29.jpg  \n",
            " extracting: test/images/14_jpg.rf.2f8f34f69f6eb9609142d310a3ce2f23.jpg  \n",
            " extracting: test/images/16_jpg.rf.d32be2cc7df6c1315dfcb472f59831a8.jpg  \n",
            " extracting: test/images/20_jpg.rf.146e9d877296d32fdecf7acca0ce515d.jpg  \n",
            " extracting: test/images/33_jpg.rf.fd615026efc77c63f1c15960134cd919.jpg  \n",
            " extracting: test/images/37_jpg.rf.edf81832b84a45315e2dd9b7909450e5.jpg  \n",
            " extracting: test/images/457453400_2212920609083831_4366453120906040892_n_jpg.rf.a33e6337dbd1a158d05f845b94e4d027.jpg  \n",
            " extracting: test/images/45_jpg.rf.ebdfdbceb88379cc922850af6635a7b4.jpg  \n",
            " extracting: test/images/IMG20241027110109_jpg.rf.72eabcb469488f4ed492f1e1926566d4.jpg  \n",
            " extracting: test/images/IMG20241027110600_jpg.rf.2c08292b09b54a13a3971f2ad4413474.jpg  \n",
            " extracting: test/images/IMG20241027113903_jpg.rf.89ba7f4fb0bc7812a55e339083022f82.jpg  \n",
            " extracting: test/images/IMG20241027113915_jpg.rf.c4049a6f0979b0661abfeb52e27005f4.jpg  \n",
            " extracting: test/images/IMG20241205160413_jpg.rf.b45ed610cd319bf3dd7977b0602931f5.jpg  \n",
            " extracting: test/images/IMG20241205161254_jpg.rf.d0680fc012606b6b68ce1487a37f8d05.jpg  \n",
            " extracting: test/images/IMG20241205161552_jpg.rf.bb0fee6c2d06502d6020d928afa3ed2c.jpg  \n",
            " extracting: test/images/IMG20241205161617_jpg.rf.dad09f3d257504ed7ef26f969afe79fa.jpg  \n",
            " extracting: test/images/IMG20241205161707_jpg.rf.aadd15ecaee1353285c97d14a5a7f93e.jpg  \n",
            " extracting: test/images/IMG20241205162048_jpg.rf.f7480fe5d35e45cc76270d805a06cb53.jpg  \n",
            " extracting: test/images/IMG20241206150253_jpg.rf.71dbeb0dcf04fd4087a3f7ab774c7cab.jpg  \n",
            " extracting: test/images/IMG20241206150311_jpg.rf.92f052987e5db54c47669dd49d9a2e09.jpg  \n",
            " extracting: test/images/IMG20241206150525_jpg.rf.18980d15d4a1700bf11efb108c383765.jpg  \n",
            " extracting: test/images/IMG20241206150545_jpg.rf.5fd096b882807689a60f5b838fe99ced.jpg  \n",
            " extracting: test/images/IMG20241206150644_jpg.rf.2415c179164af76f1b63edeac9846703.jpg  \n",
            " extracting: test/images/IMG20241206150736_jpg.rf.b18f202481cc4866606d3e46cc0e78a4.jpg  \n",
            " extracting: test/images/IMG20241206150836_jpg.rf.6ecb70e83cdd0cf315c3de090d943d80.jpg  \n",
            " extracting: test/images/IMG20241206150851_jpg.rf.96637ab2cbfd0155fa41f8d7ba0b6d1e.jpg  \n",
            " extracting: test/images/IMG20241206150854_jpg.rf.5b62dc1db6fc6071501a3e6725cacb6e.jpg  \n",
            " extracting: test/images/IMG20241206150900_jpg.rf.f8b77f95fd5e746c6a2ef27e87592c1e.jpg  \n",
            " extracting: test/images/IMG_20241027_105813_jpg.rf.20c7b2dc3d87251c01e7ee6eea39891d.jpg  \n",
            " extracting: test/images/IMG_20241027_111454_jpg.rf.3429d236fd73997819b4d1540aa3a600.jpg  \n",
            " extracting: test/images/IMG_20241027_112315_jpg.rf.7eed2de2ca9392cb0fd308917cdd9c6f.jpg  \n",
            " extracting: test/images/IMG_20241027_112957_jpg.rf.4169d25b6048eee84e486d94b0577903.jpg  \n",
            " extracting: test/images/IMG_20241027_113658_jpg.rf.babfec9a9f210ea43dcaade22a370cba.jpg  \n",
            " extracting: test/images/IMG_20241126_161429_jpg.rf.8dbb67198a6e679eea824fd598b60258.jpg  \n",
            " extracting: test/images/IMG_20241126_161442_jpg.rf.21ed9a3274718877079cd5ac98ae9ec4.jpg  \n",
            " extracting: test/images/P26_jpeg.rf.96931e3ad32aaae975e15a24760caa6a.jpg  \n",
            " extracting: test/images/P27_jpeg.rf.8ca6aca0d8d424121ddb4a6583a30421.jpg  \n",
            " extracting: test/images/P31_jpg.rf.1bc3f667924823b8a58edcfde056b040.jpg  \n",
            " extracting: test/images/P7_jpg.rf.a3398153cf8b87242f3cc9f583946145.jpg  \n",
            " extracting: test/images/R1974-4-large_jpg.rf.b7c8d65f4e58347c0bcf4fd002ae8c70.jpg  \n",
            " extracting: test/images/rows-of-growing-bananas-png_webp.rf.9d3082f7e9bc38c03358ea7f95c055f6.jpg  \n",
            "   creating: test/labels/\n",
            "  inflating: test/labels/1-planta-de-platano-tabasco-musa-cavendishii-chiquita-banana-compra-en-mexico-arboles_jpg.rf.226585eeb71383ee65429cb540ea4f96.txt  \n",
            "  inflating: test/labels/13_jpg.rf.8b209dcf1866694deb30ba8a36d6fd29.txt  \n",
            "  inflating: test/labels/14_jpg.rf.2f8f34f69f6eb9609142d310a3ce2f23.txt  \n",
            "  inflating: test/labels/16_jpg.rf.d32be2cc7df6c1315dfcb472f59831a8.txt  \n",
            "  inflating: test/labels/20_jpg.rf.146e9d877296d32fdecf7acca0ce515d.txt  \n",
            "  inflating: test/labels/33_jpg.rf.fd615026efc77c63f1c15960134cd919.txt  \n",
            "  inflating: test/labels/37_jpg.rf.edf81832b84a45315e2dd9b7909450e5.txt  \n",
            "  inflating: test/labels/457453400_2212920609083831_4366453120906040892_n_jpg.rf.a33e6337dbd1a158d05f845b94e4d027.txt  \n",
            "  inflating: test/labels/45_jpg.rf.ebdfdbceb88379cc922850af6635a7b4.txt  \n",
            "  inflating: test/labels/IMG20241027110109_jpg.rf.72eabcb469488f4ed492f1e1926566d4.txt  \n",
            "  inflating: test/labels/IMG20241027110600_jpg.rf.2c08292b09b54a13a3971f2ad4413474.txt  \n",
            "  inflating: test/labels/IMG20241027113903_jpg.rf.89ba7f4fb0bc7812a55e339083022f82.txt  \n",
            "  inflating: test/labels/IMG20241027113915_jpg.rf.c4049a6f0979b0661abfeb52e27005f4.txt  \n",
            "  inflating: test/labels/IMG20241205160413_jpg.rf.b45ed610cd319bf3dd7977b0602931f5.txt  \n",
            "  inflating: test/labels/IMG20241205161254_jpg.rf.d0680fc012606b6b68ce1487a37f8d05.txt  \n",
            "  inflating: test/labels/IMG20241205161552_jpg.rf.bb0fee6c2d06502d6020d928afa3ed2c.txt  \n",
            "  inflating: test/labels/IMG20241205161617_jpg.rf.dad09f3d257504ed7ef26f969afe79fa.txt  \n",
            "  inflating: test/labels/IMG20241205161707_jpg.rf.aadd15ecaee1353285c97d14a5a7f93e.txt  \n",
            "  inflating: test/labels/IMG20241205162048_jpg.rf.f7480fe5d35e45cc76270d805a06cb53.txt  \n",
            "  inflating: test/labels/IMG20241206150253_jpg.rf.71dbeb0dcf04fd4087a3f7ab774c7cab.txt  \n",
            "  inflating: test/labels/IMG20241206150311_jpg.rf.92f052987e5db54c47669dd49d9a2e09.txt  \n",
            "  inflating: test/labels/IMG20241206150525_jpg.rf.18980d15d4a1700bf11efb108c383765.txt  \n",
            "  inflating: test/labels/IMG20241206150545_jpg.rf.5fd096b882807689a60f5b838fe99ced.txt  \n",
            "  inflating: test/labels/IMG20241206150644_jpg.rf.2415c179164af76f1b63edeac9846703.txt  \n",
            "  inflating: test/labels/IMG20241206150736_jpg.rf.b18f202481cc4866606d3e46cc0e78a4.txt  \n",
            "  inflating: test/labels/IMG20241206150836_jpg.rf.6ecb70e83cdd0cf315c3de090d943d80.txt  \n",
            "  inflating: test/labels/IMG20241206150851_jpg.rf.96637ab2cbfd0155fa41f8d7ba0b6d1e.txt  \n",
            "  inflating: test/labels/IMG20241206150854_jpg.rf.5b62dc1db6fc6071501a3e6725cacb6e.txt  \n",
            "  inflating: test/labels/IMG20241206150900_jpg.rf.f8b77f95fd5e746c6a2ef27e87592c1e.txt  \n",
            "  inflating: test/labels/IMG_20241027_105813_jpg.rf.20c7b2dc3d87251c01e7ee6eea39891d.txt  \n",
            "  inflating: test/labels/IMG_20241027_111454_jpg.rf.3429d236fd73997819b4d1540aa3a600.txt  \n",
            "  inflating: test/labels/IMG_20241027_112315_jpg.rf.7eed2de2ca9392cb0fd308917cdd9c6f.txt  \n",
            "  inflating: test/labels/IMG_20241027_112957_jpg.rf.4169d25b6048eee84e486d94b0577903.txt  \n",
            "  inflating: test/labels/IMG_20241027_113658_jpg.rf.babfec9a9f210ea43dcaade22a370cba.txt  \n",
            "  inflating: test/labels/IMG_20241126_161429_jpg.rf.8dbb67198a6e679eea824fd598b60258.txt  \n",
            "  inflating: test/labels/IMG_20241126_161442_jpg.rf.21ed9a3274718877079cd5ac98ae9ec4.txt  \n",
            "  inflating: test/labels/P26_jpeg.rf.96931e3ad32aaae975e15a24760caa6a.txt  \n",
            "  inflating: test/labels/P27_jpeg.rf.8ca6aca0d8d424121ddb4a6583a30421.txt  \n",
            "  inflating: test/labels/P31_jpg.rf.1bc3f667924823b8a58edcfde056b040.txt  \n",
            "  inflating: test/labels/P7_jpg.rf.a3398153cf8b87242f3cc9f583946145.txt  \n",
            "  inflating: test/labels/R1974-4-large_jpg.rf.b7c8d65f4e58347c0bcf4fd002ae8c70.txt  \n",
            "  inflating: test/labels/rows-of-growing-bananas-png_webp.rf.9d3082f7e9bc38c03358ea7f95c055f6.txt  \n",
            "   creating: train/\n",
            "   creating: train/images/\n",
            " extracting: train/images/12_jpg.rf.fb79f07f35df56df998dd9f2a7b8058f.jpg  \n",
            " extracting: train/images/15_jpg.rf.9fa26814007d191cfbe88dd3a9dfc678.jpg  \n",
            " extracting: train/images/17_jpg.rf.b148e3ad921cec7b3c0496c3617f304f.jpg  \n",
            " extracting: train/images/18_jpg.rf.9eab1ac926e15f747c5b051e0c092963.jpg  \n",
            " extracting: train/images/19_jpg.rf.333d90e5ea0560b33ee9b712e1ebe06d.jpg  \n",
            " extracting: train/images/19distrito6_jpg.rf.92f0085db8d4d2565113972d52f7aefe.jpg  \n",
            " extracting: train/images/202208161441422_jpg.rf.d7a6b121bbd253d1205703bc89dd84d9.jpg  \n",
            " extracting: train/images/21_jpg.rf.71695120b91cae9cdf5253594a1d0c99.jpg  \n",
            " extracting: train/images/22_jpg.rf.b7f4dd1605c2f411bf0b0e09c1c2478a.jpg  \n",
            " extracting: train/images/24_jpg.rf.8536e252de8ab323089e446ed6a24103.jpg  \n",
            " extracting: train/images/25_jpg.rf.397a51f5ffae859325f281654ef31d87.jpg  \n",
            " extracting: train/images/26_jpg.rf.cf09e1218ea8283b6d8e54257ddfa63f.jpg  \n",
            " extracting: train/images/27_jpg.rf.ae20ca3b9bda75588882a9cdc369bbbc.jpg  \n",
            " extracting: train/images/28_jpg.rf.93dfa2f7d535a2fa049c27dc3362174f.jpg  \n",
            " extracting: train/images/29_jpg.rf.7d1ccf9b257890d77db9d9d017c5bab3.jpg  \n",
            " extracting: train/images/30_jpg.rf.0647ae73bf9d6fbb142ecff1677d976a.jpg  \n",
            " extracting: train/images/31_jpg.rf.1e964e1f0732a380947e655c043cc9ff.jpg  \n",
            " extracting: train/images/34_jpg.rf.99fffa4b198da7c8a6787d0a092d3145.jpg  \n",
            " extracting: train/images/35_jpg.rf.6b355a3f527aa3a4d6dcb58e6072fc66.jpg  \n",
            " extracting: train/images/36871607_863810363820442_3913036878231633920_n_jpg.rf.2cd9e81fab8a178cb9fe123a69c2d670.jpg  \n",
            " extracting: train/images/36_jpg.rf.8978438a48ab7eae605631c1d885c562.jpg  \n",
            " extracting: train/images/38_jpg.rf.97ce33680901726cbce58812f5580e54.jpg  \n",
            " extracting: train/images/39_jpg.rf.3cbb67dada726f03f05762b854344842.jpg  \n",
            " extracting: train/images/40767822_307845813127177_9140109156609425408_n_jpg.rf.6a43cec4c1fe1149a91cbf9603bca1c2.jpg  \n",
            " extracting: train/images/40_jpg.rf.df3ed49d4824634999fd3e7fc5738d44.jpg  \n",
            " extracting: train/images/419795714_917630813067017_2806276727345916329_n_jpg.rf.3fbdab7d28047ecdd2dad6d403f6e654.jpg  \n",
            " extracting: train/images/419796071_917630739733691_7123037246263407757_n_jpg.rf.9f50e380a26497ddc1da0e597b6bd7c5.jpg  \n",
            " extracting: train/images/41_jpg.rf.8cfc86b0fc518f330d18437710e8ce82.jpg  \n",
            " extracting: train/images/423236527_396962522869074_3354983094959394890_n_jpg.rf.2fb3beac91fbd5f77f7d0c3c8e499fc0.jpg  \n",
            " extracting: train/images/423236623_396962372869089_1716232042463848457_n_jpg.rf.aa4444806fe274ea17a24cd3d861ee44.jpg  \n",
            " extracting: train/images/423248918_396962509535742_5256450219377768161_n_jpg.rf.9c8f793c6aafae53e652b38ea2060724.jpg  \n",
            " extracting: train/images/42_jpg.rf.fabe2a7941e9d7e5ad18b61f5487ae2b.jpg  \n",
            " extracting: train/images/43_jpg.rf.54bacb829c67bc303428f53bd66666bc.jpg  \n",
            " extracting: train/images/464021967_536885539091629_7784217180168532652_n_jpg.rf.fa7269ca8b73ce2ac22fcdd5bd3f07b0.jpg  \n",
            " extracting: train/images/464698251_1010159387791450_3874235538516604956_n_jpg.rf.86a17f1c8368222ac88b153febb89914.jpg  \n",
            " extracting: train/images/46_jpg.rf.4ec67bdb07d34044aff5b143b74c53b1.jpg  \n",
            " extracting: train/images/48_jpg.rf.60056b04b0efc957d718ce935bee4d6e.jpg  \n",
            " extracting: train/images/49_jpg.rf.106ffaa3f707968d4ed3f064d99bf0aa.jpg  \n",
            " extracting: train/images/50_jpg.rf.b04c3d947acf830a70e3b2ae81ebe7bc.jpg  \n",
            " extracting: train/images/514bccKIbfL_jpg.rf.0e5a857a545df4b535637cc77a6fffee.jpg  \n",
            " extracting: train/images/51_jpg.rf.cbea82718ead89874abb107145e27208.jpg  \n",
            " extracting: train/images/52227087276_03957abab9_k_jpg.rf.720bfe8b34597b3f0e2afee488907d91.jpg  \n",
            " extracting: train/images/52_jpg.rf.77cb28ac2d216b467d53b2d4f27df652.jpg  \n",
            " extracting: train/images/53_jpg.rf.ddaa11e08af5e7e01182ff08878b638e.jpg  \n",
            " extracting: train/images/55_jpg.rf.222151fc0434ba13f64fca8546c6dc13.jpg  \n",
            " extracting: train/images/56_jpg.rf.fbe2504a79c168f996763861e28b1f39.jpg  \n",
            " extracting: train/images/57_jpg.rf.fd5cf3e08741dbef7dde9594af19a641.jpg  \n",
            " extracting: train/images/59_jpg.rf.f560f8317de0c136d723b451c8d58e63.jpg  \n",
            " extracting: train/images/60_jpg.rf.d3e490e9650131b4e522251694bad24d.jpg  \n",
            " extracting: train/images/61_jpg.rf.000485f5a7bd33b7648d1ef60c0be15a.jpg  \n",
            " extracting: train/images/62_jpg.rf.db5ddc3407402070ff6935c5ce624f75.jpg  \n",
            " extracting: train/images/63_jpg.rf.ca25fa198d55334586f4bfc404a01438.jpg  \n",
            " extracting: train/images/64_jpg.rf.aacd6d51e30201db3bfb6d2dc7f08cf3.jpg  \n",
            " extracting: train/images/66_jpg.rf.65d53a0bfd8f1a0059ab205564c293c6.jpg  \n",
            " extracting: train/images/67_jpg.rf.7b69d2678807963d993882f12b2a6b09.jpg  \n",
            " extracting: train/images/68_jpg.rf.1295f43c1f5b082d912bb11e4828da0f.jpg  \n",
            " extracting: train/images/69_jpg.rf.3370173183642005b719d17b25aa65aa.jpg  \n",
            " extracting: train/images/71_jpg.rf.7ba00a0365fbf443f1e849c9a294e9f7.jpg  \n",
            " extracting: train/images/73_jpg.rf.ba7f71d8e5a7c515d96b7373affd4078.jpg  \n",
            " extracting: train/images/76_jpg.rf.782496532e88e9c2f27c60525caa4bdb.jpg  \n",
            " extracting: train/images/77_jpg.rf.0bae4abd2f91a3a21f0fca339a8c36c3.jpg  \n",
            " extracting: train/images/7d6d1e8389ad2bc9cd2873a8c05d9fc7_jpg.rf.dcf9c6b12381e5809991b78261c86200.jpg  \n",
            " extracting: train/images/80_jpg.rf.27eba251b42bfdefc14f31a005db0739.jpg  \n",
            " extracting: train/images/82_jpg.rf.0fb03e2ef7472e228eef7fb02443e5ec.jpg  \n",
            " extracting: train/images/84_jpg.rf.54e6bdfc8830ca91d701bb78ef252428.jpg  \n",
            " extracting: train/images/85_jpg.rf.ec7d49fef9d3ce995774cb378d353ec8.jpg  \n",
            " extracting: train/images/86_jpg.rf.3fc53214605295c9dffd26ac0135652c.jpg  \n",
            " extracting: train/images/87_jpg.rf.6474de088d617b9a4aad5fcf600f608c.jpg  \n",
            " extracting: train/images/88_jpg.rf.657f7455dc0263bc43f2317d98eb1dfa.jpg  \n",
            " extracting: train/images/949073E7-9C9C-459B-B08A-13D8ED5BCC56_jpg.rf.2a4b4758579ed3301824ac96369a8f4e.jpg  \n",
            " extracting: train/images/AgenciaNoticias-20170329-01_01_jpg.rf.90dc6fca06e65b6a8f78037bc8c2dc64.jpg  \n",
            " extracting: train/images/AgenciaNoticias-20170329-03_01_jpg.rf.af648902a709e59ffcb97b0cf2474a92.jpg  \n",
            " extracting: train/images/COld-Hardy-Banana-1_jpg.rf.6fb7c89dcb1f55880f962ee4707106b9.jpg  \n",
            " extracting: train/images/ColdHardyBasjooBanana_2_720x_webp.rf.7ee9e4e676466cdd029118c7359a0999.jpg  \n",
            " extracting: train/images/D_NQ_NP_859991-MLU48417065295_122021-O_webp.rf.f36f370e24b92f7291fb5644a0efd67e.jpg  \n",
            " extracting: train/images/Daotien_jpg.rf.068ba643cdb96226768993e826d53007.jpg  \n",
            " extracting: train/images/IMG-20241206-WA0006-1-_jpg.rf.83aa059c2ddd297528e95108a82643bd.jpg  \n",
            " extracting: train/images/IMG-20241206-WA0007_jpg.rf.da0cfeb4b7db18d4cc285d75fe85d4ca.jpg  \n",
            " extracting: train/images/IMG-20241206-WA0008_jpg.rf.1ed442bdce47ae0591e15ffad6aa6986.jpg  \n",
            " extracting: train/images/IMG-20241206-WA0012_jpg.rf.1b94e236fd8da3c112ee80e3e3280f44.jpg  \n",
            " extracting: train/images/IMG20241027110556_jpg.rf.475ef97c15ef43d175eb1a6f8d236ecd.jpg  \n",
            " extracting: train/images/IMG20241027110558_jpg.rf.03f3398f5e360ba5492c1ae699cfff22.jpg  \n",
            " extracting: train/images/IMG20241027110605_jpg.rf.57bd40f42c3aa41fe1018c0ad6e4636e.jpg  \n",
            " extracting: train/images/IMG20241027110612_jpg.rf.e7564cf42873cb018559fed74cac5568.jpg  \n",
            " extracting: train/images/IMG20241027110732_jpg.rf.f0d5a95471fa0942d35ffa0bb83b32d9.jpg  \n",
            " extracting: train/images/IMG20241027110744_jpg.rf.412016206f917296d671017412d92224.jpg  \n",
            " extracting: train/images/IMG20241027110809_jpg.rf.7b2a841b8d23e9219655d675130d1234.jpg  \n",
            " extracting: train/images/IMG20241027110818_jpg.rf.a7552aaaeb1770492ffaa4c2262ee4b0.jpg  \n",
            " extracting: train/images/IMG20241027110823_jpg.rf.c8e6b22c0a35afc96fe09ef8c5dd3ed7.jpg  \n",
            " extracting: train/images/IMG20241027110857_jpg.rf.f8210598e0204a882561d5b84cfd3905.jpg  \n",
            " extracting: train/images/IMG20241027110903_jpg.rf.b9c9a15a98cf12a06171100420038ef4.jpg  \n",
            " extracting: train/images/IMG20241027111649_jpg.rf.90ed9f4d8b621b2e354f92f7868c0b20.jpg  \n",
            " extracting: train/images/IMG20241027111658_jpg.rf.eb2f6d5017eb9264c4add4c71c1cdb33.jpg  \n",
            " extracting: train/images/IMG20241027111705_jpg.rf.bfe0cf25d2301187dda0696b0c722d94.jpg  \n",
            " extracting: train/images/IMG20241027112520_jpg.rf.66da22f2d8ae28c17231f700671572dd.jpg  \n",
            " extracting: train/images/IMG20241027112522_jpg.rf.6c219c335766ed9d2ff958c152594a55.jpg  \n",
            " extracting: train/images/IMG20241027112555_jpg.rf.cb0a4ffc8693f72160c59e6ae9f3bce7.jpg  \n",
            " extracting: train/images/IMG20241027112603_jpg.rf.be13441945b968cdbaeacc720ff06a04.jpg  \n",
            " extracting: train/images/IMG20241027112722_jpg.rf.5dda41f8c2b61f2824d675e5d7bf3611.jpg  \n",
            " extracting: train/images/IMG20241027112732_jpg.rf.d218ded181d4d973676d3af976be09fb.jpg  \n",
            " extracting: train/images/IMG20241027112735_jpg.rf.afa190503c77dca4983bbe9235e35ec9.jpg  \n",
            " extracting: train/images/IMG20241027112737_jpg.rf.9b8e231a7eb3b324ba0a64b5d4f08b6b.jpg  \n",
            " extracting: train/images/IMG20241027112740_jpg.rf.3e81bcffa304c84484660c882359aeec.jpg  \n",
            " extracting: train/images/IMG20241027112749_jpg.rf.103022d6b0d57f5c7bac3e1dc33bf489.jpg  \n",
            " extracting: train/images/IMG20241027112754_jpg.rf.3dfc0645e5b0f61fa26d1362c35ec4e5.jpg  \n",
            " extracting: train/images/IMG20241027112810_jpg.rf.7d71ccc75c4c228b5c78fd45a93d48e9.jpg  \n",
            " extracting: train/images/IMG20241027112812_jpg.rf.ec227b6294ff34a53d7c4f4c012af452.jpg  \n",
            " extracting: train/images/IMG20241027112822_jpg.rf.103c94bacdc86e7254dfba753780ba5c.jpg  \n",
            " extracting: train/images/IMG20241027112832_jpg.rf.6a6804af496cec7aa00284934e62630c.jpg  \n",
            " extracting: train/images/IMG20241027112847_jpg.rf.0f665b6a02f7c59e5ab3ff944d007d35.jpg  \n",
            " extracting: train/images/IMG20241027113859_jpg.rf.71e3b2c446bc5f8c898c9dd666d30f4d.jpg  \n",
            " extracting: train/images/IMG20241027113909_jpg.rf.527f7307cdae12ae33b9e7d0eae1013d.jpg  \n",
            " extracting: train/images/IMG20241027113955_jpg.rf.5e54df4f0b9ef630a826ead948535f47.jpg  \n",
            " extracting: train/images/IMG20241027115358_jpg.rf.6dcbfd01ce65fc477076b8f010da6f92.jpg  \n",
            " extracting: train/images/IMG20241027115401_jpg.rf.e8d3cfe0a9ff3b3a7b7bdf5413572062.jpg  \n",
            " extracting: train/images/IMG20241027115818_jpg.rf.242c3a8ba99195fd798d4fa1ae9b45c8.jpg  \n",
            " extracting: train/images/IMG20241027115823_jpg.rf.89e01b9b0ef7541ebe383fb9d8880a41.jpg  \n",
            " extracting: train/images/IMG20241205160416_jpg.rf.c0be3ffd88ba2174ae7f66b9d3d02308.jpg  \n",
            " extracting: train/images/IMG20241205160437_jpg.rf.4e6bb83218ccbc4e5c693adda6bd8308.jpg  \n",
            " extracting: train/images/IMG20241205160526_jpg.rf.26e3c2344f50e923b097e112f3631a0d.jpg  \n",
            " extracting: train/images/IMG20241205160529_jpg.rf.5eed6b216d1d27e5d59ad81e926cdae8.jpg  \n",
            " extracting: train/images/IMG20241205160532_jpg.rf.14e75bedf420c83db114d748c61c5740.jpg  \n",
            " extracting: train/images/IMG20241205160534_jpg.rf.960864b79ea912400d66ba9af1d1b115.jpg  \n",
            " extracting: train/images/IMG20241205161239_jpg.rf.91c576f8674e77f53de34a09d92413a3.jpg  \n",
            " extracting: train/images/IMG20241205161247_jpg.rf.1d86621832822ad28ad2fb8bef0a0ef9.jpg  \n",
            " extracting: train/images/IMG20241205161312_jpg.rf.2223da33cd75e237733cc1eb503f3755.jpg  \n",
            " extracting: train/images/IMG20241205161329_jpg.rf.74507647d2b3254f96cbed37c00a74cf.jpg  \n",
            " extracting: train/images/IMG20241205161340_jpg.rf.64f2982bdb0bf8e3ca924bc281372c26.jpg  \n",
            " extracting: train/images/IMG20241205161403_jpg.rf.840f888611262dc40a57dc5a42eea4ad.jpg  \n",
            " extracting: train/images/IMG20241205161406_jpg.rf.08a7e80126ad07c51a6482a9fbc7f34d.jpg  \n",
            " extracting: train/images/IMG20241205161526_jpg.rf.af85d401771dbca5c6cf4dd5a2327217.jpg  \n",
            " extracting: train/images/IMG20241205161532_jpg.rf.0fef24f4aed1ce0936a05d16fa9ce30d.jpg  \n",
            " extracting: train/images/IMG20241205161542_jpg.rf.d4bfd789e34c16bcfe6be6422db125a6.jpg  \n",
            " extracting: train/images/IMG20241205161545_jpg.rf.ddfe82501f7f730df4668fa4c121e3dc.jpg  \n",
            " extracting: train/images/IMG20241205161558_jpg.rf.33512b68aea4087f5a9ed6e7a39e0211.jpg  \n",
            " extracting: train/images/IMG20241205161602_jpg.rf.705866ed8ec36c66073a0d27cf7f5cba.jpg  \n",
            " extracting: train/images/IMG20241205161603_jpg.rf.1739001d55d76198852b15a7840e54f6.jpg  \n",
            " extracting: train/images/IMG20241205161606_jpg.rf.8345021b51b3861267627db368c8e846.jpg  \n",
            " extracting: train/images/IMG20241205161608_jpg.rf.1e4807fe900f7fa6a52065c2aa88a11b.jpg  \n",
            " extracting: train/images/IMG20241205161609_jpg.rf.97bc8705d089885ce3520b2cae33a949.jpg  \n",
            " extracting: train/images/IMG20241205161618_jpg.rf.b7a153fb7cdc62db3c66ae0a028292a3.jpg  \n",
            " extracting: train/images/IMG20241205161619_jpg.rf.57a91ffd5a2a3dbdcfba2e7d01111922.jpg  \n",
            " extracting: train/images/IMG20241205161629_jpg.rf.2472514cd8e629adfa1a62936361807a.jpg  \n",
            " extracting: train/images/IMG20241205161658_jpg.rf.778abd12de398ab2b7d9ad9aefa4caa8.jpg  \n",
            " extracting: train/images/IMG20241205161702_jpg.rf.adb248f6a9332fc9d1d75ecf23b501aa.jpg  \n",
            " extracting: train/images/IMG20241205161713_jpg.rf.f4561282b09b5cb2ee01d4482b761390.jpg  \n",
            " extracting: train/images/IMG20241205161719_jpg.rf.09ae661952cfff5acd4883cc0b5b2644.jpg  \n",
            " extracting: train/images/IMG20241205161722_jpg.rf.26e7a4207a5639aaa3767827e416f978.jpg  \n",
            " extracting: train/images/IMG20241205161730_jpg.rf.27cea620743ae6a51eacaab2f1fbca85.jpg  \n",
            " extracting: train/images/IMG20241205161734_jpg.rf.98699be3ca97eb73e145aa098b84fce2.jpg  \n",
            " extracting: train/images/IMG20241205161738_jpg.rf.04fabade78003b85ef14a597f9b67f84.jpg  \n",
            " extracting: train/images/IMG20241205161747_jpg.rf.57c035ad6ea8e285e7deae946f735f73.jpg  \n",
            " extracting: train/images/IMG20241205161757_jpg.rf.b0d9aa77509dfdf7880232b63d83c274.jpg  \n",
            " extracting: train/images/IMG20241205161806_jpg.rf.2b4e793cb127e20c99346622925dffff.jpg  \n",
            " extracting: train/images/IMG20241206150051_jpg.rf.bda01ee3a2d7c2360ef9d29803c9adbd.jpg  \n",
            " extracting: train/images/IMG20241206150104_jpg.rf.c43bd576dbb0a7a0f0c9d23ac4b4e767.jpg  \n",
            " extracting: train/images/IMG20241206150108_jpg.rf.405af99e62356a596204215b44b35905.jpg  \n",
            " extracting: train/images/IMG20241206150114_jpg.rf.3b7a97ef49068f5c8da92e7a4aa7c6a2.jpg  \n",
            " extracting: train/images/IMG20241206150122_jpg.rf.5388d846eecb79561d7b5a9b57ce69d3.jpg  \n",
            " extracting: train/images/IMG20241206150134_jpg.rf.c24c0be174c9edf7d1fc8f612857d230.jpg  \n",
            " extracting: train/images/IMG20241206150138_jpg.rf.10abd214114ed30cb0eaf61ff4426aab.jpg  \n",
            " extracting: train/images/IMG20241206150149_jpg.rf.5b1a8a611e0064d8a067e8111c81086c.jpg  \n",
            " extracting: train/images/IMG20241206150210_jpg.rf.4687f4da275216dbd5f3aea06709d56d.jpg  \n",
            " extracting: train/images/IMG20241206150212_jpg.rf.9fb7bef973ba47f7c9c4e4973e26c5c8.jpg  \n",
            " extracting: train/images/IMG20241206150218_jpg.rf.71e4415d77800121a421b008ae12711d.jpg  \n",
            " extracting: train/images/IMG20241206150229_jpg.rf.068dfce2fcfa749d6a5759593c1f9bde.jpg  \n",
            " extracting: train/images/IMG20241206150248_jpg.rf.c34fd79fc736ffd330950858da8f32cd.jpg  \n",
            " extracting: train/images/IMG20241206150255_jpg.rf.53c14d7514f20f356c02de1684b6acc2.jpg  \n",
            " extracting: train/images/IMG20241206150300_jpg.rf.f9a494458b13cc412a1def6a2ba582f7.jpg  \n",
            " extracting: train/images/IMG20241206150309_jpg.rf.502976f15abff746664d30896e1dde65.jpg  \n",
            " extracting: train/images/IMG20241206150312_jpg.rf.cbf16f762fcd172c495032138d1a4196.jpg  \n",
            " extracting: train/images/IMG20241206150319_jpg.rf.6b23fc2c8e8999f1b3d4e4330e9845b1.jpg  \n",
            " extracting: train/images/IMG20241206150331_jpg.rf.ca5472a169dc87b889118e1e73dd3275.jpg  \n",
            " extracting: train/images/IMG20241206150336_jpg.rf.2d1362a2104259638252c4c13fbdca49.jpg  \n",
            " extracting: train/images/IMG20241206150340_jpg.rf.b70329c78364aea0c30c7b43c1d19b93.jpg  \n",
            " extracting: train/images/IMG20241206150349_jpg.rf.070a49d9f1367b0ab7e1b478af045ccc.jpg  \n",
            " extracting: train/images/IMG20241206150352_jpg.rf.b4810044e175ecdcdb01182ef891081a.jpg  \n",
            " extracting: train/images/IMG20241206150359_jpg.rf.38fcb9ee2d5d30033f871a551a9a223b.jpg  \n",
            " extracting: train/images/IMG20241206150441_jpg.rf.6756754bc84bd3d911f2002a405e897e.jpg  \n",
            " extracting: train/images/IMG20241206150507_jpg.rf.b83ad825d1ebc576ff6edcc6badccb0c.jpg  \n",
            " extracting: train/images/IMG20241206150508_jpg.rf.f047465d5812398dd1ff1244d7110238.jpg  \n",
            " extracting: train/images/IMG20241206150510_jpg.rf.253b5d79a636336f6efd34d9e2b58113.jpg  \n",
            " extracting: train/images/IMG20241206150521_jpg.rf.9a093b2089f2ba214caad3402162a50b.jpg  \n",
            " extracting: train/images/IMG20241206150523_jpg.rf.19646f33b03d35af9cc13606d01b57d7.jpg  \n",
            " extracting: train/images/IMG20241206150530_jpg.rf.2cbebc5a4851f61f69be84ab275023b1.jpg  \n",
            " extracting: train/images/IMG20241206150532_jpg.rf.0c1b4eea418358f5d3367976a8e39253.jpg  \n",
            " extracting: train/images/IMG20241206150536_jpg.rf.51d23f2322d06155fd774c6f40518189.jpg  \n",
            " extracting: train/images/IMG20241206150538_jpg.rf.c7092787322d4a12df72374c2c71c0c9.jpg  \n",
            " extracting: train/images/IMG20241206150542_jpg.rf.3ad8c9b9e99429a68f771db5505796d5.jpg  \n",
            " extracting: train/images/IMG20241206150550_jpg.rf.df6c40a12faf74cad9459d3c11d2d4f9.jpg  \n",
            " extracting: train/images/IMG20241206150556_jpg.rf.c72aee436bbcbb4b8b88f731cb86a9fc.jpg  \n",
            " extracting: train/images/IMG20241206150613_jpg.rf.2b9ebe1dff5178738dae9906190f0abb.jpg  \n",
            " extracting: train/images/IMG20241206150620_jpg.rf.04ed1328e208ccb245719a374816e4a5.jpg  \n",
            " extracting: train/images/IMG20241206150624_jpg.rf.c0c6b939deabbcfe683916af46ee7aa0.jpg  \n",
            " extracting: train/images/IMG20241206150626_jpg.rf.b834233a0a4d369ca6e380044417be3d.jpg  \n",
            " extracting: train/images/IMG20241206150633_jpg.rf.f7ed3e0391eedc216292e6fcd672dacc.jpg  \n",
            " extracting: train/images/IMG20241206150636_jpg.rf.155ba04b4c95076810282cec0f59b449.jpg  \n",
            " extracting: train/images/IMG20241206150637_jpg.rf.cf9ab231e1035346adb738e4110c781a.jpg  \n",
            " extracting: train/images/IMG20241206150641_jpg.rf.0e0b87433642371a0c9727b3d0a36a38.jpg  \n",
            " extracting: train/images/IMG20241206150705_jpg.rf.fbeec3d12a05b187eab3fe87d581d3a5.jpg  \n",
            " extracting: train/images/IMG20241206150729_jpg.rf.984efc2d8a7d640e9d1388421c06c348.jpg  \n",
            " extracting: train/images/IMG20241206150731_jpg.rf.e829fe01c765822773e7c48d0ec4465b.jpg  \n",
            " extracting: train/images/IMG20241206150734_jpg.rf.15794e25f9dea2c482c9b04b18ece2ec.jpg  \n",
            " extracting: train/images/IMG20241206150753_jpg.rf.a44d783fad7f5ad3d30139fdaaba9660.jpg  \n",
            " extracting: train/images/IMG20241206150758_jpg.rf.58442788c9a93fd3b8ea118152b17036.jpg  \n",
            " extracting: train/images/IMG20241206150801_jpg.rf.4eead8e7f494f2e74d1b3539f48db190.jpg  \n",
            " extracting: train/images/IMG20241206150803_jpg.rf.5d5687690d9729445916ffea1ec9b3b8.jpg  \n",
            " extracting: train/images/IMG20241206150811_jpg.rf.a95d902765b5b03acbae74e3f6f89c38.jpg  \n",
            " extracting: train/images/IMG20241206150826_jpg.rf.95ea187689e011cf3d792576c384673a.jpg  \n",
            " extracting: train/images/IMG20241206150829_jpg.rf.90ff7d45a619dc5b46861890aac6b9be.jpg  \n",
            " extracting: train/images/IMG20241206150830_jpg.rf.96f589f029acadf554060a783846ccd3.jpg  \n",
            " extracting: train/images/IMG20241206150837_jpg.rf.09e033c9827360a4fef79b861e0aba4b.jpg  \n",
            " extracting: train/images/IMG20241206150838_jpg.rf.9de67762368877d2f87fed6f7ac38852.jpg  \n",
            " extracting: train/images/IMG20241206150841_jpg.rf.c74a257f49ff68eb036bb027beb4a3e9.jpg  \n",
            " extracting: train/images/IMG20241206150853_jpg.rf.7a212d169f207553210dc9d205177af9.jpg  \n",
            " extracting: train/images/IMG20241206150904_jpg.rf.eb8fcf5916950827c1ddef373f2dee32.jpg  \n",
            " extracting: train/images/IMG20241206150907_jpg.rf.d99a381a197a776bed03ee2c6865607e.jpg  \n",
            " extracting: train/images/IMG20241206150908_jpg.rf.696d5a4112b2cad59ad235c2b8e28153.jpg  \n",
            " extracting: train/images/IMG_20241027_110544_jpg.rf.a4537aa2336e6e76f869436b49245b7f.jpg  \n",
            " extracting: train/images/IMG_20241027_110642_jpg.rf.02f9d43e6b3ab081459d5639416d19a5.jpg  \n",
            " extracting: train/images/IMG_20241027_110710_jpg.rf.0a5f7b05a74989e127f916b1e8b566e1.jpg  \n",
            " extracting: train/images/IMG_20241027_110718_jpg.rf.29b01852943faf185209d93627122f3d.jpg  \n",
            " extracting: train/images/IMG_20241027_111355_jpg.rf.4e8deba8688aeeb9b8b68c6b51c6b301.jpg  \n",
            " extracting: train/images/IMG_20241027_112216_jpg.rf.022daf068d257ba68b909b1f70548a9b.jpg  \n",
            " extracting: train/images/IMG_20241027_112244_jpg.rf.70b3903556f4335eaf34b709c79d6e24.jpg  \n",
            " extracting: train/images/IMG_20241027_112253_jpg.rf.5ed22972d4f88ee7eb4fe90956d02629.jpg  \n",
            " extracting: train/images/IMG_20241027_112308_jpg.rf.734c31ee964e5afc62fbb37cd567ac07.jpg  \n",
            " extracting: train/images/IMG_20241027_112357_jpg.rf.d4c753be098dd70507cce0ea09b63fbf.jpg  \n",
            " extracting: train/images/IMG_20241027_112416_jpg.rf.c41e58b1e11047e99a0b52d1e477fe0a.jpg  \n",
            " extracting: train/images/IMG_20241027_112424_jpg.rf.0f5222906b372dcd4e817f75976df30f.jpg  \n",
            " extracting: train/images/IMG_20241027_112428_jpg.rf.77b60a64940cc7f743cbf348d2aff96c.jpg  \n",
            " extracting: train/images/IMG_20241027_112447_jpg.rf.00f00a2e84f33c26be61eade2c8faa72.jpg  \n",
            " extracting: train/images/IMG_20241027_112455_jpg.rf.d16dc4bf573222e6261dee95b14ac1c1.jpg  \n",
            " extracting: train/images/IMG_20241027_112501_jpg.rf.f868947c2ed723d125a5e15214c8ef5d.jpg  \n",
            " extracting: train/images/IMG_20241027_112512_jpg.rf.a5eb1a55a1f1bcc822e6b5c55ae319ce.jpg  \n",
            " extracting: train/images/IMG_20241027_112519_jpg.rf.f6821e0bbbe10d7a65ffe35e229b3d0e.jpg  \n",
            " extracting: train/images/IMG_20241027_112530_jpg.rf.d47e3619c7726b5d35380b0b5c930cd0.jpg  \n",
            " extracting: train/images/IMG_20241027_112539_jpg.rf.b5e3be3de5cc1ef004c9e5454dd8587d.jpg  \n",
            " extracting: train/images/IMG_20241027_112952_jpg.rf.290abd51b14166bdd51c5c8b93fbb13a.jpg  \n",
            " extracting: train/images/IMG_20241027_113005_jpg.rf.018b9207f0afd81a0b1ef9a54f956afb.jpg  \n",
            " extracting: train/images/IMG_20241027_113027_jpg.rf.404b3368f1a308678256192d8d25db1b.jpg  \n",
            " extracting: train/images/IMG_20241027_113028_jpg.rf.7c127e7d010b8b03772cc7cef012700a.jpg  \n",
            " extracting: train/images/IMG_20241027_113039_jpg.rf.710d31d630fe742334cadbc649347ca4.jpg  \n",
            " extracting: train/images/IMG_20241126_161236_jpg.rf.a1d631aa00ea58907f3ec1e9f342dfb5.jpg  \n",
            " extracting: train/images/IMG_20241126_161239_jpg.rf.3186b5e1d88205a1b54860ab8cc100fa.jpg  \n",
            " extracting: train/images/IMG_20241126_161324_jpg.rf.d7987031b21c9d9dd11cd7f11628cdcf.jpg  \n",
            " extracting: train/images/IMG_20241126_161413_jpg.rf.2a495d58c02e87afba2ca285363ee724.jpg  \n",
            " extracting: train/images/IMG_20241126_161416_jpg.rf.a0eff9e304b1d5e259d10fd27e99c140.jpg  \n",
            " extracting: train/images/IMG_20241126_161426_jpg.rf.d16a479375ce7e70df37159ec062c5c1.jpg  \n",
            " extracting: train/images/IMG_20241126_161440_jpg.rf.16dd9f5417250fada688d4919d963a31.jpg  \n",
            " extracting: train/images/IMG_20241126_161453_jpg.rf.283f088904823e92bd60824dd5dedfc4.jpg  \n",
            " extracting: train/images/IMG_20241126_161516_jpg.rf.b39ecd3ea1f077a3413b18461ab12dc4.jpg  \n",
            " extracting: train/images/IMG_20241126_161524_jpg.rf.4602b98b689f7cd78348079128b038de.jpg  \n",
            " extracting: train/images/IMG_20241126_161531_jpg.rf.02ca2b8a24572dc288a588768982058c.jpg  \n",
            " extracting: train/images/IMG_20241126_161548_jpg.rf.4a681cf2e6c66b4c186397aecdb16098.jpg  \n",
            " extracting: train/images/IMG_20241126_161600_jpg.rf.58aaf52bbbbae52a009f571028466da1.jpg  \n",
            " extracting: train/images/IMG_20241129_122846_jpg.rf.b5660fdb98bdb7f3dacbac8feaa6be92.jpg  \n",
            " extracting: train/images/IMG_20241129_122854_jpg.rf.942f72a5d1c75a4593b3adcf26c9eacc.jpg  \n",
            " extracting: train/images/IMG_20241129_122910_jpg.rf.4bb79b3a0f7824d3db9796e02f6a263b.jpg  \n",
            " extracting: train/images/IMG_20241129_122919_jpg.rf.d0c46f5e6045a7930f440fe76974f7a2.jpg  \n",
            " extracting: train/images/IMG_20241130_161448_jpg.rf.51a672465b0dd0898a9059cce341eb0d.jpg  \n",
            " extracting: train/images/IMG_20241130_161454_jpg.rf.603143235d2ac58cd13545a81bdbd79a.jpg  \n",
            " extracting: train/images/IMG_20241205_163708_jpg.rf.6d7e0b2c744bac1067c10267976fef20.jpg  \n",
            " extracting: train/images/Imagen-de-WhatsApp-2024-11-21-a-las-14-44-18_3a052335_jpg.rf.0a1c7cf5559ef72e1ef1ed68d00d9446.jpg  \n",
            " extracting: train/images/Imagen-de-WhatsApp-2024-11-21-a-las-14-44-39_b0f93e0f_jpg.rf.5fa04d8120b1fe62cbe16b4fa89d80a3.jpg  \n",
            " extracting: train/images/Imagen-de-WhatsApp-2024-11-21-a-las-14-44-40_d9fd6706_jpg.rf.e08a4549f37c4562f304084487a977a5.jpg  \n",
            " extracting: train/images/Imagen-de-WhatsApp-2024-11-21-a-las-14-44-41_51bbd61d_jpg.rf.581a094a4c88925185cad14ccf9b90da.jpg  \n",
            " extracting: train/images/P10_webp.rf.a1f2a11ee3b50e94c19abc7008f62920.jpg  \n",
            " extracting: train/images/P11_jpg.rf.d6dc87dea5ae4b7114258433d30db257.jpg  \n",
            " extracting: train/images/P12_jpg.rf.a812d8f5c6080a6c3d73810b84c89dbd.jpg  \n",
            " extracting: train/images/P13_jpg.rf.aae51c9055bd7cef6b4baa8ecb41e8e9.jpg  \n",
            " extracting: train/images/P15_jpg.rf.3e40035a5d011a98206237aa5c4c0880.jpg  \n",
            " extracting: train/images/P17_png.rf.f0ca9cce0c68e64feca4fecebd5e73b3.jpg  \n",
            " extracting: train/images/P19_jpg.rf.0481a585cb01b55130fda6157fef2f3b.jpg  \n",
            " extracting: train/images/P1_jpg.rf.ee5f125a720dbe34de2cd2ec27bb4a23.jpg  \n",
            " extracting: train/images/P20_jpg.rf.81e757e8b08fe0db9a286944de002fc1.jpg  \n",
            " extracting: train/images/P22_jpg.rf.03a09d73f8bacdd65764e1594ab4f118.jpg  \n",
            " extracting: train/images/P23_jpg.rf.04d97a7a67814935133f95a8edebeaba.jpg  \n",
            " extracting: train/images/P24_jpg.rf.cfc7bbf8618a93926dc8bd526cea92d2.jpg  \n",
            " extracting: train/images/P25_jpg.rf.e5338ce1129f7296658f761912dff3a4.jpg  \n",
            " extracting: train/images/P28_jpg.rf.3ce36baf3f98899a1f5b6b7f1d37f566.jpg  \n",
            " extracting: train/images/P32_webp.rf.5717934e31538d9fdbcf62fdec0b9461.jpg  \n",
            " extracting: train/images/P33_webp.rf.9e764c823808030315bc9eca302db8c4.jpg  \n",
            " extracting: train/images/P34_webp.rf.93fb60ef85fca3b1ceaf8f16ec9b4115.jpg  \n",
            " extracting: train/images/P36_png.rf.c5852a37e1e1fdbf2f854a3c205e76a0.jpg  \n",
            " extracting: train/images/P37_png.rf.70327330042eef393ec37a91467e6115.jpg  \n",
            " extracting: train/images/P3_jpg.rf.40f46804a4d97d7c5e9fbec04dc33790.jpg  \n",
            " extracting: train/images/P4_jpg.rf.a6b91624f1e09590b32f054dfc995980.jpg  \n",
            " extracting: train/images/P5_jpg.rf.c11020eb41163eb3d88698d1744ad1c3.jpg  \n",
            " extracting: train/images/P6_jpg.rf.2b580fae8b9887ff7c51368cde07be86.jpg  \n",
            " extracting: train/images/P8_jpg.rf.24ba68ed677cc2c8c4fe56ec9a88626d.jpg  \n",
            " extracting: train/images/P9_webp.rf.63e145b619f8bae85612310065514350.jpg  \n",
            " extracting: train/images/banana1_jpg.rf.9dc93939831941a95906603a1c7458ed.jpg  \n",
            " extracting: train/images/cultivares-nuevos-panama_jpg.rf.2feffd34fcc2d9101026110cd634fb8e.jpg  \n",
            " extracting: train/images/el-efecto-platano-de-tabasco-felipe-luna-gatopardo-dromomanos-25-1280x853_jpg.rf.28befa39073c44b83325130c9fffbc49.jpg  \n",
            " extracting: train/images/el-efecto-platano-de-tabasco-felipe-luna-gatopardo-dromomanos-26_jpg.rf.7c086f0f5c0b235655b271a8a03d4020.jpg  \n",
            " extracting: train/images/musa_x_paradisiaca_01-1-_jpg.rf.19ea9953138b3863f81a3fba12691a42.jpg  \n",
            " extracting: train/images/musa_x_paradisiaca_01_jpg.rf.0fd27163e51ed3092c09b75f72ab73f1.jpg  \n",
            " extracting: train/images/musa_x_paradisiaca_03_jpg.rf.44c410c3ec75df56105863e6a1d21bd2.jpg  \n",
            " extracting: train/images/ornamental-platano-musa-paradisiaca-2-web_jpg.rf.39951e660c0ebe245a121777459cd535.jpg  \n",
            " extracting: train/images/platanera-arbol-o-planta_jpg.rf.c8daaeb9f84b01d2f844373ac827d2b7.jpg  \n",
            " extracting: train/images/platano-arbol_jpg.rf.9d2884e8ecec0e04d0db5e24985d4021.jpg  \n",
            " extracting: train/images/platanos-plantas_jpg.rf.0bde156060e2cdf9ccc9de0e14a09dd0.jpg  \n",
            " extracting: train/images/pngtree-a-hardy-banana-plant-isolated-on-transparent-background-png-image_12449997_png.rf.0cfdfe2c1107c9c902b134be7c9dd850.jpg  \n",
            " extracting: train/images/uraba_portada_ipc_jpg.rf.585c19f30c21a6dbcde613d823e2445c.jpg  \n",
            "   creating: train/labels/\n",
            "  inflating: train/labels/12_jpg.rf.fb79f07f35df56df998dd9f2a7b8058f.txt  \n",
            "  inflating: train/labels/15_jpg.rf.9fa26814007d191cfbe88dd3a9dfc678.txt  \n",
            "  inflating: train/labels/17_jpg.rf.b148e3ad921cec7b3c0496c3617f304f.txt  \n",
            "  inflating: train/labels/18_jpg.rf.9eab1ac926e15f747c5b051e0c092963.txt  \n",
            "  inflating: train/labels/19_jpg.rf.333d90e5ea0560b33ee9b712e1ebe06d.txt  \n",
            "  inflating: train/labels/19distrito6_jpg.rf.92f0085db8d4d2565113972d52f7aefe.txt  \n",
            "  inflating: train/labels/202208161441422_jpg.rf.d7a6b121bbd253d1205703bc89dd84d9.txt  \n",
            "  inflating: train/labels/21_jpg.rf.71695120b91cae9cdf5253594a1d0c99.txt  \n",
            "  inflating: train/labels/22_jpg.rf.b7f4dd1605c2f411bf0b0e09c1c2478a.txt  \n",
            "  inflating: train/labels/24_jpg.rf.8536e252de8ab323089e446ed6a24103.txt  \n",
            "  inflating: train/labels/25_jpg.rf.397a51f5ffae859325f281654ef31d87.txt  \n",
            "  inflating: train/labels/26_jpg.rf.cf09e1218ea8283b6d8e54257ddfa63f.txt  \n",
            "  inflating: train/labels/27_jpg.rf.ae20ca3b9bda75588882a9cdc369bbbc.txt  \n",
            "  inflating: train/labels/28_jpg.rf.93dfa2f7d535a2fa049c27dc3362174f.txt  \n",
            "  inflating: train/labels/29_jpg.rf.7d1ccf9b257890d77db9d9d017c5bab3.txt  \n",
            "  inflating: train/labels/30_jpg.rf.0647ae73bf9d6fbb142ecff1677d976a.txt  \n",
            "  inflating: train/labels/31_jpg.rf.1e964e1f0732a380947e655c043cc9ff.txt  \n",
            "  inflating: train/labels/34_jpg.rf.99fffa4b198da7c8a6787d0a092d3145.txt  \n",
            "  inflating: train/labels/35_jpg.rf.6b355a3f527aa3a4d6dcb58e6072fc66.txt  \n",
            "  inflating: train/labels/36871607_863810363820442_3913036878231633920_n_jpg.rf.2cd9e81fab8a178cb9fe123a69c2d670.txt  \n",
            "  inflating: train/labels/36_jpg.rf.8978438a48ab7eae605631c1d885c562.txt  \n",
            "  inflating: train/labels/38_jpg.rf.97ce33680901726cbce58812f5580e54.txt  \n",
            "  inflating: train/labels/39_jpg.rf.3cbb67dada726f03f05762b854344842.txt  \n",
            "  inflating: train/labels/40767822_307845813127177_9140109156609425408_n_jpg.rf.6a43cec4c1fe1149a91cbf9603bca1c2.txt  \n",
            "  inflating: train/labels/40_jpg.rf.df3ed49d4824634999fd3e7fc5738d44.txt  \n",
            "  inflating: train/labels/419795714_917630813067017_2806276727345916329_n_jpg.rf.3fbdab7d28047ecdd2dad6d403f6e654.txt  \n",
            "  inflating: train/labels/419796071_917630739733691_7123037246263407757_n_jpg.rf.9f50e380a26497ddc1da0e597b6bd7c5.txt  \n",
            "  inflating: train/labels/41_jpg.rf.8cfc86b0fc518f330d18437710e8ce82.txt  \n",
            "  inflating: train/labels/423236527_396962522869074_3354983094959394890_n_jpg.rf.2fb3beac91fbd5f77f7d0c3c8e499fc0.txt  \n",
            "  inflating: train/labels/423236623_396962372869089_1716232042463848457_n_jpg.rf.aa4444806fe274ea17a24cd3d861ee44.txt  \n",
            "  inflating: train/labels/423248918_396962509535742_5256450219377768161_n_jpg.rf.9c8f793c6aafae53e652b38ea2060724.txt  \n",
            "  inflating: train/labels/42_jpg.rf.fabe2a7941e9d7e5ad18b61f5487ae2b.txt  \n",
            "  inflating: train/labels/43_jpg.rf.54bacb829c67bc303428f53bd66666bc.txt  \n",
            "  inflating: train/labels/464021967_536885539091629_7784217180168532652_n_jpg.rf.fa7269ca8b73ce2ac22fcdd5bd3f07b0.txt  \n",
            "  inflating: train/labels/464698251_1010159387791450_3874235538516604956_n_jpg.rf.86a17f1c8368222ac88b153febb89914.txt  \n",
            "  inflating: train/labels/46_jpg.rf.4ec67bdb07d34044aff5b143b74c53b1.txt  \n",
            "  inflating: train/labels/48_jpg.rf.60056b04b0efc957d718ce935bee4d6e.txt  \n",
            "  inflating: train/labels/49_jpg.rf.106ffaa3f707968d4ed3f064d99bf0aa.txt  \n",
            "  inflating: train/labels/50_jpg.rf.b04c3d947acf830a70e3b2ae81ebe7bc.txt  \n",
            "  inflating: train/labels/514bccKIbfL_jpg.rf.0e5a857a545df4b535637cc77a6fffee.txt  \n",
            "  inflating: train/labels/51_jpg.rf.cbea82718ead89874abb107145e27208.txt  \n",
            "  inflating: train/labels/52227087276_03957abab9_k_jpg.rf.720bfe8b34597b3f0e2afee488907d91.txt  \n",
            "  inflating: train/labels/52_jpg.rf.77cb28ac2d216b467d53b2d4f27df652.txt  \n",
            "  inflating: train/labels/53_jpg.rf.ddaa11e08af5e7e01182ff08878b638e.txt  \n",
            "  inflating: train/labels/55_jpg.rf.222151fc0434ba13f64fca8546c6dc13.txt  \n",
            "  inflating: train/labels/56_jpg.rf.fbe2504a79c168f996763861e28b1f39.txt  \n",
            "  inflating: train/labels/57_jpg.rf.fd5cf3e08741dbef7dde9594af19a641.txt  \n",
            "  inflating: train/labels/59_jpg.rf.f560f8317de0c136d723b451c8d58e63.txt  \n",
            "  inflating: train/labels/60_jpg.rf.d3e490e9650131b4e522251694bad24d.txt  \n",
            "  inflating: train/labels/61_jpg.rf.000485f5a7bd33b7648d1ef60c0be15a.txt  \n",
            "  inflating: train/labels/62_jpg.rf.db5ddc3407402070ff6935c5ce624f75.txt  \n",
            "  inflating: train/labels/63_jpg.rf.ca25fa198d55334586f4bfc404a01438.txt  \n",
            "  inflating: train/labels/64_jpg.rf.aacd6d51e30201db3bfb6d2dc7f08cf3.txt  \n",
            "  inflating: train/labels/66_jpg.rf.65d53a0bfd8f1a0059ab205564c293c6.txt  \n",
            "  inflating: train/labels/67_jpg.rf.7b69d2678807963d993882f12b2a6b09.txt  \n",
            " extracting: train/labels/68_jpg.rf.1295f43c1f5b082d912bb11e4828da0f.txt  \n",
            "  inflating: train/labels/69_jpg.rf.3370173183642005b719d17b25aa65aa.txt  \n",
            "  inflating: train/labels/71_jpg.rf.7ba00a0365fbf443f1e849c9a294e9f7.txt  \n",
            "  inflating: train/labels/73_jpg.rf.ba7f71d8e5a7c515d96b7373affd4078.txt  \n",
            "  inflating: train/labels/76_jpg.rf.782496532e88e9c2f27c60525caa4bdb.txt  \n",
            "  inflating: train/labels/77_jpg.rf.0bae4abd2f91a3a21f0fca339a8c36c3.txt  \n",
            "  inflating: train/labels/7d6d1e8389ad2bc9cd2873a8c05d9fc7_jpg.rf.dcf9c6b12381e5809991b78261c86200.txt  \n",
            "  inflating: train/labels/80_jpg.rf.27eba251b42bfdefc14f31a005db0739.txt  \n",
            "  inflating: train/labels/82_jpg.rf.0fb03e2ef7472e228eef7fb02443e5ec.txt  \n",
            "  inflating: train/labels/84_jpg.rf.54e6bdfc8830ca91d701bb78ef252428.txt  \n",
            " extracting: train/labels/85_jpg.rf.ec7d49fef9d3ce995774cb378d353ec8.txt  \n",
            "  inflating: train/labels/86_jpg.rf.3fc53214605295c9dffd26ac0135652c.txt  \n",
            "  inflating: train/labels/87_jpg.rf.6474de088d617b9a4aad5fcf600f608c.txt  \n",
            "  inflating: train/labels/88_jpg.rf.657f7455dc0263bc43f2317d98eb1dfa.txt  \n",
            "  inflating: train/labels/949073E7-9C9C-459B-B08A-13D8ED5BCC56_jpg.rf.2a4b4758579ed3301824ac96369a8f4e.txt  \n",
            "  inflating: train/labels/AgenciaNoticias-20170329-01_01_jpg.rf.90dc6fca06e65b6a8f78037bc8c2dc64.txt  \n",
            "  inflating: train/labels/AgenciaNoticias-20170329-03_01_jpg.rf.af648902a709e59ffcb97b0cf2474a92.txt  \n",
            "  inflating: train/labels/COld-Hardy-Banana-1_jpg.rf.6fb7c89dcb1f55880f962ee4707106b9.txt  \n",
            "  inflating: train/labels/ColdHardyBasjooBanana_2_720x_webp.rf.7ee9e4e676466cdd029118c7359a0999.txt  \n",
            "  inflating: train/labels/D_NQ_NP_859991-MLU48417065295_122021-O_webp.rf.f36f370e24b92f7291fb5644a0efd67e.txt  \n",
            "  inflating: train/labels/Daotien_jpg.rf.068ba643cdb96226768993e826d53007.txt  \n",
            "  inflating: train/labels/IMG-20241206-WA0006-1-_jpg.rf.83aa059c2ddd297528e95108a82643bd.txt  \n",
            "  inflating: train/labels/IMG-20241206-WA0007_jpg.rf.da0cfeb4b7db18d4cc285d75fe85d4ca.txt  \n",
            "  inflating: train/labels/IMG-20241206-WA0008_jpg.rf.1ed442bdce47ae0591e15ffad6aa6986.txt  \n",
            "  inflating: train/labels/IMG-20241206-WA0012_jpg.rf.1b94e236fd8da3c112ee80e3e3280f44.txt  \n",
            "  inflating: train/labels/IMG20241027110556_jpg.rf.475ef97c15ef43d175eb1a6f8d236ecd.txt  \n",
            "  inflating: train/labels/IMG20241027110558_jpg.rf.03f3398f5e360ba5492c1ae699cfff22.txt  \n",
            "  inflating: train/labels/IMG20241027110605_jpg.rf.57bd40f42c3aa41fe1018c0ad6e4636e.txt  \n",
            "  inflating: train/labels/IMG20241027110612_jpg.rf.e7564cf42873cb018559fed74cac5568.txt  \n",
            "  inflating: train/labels/IMG20241027110732_jpg.rf.f0d5a95471fa0942d35ffa0bb83b32d9.txt  \n",
            "  inflating: train/labels/IMG20241027110744_jpg.rf.412016206f917296d671017412d92224.txt  \n",
            "  inflating: train/labels/IMG20241027110809_jpg.rf.7b2a841b8d23e9219655d675130d1234.txt  \n",
            " extracting: train/labels/IMG20241027110818_jpg.rf.a7552aaaeb1770492ffaa4c2262ee4b0.txt  \n",
            "  inflating: train/labels/IMG20241027110823_jpg.rf.c8e6b22c0a35afc96fe09ef8c5dd3ed7.txt  \n",
            "  inflating: train/labels/IMG20241027110857_jpg.rf.f8210598e0204a882561d5b84cfd3905.txt  \n",
            "  inflating: train/labels/IMG20241027110903_jpg.rf.b9c9a15a98cf12a06171100420038ef4.txt  \n",
            "  inflating: train/labels/IMG20241027111649_jpg.rf.90ed9f4d8b621b2e354f92f7868c0b20.txt  \n",
            "  inflating: train/labels/IMG20241027111658_jpg.rf.eb2f6d5017eb9264c4add4c71c1cdb33.txt  \n",
            "  inflating: train/labels/IMG20241027111705_jpg.rf.bfe0cf25d2301187dda0696b0c722d94.txt  \n",
            "  inflating: train/labels/IMG20241027112520_jpg.rf.66da22f2d8ae28c17231f700671572dd.txt  \n",
            "  inflating: train/labels/IMG20241027112522_jpg.rf.6c219c335766ed9d2ff958c152594a55.txt  \n",
            "  inflating: train/labels/IMG20241027112555_jpg.rf.cb0a4ffc8693f72160c59e6ae9f3bce7.txt  \n",
            "  inflating: train/labels/IMG20241027112603_jpg.rf.be13441945b968cdbaeacc720ff06a04.txt  \n",
            "  inflating: train/labels/IMG20241027112722_jpg.rf.5dda41f8c2b61f2824d675e5d7bf3611.txt  \n",
            "  inflating: train/labels/IMG20241027112732_jpg.rf.d218ded181d4d973676d3af976be09fb.txt  \n",
            "  inflating: train/labels/IMG20241027112735_jpg.rf.afa190503c77dca4983bbe9235e35ec9.txt  \n",
            "  inflating: train/labels/IMG20241027112737_jpg.rf.9b8e231a7eb3b324ba0a64b5d4f08b6b.txt  \n",
            "  inflating: train/labels/IMG20241027112740_jpg.rf.3e81bcffa304c84484660c882359aeec.txt  \n",
            "  inflating: train/labels/IMG20241027112749_jpg.rf.103022d6b0d57f5c7bac3e1dc33bf489.txt  \n",
            "  inflating: train/labels/IMG20241027112754_jpg.rf.3dfc0645e5b0f61fa26d1362c35ec4e5.txt  \n",
            "  inflating: train/labels/IMG20241027112810_jpg.rf.7d71ccc75c4c228b5c78fd45a93d48e9.txt  \n",
            "  inflating: train/labels/IMG20241027112812_jpg.rf.ec227b6294ff34a53d7c4f4c012af452.txt  \n",
            "  inflating: train/labels/IMG20241027112822_jpg.rf.103c94bacdc86e7254dfba753780ba5c.txt  \n",
            "  inflating: train/labels/IMG20241027112832_jpg.rf.6a6804af496cec7aa00284934e62630c.txt  \n",
            "  inflating: train/labels/IMG20241027112847_jpg.rf.0f665b6a02f7c59e5ab3ff944d007d35.txt  \n",
            "  inflating: train/labels/IMG20241027113859_jpg.rf.71e3b2c446bc5f8c898c9dd666d30f4d.txt  \n",
            "  inflating: train/labels/IMG20241027113909_jpg.rf.527f7307cdae12ae33b9e7d0eae1013d.txt  \n",
            "  inflating: train/labels/IMG20241027113955_jpg.rf.5e54df4f0b9ef630a826ead948535f47.txt  \n",
            "  inflating: train/labels/IMG20241027115358_jpg.rf.6dcbfd01ce65fc477076b8f010da6f92.txt  \n",
            "  inflating: train/labels/IMG20241027115401_jpg.rf.e8d3cfe0a9ff3b3a7b7bdf5413572062.txt  \n",
            "  inflating: train/labels/IMG20241027115818_jpg.rf.242c3a8ba99195fd798d4fa1ae9b45c8.txt  \n",
            "  inflating: train/labels/IMG20241027115823_jpg.rf.89e01b9b0ef7541ebe383fb9d8880a41.txt  \n",
            "  inflating: train/labels/IMG20241205160416_jpg.rf.c0be3ffd88ba2174ae7f66b9d3d02308.txt  \n",
            "  inflating: train/labels/IMG20241205160437_jpg.rf.4e6bb83218ccbc4e5c693adda6bd8308.txt  \n",
            "  inflating: train/labels/IMG20241205160526_jpg.rf.26e3c2344f50e923b097e112f3631a0d.txt  \n",
            "  inflating: train/labels/IMG20241205160529_jpg.rf.5eed6b216d1d27e5d59ad81e926cdae8.txt  \n",
            "  inflating: train/labels/IMG20241205160532_jpg.rf.14e75bedf420c83db114d748c61c5740.txt  \n",
            "  inflating: train/labels/IMG20241205160534_jpg.rf.960864b79ea912400d66ba9af1d1b115.txt  \n",
            "  inflating: train/labels/IMG20241205161239_jpg.rf.91c576f8674e77f53de34a09d92413a3.txt  \n",
            " extracting: train/labels/IMG20241205161247_jpg.rf.1d86621832822ad28ad2fb8bef0a0ef9.txt  \n",
            "  inflating: train/labels/IMG20241205161312_jpg.rf.2223da33cd75e237733cc1eb503f3755.txt  \n",
            "  inflating: train/labels/IMG20241205161329_jpg.rf.74507647d2b3254f96cbed37c00a74cf.txt  \n",
            "  inflating: train/labels/IMG20241205161340_jpg.rf.64f2982bdb0bf8e3ca924bc281372c26.txt  \n",
            "  inflating: train/labels/IMG20241205161403_jpg.rf.840f888611262dc40a57dc5a42eea4ad.txt  \n",
            "  inflating: train/labels/IMG20241205161406_jpg.rf.08a7e80126ad07c51a6482a9fbc7f34d.txt  \n",
            "  inflating: train/labels/IMG20241205161526_jpg.rf.af85d401771dbca5c6cf4dd5a2327217.txt  \n",
            "  inflating: train/labels/IMG20241205161532_jpg.rf.0fef24f4aed1ce0936a05d16fa9ce30d.txt  \n",
            "  inflating: train/labels/IMG20241205161542_jpg.rf.d4bfd789e34c16bcfe6be6422db125a6.txt  \n",
            "  inflating: train/labels/IMG20241205161545_jpg.rf.ddfe82501f7f730df4668fa4c121e3dc.txt  \n",
            "  inflating: train/labels/IMG20241205161558_jpg.rf.33512b68aea4087f5a9ed6e7a39e0211.txt  \n",
            "  inflating: train/labels/IMG20241205161602_jpg.rf.705866ed8ec36c66073a0d27cf7f5cba.txt  \n",
            "  inflating: train/labels/IMG20241205161603_jpg.rf.1739001d55d76198852b15a7840e54f6.txt  \n",
            "  inflating: train/labels/IMG20241205161606_jpg.rf.8345021b51b3861267627db368c8e846.txt  \n",
            "  inflating: train/labels/IMG20241205161608_jpg.rf.1e4807fe900f7fa6a52065c2aa88a11b.txt  \n",
            "  inflating: train/labels/IMG20241205161609_jpg.rf.97bc8705d089885ce3520b2cae33a949.txt  \n",
            "  inflating: train/labels/IMG20241205161618_jpg.rf.b7a153fb7cdc62db3c66ae0a028292a3.txt  \n",
            "  inflating: train/labels/IMG20241205161619_jpg.rf.57a91ffd5a2a3dbdcfba2e7d01111922.txt  \n",
            "  inflating: train/labels/IMG20241205161629_jpg.rf.2472514cd8e629adfa1a62936361807a.txt  \n",
            "  inflating: train/labels/IMG20241205161658_jpg.rf.778abd12de398ab2b7d9ad9aefa4caa8.txt  \n",
            "  inflating: train/labels/IMG20241205161702_jpg.rf.adb248f6a9332fc9d1d75ecf23b501aa.txt  \n",
            "  inflating: train/labels/IMG20241205161713_jpg.rf.f4561282b09b5cb2ee01d4482b761390.txt  \n",
            "  inflating: train/labels/IMG20241205161719_jpg.rf.09ae661952cfff5acd4883cc0b5b2644.txt  \n",
            "  inflating: train/labels/IMG20241205161722_jpg.rf.26e7a4207a5639aaa3767827e416f978.txt  \n",
            "  inflating: train/labels/IMG20241205161730_jpg.rf.27cea620743ae6a51eacaab2f1fbca85.txt  \n",
            "  inflating: train/labels/IMG20241205161734_jpg.rf.98699be3ca97eb73e145aa098b84fce2.txt  \n",
            "  inflating: train/labels/IMG20241205161738_jpg.rf.04fabade78003b85ef14a597f9b67f84.txt  \n",
            "  inflating: train/labels/IMG20241205161747_jpg.rf.57c035ad6ea8e285e7deae946f735f73.txt  \n",
            "  inflating: train/labels/IMG20241205161757_jpg.rf.b0d9aa77509dfdf7880232b63d83c274.txt  \n",
            "  inflating: train/labels/IMG20241205161806_jpg.rf.2b4e793cb127e20c99346622925dffff.txt  \n",
            "  inflating: train/labels/IMG20241206150051_jpg.rf.bda01ee3a2d7c2360ef9d29803c9adbd.txt  \n",
            "  inflating: train/labels/IMG20241206150104_jpg.rf.c43bd576dbb0a7a0f0c9d23ac4b4e767.txt  \n",
            "  inflating: train/labels/IMG20241206150108_jpg.rf.405af99e62356a596204215b44b35905.txt  \n",
            "  inflating: train/labels/IMG20241206150114_jpg.rf.3b7a97ef49068f5c8da92e7a4aa7c6a2.txt  \n",
            "  inflating: train/labels/IMG20241206150122_jpg.rf.5388d846eecb79561d7b5a9b57ce69d3.txt  \n",
            "  inflating: train/labels/IMG20241206150134_jpg.rf.c24c0be174c9edf7d1fc8f612857d230.txt  \n",
            "  inflating: train/labels/IMG20241206150138_jpg.rf.10abd214114ed30cb0eaf61ff4426aab.txt  \n",
            "  inflating: train/labels/IMG20241206150149_jpg.rf.5b1a8a611e0064d8a067e8111c81086c.txt  \n",
            "  inflating: train/labels/IMG20241206150210_jpg.rf.4687f4da275216dbd5f3aea06709d56d.txt  \n",
            "  inflating: train/labels/IMG20241206150212_jpg.rf.9fb7bef973ba47f7c9c4e4973e26c5c8.txt  \n",
            "  inflating: train/labels/IMG20241206150218_jpg.rf.71e4415d77800121a421b008ae12711d.txt  \n",
            "  inflating: train/labels/IMG20241206150229_jpg.rf.068dfce2fcfa749d6a5759593c1f9bde.txt  \n",
            "  inflating: train/labels/IMG20241206150248_jpg.rf.c34fd79fc736ffd330950858da8f32cd.txt  \n",
            "  inflating: train/labels/IMG20241206150255_jpg.rf.53c14d7514f20f356c02de1684b6acc2.txt  \n",
            "  inflating: train/labels/IMG20241206150300_jpg.rf.f9a494458b13cc412a1def6a2ba582f7.txt  \n",
            "  inflating: train/labels/IMG20241206150309_jpg.rf.502976f15abff746664d30896e1dde65.txt  \n",
            "  inflating: train/labels/IMG20241206150312_jpg.rf.cbf16f762fcd172c495032138d1a4196.txt  \n",
            "  inflating: train/labels/IMG20241206150319_jpg.rf.6b23fc2c8e8999f1b3d4e4330e9845b1.txt  \n",
            "  inflating: train/labels/IMG20241206150331_jpg.rf.ca5472a169dc87b889118e1e73dd3275.txt  \n",
            "  inflating: train/labels/IMG20241206150336_jpg.rf.2d1362a2104259638252c4c13fbdca49.txt  \n",
            "  inflating: train/labels/IMG20241206150340_jpg.rf.b70329c78364aea0c30c7b43c1d19b93.txt  \n",
            "  inflating: train/labels/IMG20241206150349_jpg.rf.070a49d9f1367b0ab7e1b478af045ccc.txt  \n",
            "  inflating: train/labels/IMG20241206150352_jpg.rf.b4810044e175ecdcdb01182ef891081a.txt  \n",
            "  inflating: train/labels/IMG20241206150359_jpg.rf.38fcb9ee2d5d30033f871a551a9a223b.txt  \n",
            "  inflating: train/labels/IMG20241206150441_jpg.rf.6756754bc84bd3d911f2002a405e897e.txt  \n",
            "  inflating: train/labels/IMG20241206150507_jpg.rf.b83ad825d1ebc576ff6edcc6badccb0c.txt  \n",
            "  inflating: train/labels/IMG20241206150508_jpg.rf.f047465d5812398dd1ff1244d7110238.txt  \n",
            "  inflating: train/labels/IMG20241206150510_jpg.rf.253b5d79a636336f6efd34d9e2b58113.txt  \n",
            "  inflating: train/labels/IMG20241206150521_jpg.rf.9a093b2089f2ba214caad3402162a50b.txt  \n",
            "  inflating: train/labels/IMG20241206150523_jpg.rf.19646f33b03d35af9cc13606d01b57d7.txt  \n",
            "  inflating: train/labels/IMG20241206150530_jpg.rf.2cbebc5a4851f61f69be84ab275023b1.txt  \n",
            "  inflating: train/labels/IMG20241206150532_jpg.rf.0c1b4eea418358f5d3367976a8e39253.txt  \n",
            "  inflating: train/labels/IMG20241206150536_jpg.rf.51d23f2322d06155fd774c6f40518189.txt  \n",
            "  inflating: train/labels/IMG20241206150538_jpg.rf.c7092787322d4a12df72374c2c71c0c9.txt  \n",
            "  inflating: train/labels/IMG20241206150542_jpg.rf.3ad8c9b9e99429a68f771db5505796d5.txt  \n",
            "  inflating: train/labels/IMG20241206150550_jpg.rf.df6c40a12faf74cad9459d3c11d2d4f9.txt  \n",
            "  inflating: train/labels/IMG20241206150556_jpg.rf.c72aee436bbcbb4b8b88f731cb86a9fc.txt  \n",
            "  inflating: train/labels/IMG20241206150613_jpg.rf.2b9ebe1dff5178738dae9906190f0abb.txt  \n",
            "  inflating: train/labels/IMG20241206150620_jpg.rf.04ed1328e208ccb245719a374816e4a5.txt  \n",
            "  inflating: train/labels/IMG20241206150624_jpg.rf.c0c6b939deabbcfe683916af46ee7aa0.txt  \n",
            "  inflating: train/labels/IMG20241206150626_jpg.rf.b834233a0a4d369ca6e380044417be3d.txt  \n",
            "  inflating: train/labels/IMG20241206150633_jpg.rf.f7ed3e0391eedc216292e6fcd672dacc.txt  \n",
            "  inflating: train/labels/IMG20241206150636_jpg.rf.155ba04b4c95076810282cec0f59b449.txt  \n",
            "  inflating: train/labels/IMG20241206150637_jpg.rf.cf9ab231e1035346adb738e4110c781a.txt  \n",
            "  inflating: train/labels/IMG20241206150641_jpg.rf.0e0b87433642371a0c9727b3d0a36a38.txt  \n",
            "  inflating: train/labels/IMG20241206150705_jpg.rf.fbeec3d12a05b187eab3fe87d581d3a5.txt  \n",
            "  inflating: train/labels/IMG20241206150729_jpg.rf.984efc2d8a7d640e9d1388421c06c348.txt  \n",
            "  inflating: train/labels/IMG20241206150731_jpg.rf.e829fe01c765822773e7c48d0ec4465b.txt  \n",
            "  inflating: train/labels/IMG20241206150734_jpg.rf.15794e25f9dea2c482c9b04b18ece2ec.txt  \n",
            "  inflating: train/labels/IMG20241206150753_jpg.rf.a44d783fad7f5ad3d30139fdaaba9660.txt  \n",
            " extracting: train/labels/IMG20241206150758_jpg.rf.58442788c9a93fd3b8ea118152b17036.txt  \n",
            "  inflating: train/labels/IMG20241206150801_jpg.rf.4eead8e7f494f2e74d1b3539f48db190.txt  \n",
            " extracting: train/labels/IMG20241206150803_jpg.rf.5d5687690d9729445916ffea1ec9b3b8.txt  \n",
            "  inflating: train/labels/IMG20241206150811_jpg.rf.a95d902765b5b03acbae74e3f6f89c38.txt  \n",
            "  inflating: train/labels/IMG20241206150826_jpg.rf.95ea187689e011cf3d792576c384673a.txt  \n",
            "  inflating: train/labels/IMG20241206150829_jpg.rf.90ff7d45a619dc5b46861890aac6b9be.txt  \n",
            "  inflating: train/labels/IMG20241206150830_jpg.rf.96f589f029acadf554060a783846ccd3.txt  \n",
            "  inflating: train/labels/IMG20241206150837_jpg.rf.09e033c9827360a4fef79b861e0aba4b.txt  \n",
            "  inflating: train/labels/IMG20241206150838_jpg.rf.9de67762368877d2f87fed6f7ac38852.txt  \n",
            "  inflating: train/labels/IMG20241206150841_jpg.rf.c74a257f49ff68eb036bb027beb4a3e9.txt  \n",
            "  inflating: train/labels/IMG20241206150853_jpg.rf.7a212d169f207553210dc9d205177af9.txt  \n",
            "  inflating: train/labels/IMG20241206150904_jpg.rf.eb8fcf5916950827c1ddef373f2dee32.txt  \n",
            "  inflating: train/labels/IMG20241206150907_jpg.rf.d99a381a197a776bed03ee2c6865607e.txt  \n",
            "  inflating: train/labels/IMG20241206150908_jpg.rf.696d5a4112b2cad59ad235c2b8e28153.txt  \n",
            "  inflating: train/labels/IMG_20241027_110544_jpg.rf.a4537aa2336e6e76f869436b49245b7f.txt  \n",
            "  inflating: train/labels/IMG_20241027_110642_jpg.rf.02f9d43e6b3ab081459d5639416d19a5.txt  \n",
            "  inflating: train/labels/IMG_20241027_110710_jpg.rf.0a5f7b05a74989e127f916b1e8b566e1.txt  \n",
            "  inflating: train/labels/IMG_20241027_110718_jpg.rf.29b01852943faf185209d93627122f3d.txt  \n",
            "  inflating: train/labels/IMG_20241027_111355_jpg.rf.4e8deba8688aeeb9b8b68c6b51c6b301.txt  \n",
            "  inflating: train/labels/IMG_20241027_112216_jpg.rf.022daf068d257ba68b909b1f70548a9b.txt  \n",
            "  inflating: train/labels/IMG_20241027_112244_jpg.rf.70b3903556f4335eaf34b709c79d6e24.txt  \n",
            "  inflating: train/labels/IMG_20241027_112253_jpg.rf.5ed22972d4f88ee7eb4fe90956d02629.txt  \n",
            "  inflating: train/labels/IMG_20241027_112308_jpg.rf.734c31ee964e5afc62fbb37cd567ac07.txt  \n",
            "  inflating: train/labels/IMG_20241027_112357_jpg.rf.d4c753be098dd70507cce0ea09b63fbf.txt  \n",
            "  inflating: train/labels/IMG_20241027_112416_jpg.rf.c41e58b1e11047e99a0b52d1e477fe0a.txt  \n",
            "  inflating: train/labels/IMG_20241027_112424_jpg.rf.0f5222906b372dcd4e817f75976df30f.txt  \n",
            "  inflating: train/labels/IMG_20241027_112428_jpg.rf.77b60a64940cc7f743cbf348d2aff96c.txt  \n",
            "  inflating: train/labels/IMG_20241027_112447_jpg.rf.00f00a2e84f33c26be61eade2c8faa72.txt  \n",
            "  inflating: train/labels/IMG_20241027_112455_jpg.rf.d16dc4bf573222e6261dee95b14ac1c1.txt  \n",
            "  inflating: train/labels/IMG_20241027_112501_jpg.rf.f868947c2ed723d125a5e15214c8ef5d.txt  \n",
            "  inflating: train/labels/IMG_20241027_112512_jpg.rf.a5eb1a55a1f1bcc822e6b5c55ae319ce.txt  \n",
            "  inflating: train/labels/IMG_20241027_112519_jpg.rf.f6821e0bbbe10d7a65ffe35e229b3d0e.txt  \n",
            "  inflating: train/labels/IMG_20241027_112530_jpg.rf.d47e3619c7726b5d35380b0b5c930cd0.txt  \n",
            "  inflating: train/labels/IMG_20241027_112539_jpg.rf.b5e3be3de5cc1ef004c9e5454dd8587d.txt  \n",
            "  inflating: train/labels/IMG_20241027_112952_jpg.rf.290abd51b14166bdd51c5c8b93fbb13a.txt  \n",
            "  inflating: train/labels/IMG_20241027_113005_jpg.rf.018b9207f0afd81a0b1ef9a54f956afb.txt  \n",
            "  inflating: train/labels/IMG_20241027_113027_jpg.rf.404b3368f1a308678256192d8d25db1b.txt  \n",
            "  inflating: train/labels/IMG_20241027_113028_jpg.rf.7c127e7d010b8b03772cc7cef012700a.txt  \n",
            "  inflating: train/labels/IMG_20241027_113039_jpg.rf.710d31d630fe742334cadbc649347ca4.txt  \n",
            "  inflating: train/labels/IMG_20241126_161236_jpg.rf.a1d631aa00ea58907f3ec1e9f342dfb5.txt  \n",
            "  inflating: train/labels/IMG_20241126_161239_jpg.rf.3186b5e1d88205a1b54860ab8cc100fa.txt  \n",
            "  inflating: train/labels/IMG_20241126_161324_jpg.rf.d7987031b21c9d9dd11cd7f11628cdcf.txt  \n",
            "  inflating: train/labels/IMG_20241126_161413_jpg.rf.2a495d58c02e87afba2ca285363ee724.txt  \n",
            "  inflating: train/labels/IMG_20241126_161416_jpg.rf.a0eff9e304b1d5e259d10fd27e99c140.txt  \n",
            "  inflating: train/labels/IMG_20241126_161426_jpg.rf.d16a479375ce7e70df37159ec062c5c1.txt  \n",
            "  inflating: train/labels/IMG_20241126_161440_jpg.rf.16dd9f5417250fada688d4919d963a31.txt  \n",
            "  inflating: train/labels/IMG_20241126_161453_jpg.rf.283f088904823e92bd60824dd5dedfc4.txt  \n",
            "  inflating: train/labels/IMG_20241126_161516_jpg.rf.b39ecd3ea1f077a3413b18461ab12dc4.txt  \n",
            "  inflating: train/labels/IMG_20241126_161524_jpg.rf.4602b98b689f7cd78348079128b038de.txt  \n",
            "  inflating: train/labels/IMG_20241126_161531_jpg.rf.02ca2b8a24572dc288a588768982058c.txt  \n",
            "  inflating: train/labels/IMG_20241126_161548_jpg.rf.4a681cf2e6c66b4c186397aecdb16098.txt  \n",
            "  inflating: train/labels/IMG_20241126_161600_jpg.rf.58aaf52bbbbae52a009f571028466da1.txt  \n",
            "  inflating: train/labels/IMG_20241129_122846_jpg.rf.b5660fdb98bdb7f3dacbac8feaa6be92.txt  \n",
            "  inflating: train/labels/IMG_20241129_122854_jpg.rf.942f72a5d1c75a4593b3adcf26c9eacc.txt  \n",
            "  inflating: train/labels/IMG_20241129_122910_jpg.rf.4bb79b3a0f7824d3db9796e02f6a263b.txt  \n",
            "  inflating: train/labels/IMG_20241129_122919_jpg.rf.d0c46f5e6045a7930f440fe76974f7a2.txt  \n",
            "  inflating: train/labels/IMG_20241130_161448_jpg.rf.51a672465b0dd0898a9059cce341eb0d.txt  \n",
            "  inflating: train/labels/IMG_20241130_161454_jpg.rf.603143235d2ac58cd13545a81bdbd79a.txt  \n",
            "  inflating: train/labels/IMG_20241205_163708_jpg.rf.6d7e0b2c744bac1067c10267976fef20.txt  \n",
            "  inflating: train/labels/Imagen-de-WhatsApp-2024-11-21-a-las-14-44-18_3a052335_jpg.rf.0a1c7cf5559ef72e1ef1ed68d00d9446.txt  \n",
            "  inflating: train/labels/Imagen-de-WhatsApp-2024-11-21-a-las-14-44-39_b0f93e0f_jpg.rf.5fa04d8120b1fe62cbe16b4fa89d80a3.txt  \n",
            "  inflating: train/labels/Imagen-de-WhatsApp-2024-11-21-a-las-14-44-40_d9fd6706_jpg.rf.e08a4549f37c4562f304084487a977a5.txt  \n",
            "  inflating: train/labels/Imagen-de-WhatsApp-2024-11-21-a-las-14-44-41_51bbd61d_jpg.rf.581a094a4c88925185cad14ccf9b90da.txt  \n",
            "  inflating: train/labels/P10_webp.rf.a1f2a11ee3b50e94c19abc7008f62920.txt  \n",
            "  inflating: train/labels/P11_jpg.rf.d6dc87dea5ae4b7114258433d30db257.txt  \n",
            "  inflating: train/labels/P12_jpg.rf.a812d8f5c6080a6c3d73810b84c89dbd.txt  \n",
            "  inflating: train/labels/P13_jpg.rf.aae51c9055bd7cef6b4baa8ecb41e8e9.txt  \n",
            "  inflating: train/labels/P15_jpg.rf.3e40035a5d011a98206237aa5c4c0880.txt  \n",
            "  inflating: train/labels/P17_png.rf.f0ca9cce0c68e64feca4fecebd5e73b3.txt  \n",
            "  inflating: train/labels/P19_jpg.rf.0481a585cb01b55130fda6157fef2f3b.txt  \n",
            "  inflating: train/labels/P1_jpg.rf.ee5f125a720dbe34de2cd2ec27bb4a23.txt  \n",
            "  inflating: train/labels/P20_jpg.rf.81e757e8b08fe0db9a286944de002fc1.txt  \n",
            "  inflating: train/labels/P22_jpg.rf.03a09d73f8bacdd65764e1594ab4f118.txt  \n",
            "  inflating: train/labels/P23_jpg.rf.04d97a7a67814935133f95a8edebeaba.txt  \n",
            "  inflating: train/labels/P24_jpg.rf.cfc7bbf8618a93926dc8bd526cea92d2.txt  \n",
            "  inflating: train/labels/P25_jpg.rf.e5338ce1129f7296658f761912dff3a4.txt  \n",
            "  inflating: train/labels/P28_jpg.rf.3ce36baf3f98899a1f5b6b7f1d37f566.txt  \n",
            "  inflating: train/labels/P32_webp.rf.5717934e31538d9fdbcf62fdec0b9461.txt  \n",
            "  inflating: train/labels/P33_webp.rf.9e764c823808030315bc9eca302db8c4.txt  \n",
            "  inflating: train/labels/P34_webp.rf.93fb60ef85fca3b1ceaf8f16ec9b4115.txt  \n",
            "  inflating: train/labels/P36_png.rf.c5852a37e1e1fdbf2f854a3c205e76a0.txt  \n",
            "  inflating: train/labels/P37_png.rf.70327330042eef393ec37a91467e6115.txt  \n",
            "  inflating: train/labels/P3_jpg.rf.40f46804a4d97d7c5e9fbec04dc33790.txt  \n",
            "  inflating: train/labels/P4_jpg.rf.a6b91624f1e09590b32f054dfc995980.txt  \n",
            "  inflating: train/labels/P5_jpg.rf.c11020eb41163eb3d88698d1744ad1c3.txt  \n",
            "  inflating: train/labels/P6_jpg.rf.2b580fae8b9887ff7c51368cde07be86.txt  \n",
            "  inflating: train/labels/P8_jpg.rf.24ba68ed677cc2c8c4fe56ec9a88626d.txt  \n",
            "  inflating: train/labels/P9_webp.rf.63e145b619f8bae85612310065514350.txt  \n",
            "  inflating: train/labels/banana1_jpg.rf.9dc93939831941a95906603a1c7458ed.txt  \n",
            "  inflating: train/labels/cultivares-nuevos-panama_jpg.rf.2feffd34fcc2d9101026110cd634fb8e.txt  \n",
            "  inflating: train/labels/el-efecto-platano-de-tabasco-felipe-luna-gatopardo-dromomanos-25-1280x853_jpg.rf.28befa39073c44b83325130c9fffbc49.txt  \n",
            "  inflating: train/labels/el-efecto-platano-de-tabasco-felipe-luna-gatopardo-dromomanos-26_jpg.rf.7c086f0f5c0b235655b271a8a03d4020.txt  \n",
            "  inflating: train/labels/musa_x_paradisiaca_01-1-_jpg.rf.19ea9953138b3863f81a3fba12691a42.txt  \n",
            "  inflating: train/labels/musa_x_paradisiaca_01_jpg.rf.0fd27163e51ed3092c09b75f72ab73f1.txt  \n",
            "  inflating: train/labels/musa_x_paradisiaca_03_jpg.rf.44c410c3ec75df56105863e6a1d21bd2.txt  \n",
            "  inflating: train/labels/ornamental-platano-musa-paradisiaca-2-web_jpg.rf.39951e660c0ebe245a121777459cd535.txt  \n",
            "  inflating: train/labels/platanera-arbol-o-planta_jpg.rf.c8daaeb9f84b01d2f844373ac827d2b7.txt  \n",
            "  inflating: train/labels/platano-arbol_jpg.rf.9d2884e8ecec0e04d0db5e24985d4021.txt  \n",
            "  inflating: train/labels/platanos-plantas_jpg.rf.0bde156060e2cdf9ccc9de0e14a09dd0.txt  \n",
            "  inflating: train/labels/pngtree-a-hardy-banana-plant-isolated-on-transparent-background-png-image_12449997_png.rf.0cfdfe2c1107c9c902b134be7c9dd850.txt  \n",
            "  inflating: train/labels/uraba_portada_ipc_jpg.rf.585c19f30c21a6dbcde613d823e2445c.txt  \n",
            "   creating: valid/\n",
            "   creating: valid/images/\n",
            " extracting: valid/images/23_jpg.rf.84d2bbdeef5d0ba0f6a0034884857a6e.jpg  \n",
            " extracting: valid/images/32_jpg.rf.f9c064abba72f706a971300beac8c998.jpg  \n",
            " extracting: valid/images/423134375_396962286202431_3670476090405551064_n_jpg.rf.c4f2ca7a69a9c19ef7ac747f028ee5ee.jpg  \n",
            " extracting: valid/images/44_jpg.rf.746b6210c14ed53c4f790959cf3ed5bb.jpg  \n",
            " extracting: valid/images/463137856_1616235765620361_1352570577662952008_n_jpg.rf.013da3e0a352a026f76e421f558cae1f.jpg  \n",
            " extracting: valid/images/463904727_536885535758296_8393096194292755433_n_jpg.rf.a95631943ef4b627e5a5921bb36f5239.jpg  \n",
            " extracting: valid/images/47_jpg.rf.694d3bf8ceed1b8a35bffd738e9b9a8b.jpg  \n",
            " extracting: valid/images/4eba8666d391b6d4c6f069af36383294_jpg.rf.86cba48b20b6ec12866aa507f2495469.jpg  \n",
            " extracting: valid/images/58_jpg.rf.b8ce76b558b504264fe1e28f11db1a98.jpg  \n",
            " extracting: valid/images/70_jpg.rf.59a14cd0bf6d29c623dea8979c5f7c6a.jpg  \n",
            " extracting: valid/images/72_jpg.rf.349732e950572b80a78b7da1eea55b67.jpg  \n",
            " extracting: valid/images/74_jpg.rf.f895445c4d0f12202f83c27ff6e82e2b.jpg  \n",
            " extracting: valid/images/75_jpg.rf.f7a80a91eef88807f9f8abef698061b2.jpg  \n",
            " extracting: valid/images/78_jpg.rf.269a1b27589aa09bc0fcee2e2ace7065.jpg  \n",
            " extracting: valid/images/79_jpg.rf.0a13f2b6a277f4c26046f7c16282f146.jpg  \n",
            " extracting: valid/images/81_jpg.rf.8abe2c9a8b7cc87fe926aa455f1b87f8.jpg  \n",
            " extracting: valid/images/AgenciaNoticias-20170329-02_01_jpg.rf.b1825910a2ee199f3c3e8587caad2252.jpg  \n",
            " extracting: valid/images/IMG20241027110110_jpg.rf.0dd1eb184849fb8922dd7473bb2cb6e3.jpg  \n",
            " extracting: valid/images/IMG20241027110115_jpg.rf.0cbdaea9863b907a027b50b179f9c96b.jpg  \n",
            " extracting: valid/images/IMG20241027110807_jpg.rf.2e52091bd80487b39bcb22abcc85885f.jpg  \n",
            " extracting: valid/images/IMG20241027111648_jpg.rf.6653b3def6e6e5586108362e540c78d6.jpg  \n",
            " extracting: valid/images/IMG20241027112559_jpg.rf.34513cdfdca73df24c6678e3238e3713.jpg  \n",
            " extracting: valid/images/IMG20241027112609_jpg.rf.4c8de5551af3c568e3565fd00c2cf0e7.jpg  \n",
            " extracting: valid/images/IMG20241027112715_jpg.rf.aa6f44f4ada8626ee2b3bf63348f6ac6.jpg  \n",
            " extracting: valid/images/IMG20241027112719_jpg.rf.e189d626d5e2057c933d0021f321632c.jpg  \n",
            " extracting: valid/images/IMG20241027112744_jpg.rf.584939bd0d667c7e598b561246096b23.jpg  \n",
            " extracting: valid/images/IMG20241027112825_jpg.rf.25d163dd0b65d7aa7fa645edde1780e2.jpg  \n",
            " extracting: valid/images/IMG20241205160406_jpg.rf.7c266742fb4021bf7704537e0ade0bdc.jpg  \n",
            " extracting: valid/images/IMG20241205160443_jpg.rf.fddd4ea1969e8c7d3b331d8b81c4e0fa.jpg  \n",
            " extracting: valid/images/IMG20241205160531_jpg.rf.e140f5e2cf84c45aa9af4bdec6053464.jpg  \n",
            " extracting: valid/images/IMG20241205161556_jpg.rf.99bf1e0e9b0ea9374cd79c01392c280b.jpg  \n",
            " extracting: valid/images/IMG20241205161626_jpg.rf.ae37b9f17822a03ee596c9f8396bd504.jpg  \n",
            " extracting: valid/images/IMG20241205161709_jpg.rf.89fa355006e9a20c3350a6ef5dd71438.jpg  \n",
            " extracting: valid/images/IMG20241205161749_jpg.rf.15c434fedf4501d276c963a2cb8c03fc.jpg  \n",
            " extracting: valid/images/IMG20241205161753_jpg.rf.210062ad45e1ac5c4e1d7c3d1ecf6b5e.jpg  \n",
            " extracting: valid/images/IMG20241205161759_jpg.rf.d55541b2918956efaf68bedf5aa2c495.jpg  \n",
            " extracting: valid/images/IMG20241205161808_jpg.rf.f49ab1f9c0616c09953f244503582ac7.jpg  \n",
            " extracting: valid/images/IMG20241206150132_jpg.rf.8426a6279c6ba0b56a81f4bd04e53404.jpg  \n",
            " extracting: valid/images/IMG20241206150136_jpg.rf.9e981b1e2ef5819466bb74ae78ff99e6.jpg  \n",
            " extracting: valid/images/IMG20241206150144_jpg.rf.c27fe9a96c7db103d4a9bfad1a3d166a.jpg  \n",
            " extracting: valid/images/IMG20241206150151_jpg.rf.46c0cc9586e285bc0fb906cd5d1c4da0.jpg  \n",
            " extracting: valid/images/IMG20241206150156_jpg.rf.89ee1ef90c4a167f076d2175f25f9440.jpg  \n",
            " extracting: valid/images/IMG20241206150221_jpg.rf.0b9d13cf3c1ffdfe261bfc4baf30012e.jpg  \n",
            " extracting: valid/images/IMG20241206150407_jpg.rf.ae9a3d2b4e36c9146c45887a6613bdac.jpg  \n",
            " extracting: valid/images/IMG20241206150454_jpg.rf.2bc675f0c4941cc00eb98de2c4596d12.jpg  \n",
            " extracting: valid/images/IMG20241206150512_jpg.rf.5f37109785cf8df527c1957e97cdf06c.jpg  \n",
            " extracting: valid/images/IMG20241206150534_jpg.rf.5b9c893f079ed66978dd68a130b2b3f8.jpg  \n",
            " extracting: valid/images/IMG20241206150639_jpg.rf.8191ce9dbbae7504585600e905028cc7.jpg  \n",
            " extracting: valid/images/IMG20241206150715_jpg.rf.adca75f6c2abc76f3d6a1ecf623f32b6.jpg  \n",
            " extracting: valid/images/IMG20241206150809_jpg.rf.ca4e1eb7be173038b27199258d660a5d.jpg  \n",
            " extracting: valid/images/IMG20241206150824_jpg.rf.1dd93ad63390699fd25cf314dc310d1d.jpg  \n",
            " extracting: valid/images/IMG20241206150828_jpg.rf.3b064c121da9966ea757e45eff35ae74.jpg  \n",
            " extracting: valid/images/IMG20241206150831_jpg.rf.007c0a7e635f2b8ee45070791533e239.jpg  \n",
            " extracting: valid/images/IMG20241206150848_jpg.rf.42905682628b982dd51ed6f71f7509c3.jpg  \n",
            " extracting: valid/images/IMG20241206150850_jpg.rf.2875b479b737a967d4a54e6b84c0298d.jpg  \n",
            " extracting: valid/images/IMG20241206150901_jpg.rf.367039ce7f966ea0ce06e866d7567a63.jpg  \n",
            " extracting: valid/images/IMG_20241027_110529_jpg.rf.a0dad6c97d211f25d624c778a5f30c85.jpg  \n",
            " extracting: valid/images/IMG_20241027_112303_jpg.rf.7fd1abbc7611217e54174dcd92b9710a.jpg  \n",
            " extracting: valid/images/IMG_20241027_112316_jpg.rf.83c390c5e215115d692144ad0123475e.jpg  \n",
            " extracting: valid/images/IMG_20241027_112453_jpg.rf.75fcaa3442b24001040a248205dbea10.jpg  \n",
            " extracting: valid/images/IMG_20241027_112543_jpg.rf.007587cafe66dfa9aa30d239f41118c3.jpg  \n",
            " extracting: valid/images/IMG_20241027_113019_jpg.rf.fb2d85e4f567e1505e74ee1af2a3e878.jpg  \n",
            " extracting: valid/images/IMG_20241027_113034_jpg.rf.6a654f65f4d1bb81de520131e7bee3ea.jpg  \n",
            " extracting: valid/images/IMG_20241027_113045_jpg.rf.0fa76f93ffe7b82f722bef347780ddd7.jpg  \n",
            " extracting: valid/images/IMG_20241027_115058_jpg.rf.77acafb3929ff10e904e6bf3df73b707.jpg  \n",
            " extracting: valid/images/IMG_20241027_115112_jpg.rf.cba2b22f0ac40a1b68426885e7a0e563.jpg  \n",
            " extracting: valid/images/IMG_20241126_161301_jpg.rf.17ba4943e246d092de412149204fcc80.jpg  \n",
            " extracting: valid/images/IMG_20241126_161320_jpg.rf.aea90538458411523e86aff266bc5f1e.jpg  \n",
            " extracting: valid/images/IMG_20241126_161520_jpg.rf.2ea9eecd6434faf4e473a6eb16c78422.jpg  \n",
            " extracting: valid/images/IMG_20241129_122837_jpg.rf.395ef76c3032abef33a9e39b89afc90f.jpg  \n",
            " extracting: valid/images/IMG_20241129_122859_jpg.rf.e1d8f5afbd7aa022da40c4c7ae3a8961.jpg  \n",
            " extracting: valid/images/JHXEW4Z27U9BSidnh0hQXCWtPXOAjzaTlq7-jpg_webp.rf.866e295a5305ed8a9beb2bd4e72737d5.jpg  \n",
            " extracting: valid/images/Musa_basjooSochi1_jpg.rf.f26f90c4b631e9c742a05322ac64595b.jpg  \n",
            " extracting: valid/images/P12_jpeg.rf.005df9d5c3949b72f485d1eab01aa5db.jpg  \n",
            " extracting: valid/images/P14_jpg.rf.8f377cb7a4950b833cdae7113421d8a2.jpg  \n",
            " extracting: valid/images/P18_jpeg.rf.96c452e30e3af52800fdb4998e3b14f7.jpg  \n",
            " extracting: valid/images/P29_jpg.rf.4b04c8556cd6290f0bb0e6c148208fed.jpg  \n",
            " extracting: valid/images/P2_webp.rf.cef5f5c03445cbc7dc78c8aa95da4502.jpg  \n",
            " extracting: valid/images/P30_jpg.rf.a8860fa5df8f25f78211328f5f0121fb.jpg  \n",
            " extracting: valid/images/P35_jpg.rf.7bee527925c6eba37597860f7c817bec.jpg  \n",
            " extracting: valid/images/c85a2b43-c4cb-4777-8b07-b80e9748732c_jpg.rf.247524684e2048c02ff9814c1d47f5d1.jpg  \n",
            " extracting: valid/images/fotor_2023-1-16_14_5_5-def_jpg.rf.35910e5fbb867b8f3324b6d30760f32f.jpg  \n",
            " extracting: valid/images/post_thumbnail-daf12fa0ab0ef739f6e8496a38e0b3ff_jpg.rf.ca4f82fa22b2174e11d81c3587b96c65.jpg  \n",
            "   creating: valid/labels/\n",
            "  inflating: valid/labels/23_jpg.rf.84d2bbdeef5d0ba0f6a0034884857a6e.txt  \n",
            "  inflating: valid/labels/32_jpg.rf.f9c064abba72f706a971300beac8c998.txt  \n",
            " extracting: valid/labels/423134375_396962286202431_3670476090405551064_n_jpg.rf.c4f2ca7a69a9c19ef7ac747f028ee5ee.txt  \n",
            "  inflating: valid/labels/44_jpg.rf.746b6210c14ed53c4f790959cf3ed5bb.txt  \n",
            "  inflating: valid/labels/463137856_1616235765620361_1352570577662952008_n_jpg.rf.013da3e0a352a026f76e421f558cae1f.txt  \n",
            "  inflating: valid/labels/463904727_536885535758296_8393096194292755433_n_jpg.rf.a95631943ef4b627e5a5921bb36f5239.txt  \n",
            "  inflating: valid/labels/47_jpg.rf.694d3bf8ceed1b8a35bffd738e9b9a8b.txt  \n",
            "  inflating: valid/labels/4eba8666d391b6d4c6f069af36383294_jpg.rf.86cba48b20b6ec12866aa507f2495469.txt  \n",
            "  inflating: valid/labels/58_jpg.rf.b8ce76b558b504264fe1e28f11db1a98.txt  \n",
            "  inflating: valid/labels/70_jpg.rf.59a14cd0bf6d29c623dea8979c5f7c6a.txt  \n",
            "  inflating: valid/labels/72_jpg.rf.349732e950572b80a78b7da1eea55b67.txt  \n",
            "  inflating: valid/labels/74_jpg.rf.f895445c4d0f12202f83c27ff6e82e2b.txt  \n",
            "  inflating: valid/labels/75_jpg.rf.f7a80a91eef88807f9f8abef698061b2.txt  \n",
            "  inflating: valid/labels/78_jpg.rf.269a1b27589aa09bc0fcee2e2ace7065.txt  \n",
            "  inflating: valid/labels/79_jpg.rf.0a13f2b6a277f4c26046f7c16282f146.txt  \n",
            "  inflating: valid/labels/81_jpg.rf.8abe2c9a8b7cc87fe926aa455f1b87f8.txt  \n",
            "  inflating: valid/labels/AgenciaNoticias-20170329-02_01_jpg.rf.b1825910a2ee199f3c3e8587caad2252.txt  \n",
            "  inflating: valid/labels/IMG20241027110110_jpg.rf.0dd1eb184849fb8922dd7473bb2cb6e3.txt  \n",
            "  inflating: valid/labels/IMG20241027110115_jpg.rf.0cbdaea9863b907a027b50b179f9c96b.txt  \n",
            "  inflating: valid/labels/IMG20241027110807_jpg.rf.2e52091bd80487b39bcb22abcc85885f.txt  \n",
            "  inflating: valid/labels/IMG20241027111648_jpg.rf.6653b3def6e6e5586108362e540c78d6.txt  \n",
            "  inflating: valid/labels/IMG20241027112559_jpg.rf.34513cdfdca73df24c6678e3238e3713.txt  \n",
            "  inflating: valid/labels/IMG20241027112609_jpg.rf.4c8de5551af3c568e3565fd00c2cf0e7.txt  \n",
            "  inflating: valid/labels/IMG20241027112715_jpg.rf.aa6f44f4ada8626ee2b3bf63348f6ac6.txt  \n",
            "  inflating: valid/labels/IMG20241027112719_jpg.rf.e189d626d5e2057c933d0021f321632c.txt  \n",
            " extracting: valid/labels/IMG20241027112744_jpg.rf.584939bd0d667c7e598b561246096b23.txt  \n",
            "  inflating: valid/labels/IMG20241027112825_jpg.rf.25d163dd0b65d7aa7fa645edde1780e2.txt  \n",
            "  inflating: valid/labels/IMG20241205160406_jpg.rf.7c266742fb4021bf7704537e0ade0bdc.txt  \n",
            "  inflating: valid/labels/IMG20241205160443_jpg.rf.fddd4ea1969e8c7d3b331d8b81c4e0fa.txt  \n",
            "  inflating: valid/labels/IMG20241205160531_jpg.rf.e140f5e2cf84c45aa9af4bdec6053464.txt  \n",
            "  inflating: valid/labels/IMG20241205161556_jpg.rf.99bf1e0e9b0ea9374cd79c01392c280b.txt  \n",
            "  inflating: valid/labels/IMG20241205161626_jpg.rf.ae37b9f17822a03ee596c9f8396bd504.txt  \n",
            "  inflating: valid/labels/IMG20241205161709_jpg.rf.89fa355006e9a20c3350a6ef5dd71438.txt  \n",
            "  inflating: valid/labels/IMG20241205161749_jpg.rf.15c434fedf4501d276c963a2cb8c03fc.txt  \n",
            "  inflating: valid/labels/IMG20241205161753_jpg.rf.210062ad45e1ac5c4e1d7c3d1ecf6b5e.txt  \n",
            "  inflating: valid/labels/IMG20241205161759_jpg.rf.d55541b2918956efaf68bedf5aa2c495.txt  \n",
            "  inflating: valid/labels/IMG20241205161808_jpg.rf.f49ab1f9c0616c09953f244503582ac7.txt  \n",
            "  inflating: valid/labels/IMG20241206150132_jpg.rf.8426a6279c6ba0b56a81f4bd04e53404.txt  \n",
            "  inflating: valid/labels/IMG20241206150136_jpg.rf.9e981b1e2ef5819466bb74ae78ff99e6.txt  \n",
            "  inflating: valid/labels/IMG20241206150144_jpg.rf.c27fe9a96c7db103d4a9bfad1a3d166a.txt  \n",
            "  inflating: valid/labels/IMG20241206150151_jpg.rf.46c0cc9586e285bc0fb906cd5d1c4da0.txt  \n",
            "  inflating: valid/labels/IMG20241206150156_jpg.rf.89ee1ef90c4a167f076d2175f25f9440.txt  \n",
            "  inflating: valid/labels/IMG20241206150221_jpg.rf.0b9d13cf3c1ffdfe261bfc4baf30012e.txt  \n",
            "  inflating: valid/labels/IMG20241206150407_jpg.rf.ae9a3d2b4e36c9146c45887a6613bdac.txt  \n",
            "  inflating: valid/labels/IMG20241206150454_jpg.rf.2bc675f0c4941cc00eb98de2c4596d12.txt  \n",
            "  inflating: valid/labels/IMG20241206150512_jpg.rf.5f37109785cf8df527c1957e97cdf06c.txt  \n",
            "  inflating: valid/labels/IMG20241206150534_jpg.rf.5b9c893f079ed66978dd68a130b2b3f8.txt  \n",
            "  inflating: valid/labels/IMG20241206150639_jpg.rf.8191ce9dbbae7504585600e905028cc7.txt  \n",
            "  inflating: valid/labels/IMG20241206150715_jpg.rf.adca75f6c2abc76f3d6a1ecf623f32b6.txt  \n",
            "  inflating: valid/labels/IMG20241206150809_jpg.rf.ca4e1eb7be173038b27199258d660a5d.txt  \n",
            "  inflating: valid/labels/IMG20241206150824_jpg.rf.1dd93ad63390699fd25cf314dc310d1d.txt  \n",
            "  inflating: valid/labels/IMG20241206150828_jpg.rf.3b064c121da9966ea757e45eff35ae74.txt  \n",
            "  inflating: valid/labels/IMG20241206150831_jpg.rf.007c0a7e635f2b8ee45070791533e239.txt  \n",
            "  inflating: valid/labels/IMG20241206150848_jpg.rf.42905682628b982dd51ed6f71f7509c3.txt  \n",
            "  inflating: valid/labels/IMG20241206150850_jpg.rf.2875b479b737a967d4a54e6b84c0298d.txt  \n",
            "  inflating: valid/labels/IMG20241206150901_jpg.rf.367039ce7f966ea0ce06e866d7567a63.txt  \n",
            "  inflating: valid/labels/IMG_20241027_110529_jpg.rf.a0dad6c97d211f25d624c778a5f30c85.txt  \n",
            "  inflating: valid/labels/IMG_20241027_112303_jpg.rf.7fd1abbc7611217e54174dcd92b9710a.txt  \n",
            "  inflating: valid/labels/IMG_20241027_112316_jpg.rf.83c390c5e215115d692144ad0123475e.txt  \n",
            "  inflating: valid/labels/IMG_20241027_112453_jpg.rf.75fcaa3442b24001040a248205dbea10.txt  \n",
            "  inflating: valid/labels/IMG_20241027_112543_jpg.rf.007587cafe66dfa9aa30d239f41118c3.txt  \n",
            "  inflating: valid/labels/IMG_20241027_113019_jpg.rf.fb2d85e4f567e1505e74ee1af2a3e878.txt  \n",
            "  inflating: valid/labels/IMG_20241027_113034_jpg.rf.6a654f65f4d1bb81de520131e7bee3ea.txt  \n",
            "  inflating: valid/labels/IMG_20241027_113045_jpg.rf.0fa76f93ffe7b82f722bef347780ddd7.txt  \n",
            "  inflating: valid/labels/IMG_20241027_115058_jpg.rf.77acafb3929ff10e904e6bf3df73b707.txt  \n",
            "  inflating: valid/labels/IMG_20241027_115112_jpg.rf.cba2b22f0ac40a1b68426885e7a0e563.txt  \n",
            "  inflating: valid/labels/IMG_20241126_161301_jpg.rf.17ba4943e246d092de412149204fcc80.txt  \n",
            "  inflating: valid/labels/IMG_20241126_161320_jpg.rf.aea90538458411523e86aff266bc5f1e.txt  \n",
            "  inflating: valid/labels/IMG_20241126_161520_jpg.rf.2ea9eecd6434faf4e473a6eb16c78422.txt  \n",
            "  inflating: valid/labels/IMG_20241129_122837_jpg.rf.395ef76c3032abef33a9e39b89afc90f.txt  \n",
            "  inflating: valid/labels/IMG_20241129_122859_jpg.rf.e1d8f5afbd7aa022da40c4c7ae3a8961.txt  \n",
            "  inflating: valid/labels/JHXEW4Z27U9BSidnh0hQXCWtPXOAjzaTlq7-jpg_webp.rf.866e295a5305ed8a9beb2bd4e72737d5.txt  \n",
            "  inflating: valid/labels/Musa_basjooSochi1_jpg.rf.f26f90c4b631e9c742a05322ac64595b.txt  \n",
            "  inflating: valid/labels/P12_jpeg.rf.005df9d5c3949b72f485d1eab01aa5db.txt  \n",
            "  inflating: valid/labels/P14_jpg.rf.8f377cb7a4950b833cdae7113421d8a2.txt  \n",
            "  inflating: valid/labels/P18_jpeg.rf.96c452e30e3af52800fdb4998e3b14f7.txt  \n",
            "  inflating: valid/labels/P29_jpg.rf.4b04c8556cd6290f0bb0e6c148208fed.txt  \n",
            "  inflating: valid/labels/P2_webp.rf.cef5f5c03445cbc7dc78c8aa95da4502.txt  \n",
            "  inflating: valid/labels/P30_jpg.rf.a8860fa5df8f25f78211328f5f0121fb.txt  \n",
            "  inflating: valid/labels/P35_jpg.rf.7bee527925c6eba37597860f7c817bec.txt  \n",
            "  inflating: valid/labels/c85a2b43-c4cb-4777-8b07-b80e9748732c_jpg.rf.247524684e2048c02ff9814c1d47f5d1.txt  \n",
            "  inflating: valid/labels/fotor_2023-1-16_14_5_5-def_jpg.rf.35910e5fbb867b8f3324b6d30760f32f.txt  \n",
            "  inflating: valid/labels/post_thumbnail-daf12fa0ab0ef739f6e8496a38e0b3ff_jpg.rf.ca4f82fa22b2174e11d81c3587b96c65.txt  \n"
          ]
        }
      ],
      "source": [
        "!unzip cocoa_tree_recognition.v2i.yolov8_forms.zip"
      ]
    },
    {
      "cell_type": "markdown",
      "source": [],
      "metadata": {
        "id": "j6KUh7uSMvXB"
      }
    },
    {
      "cell_type": "markdown",
      "metadata": {
        "id": "2y4IyhnkKITX"
      },
      "source": [
        "# Instalación de YOLO"
      ]
    },
    {
      "cell_type": "markdown",
      "metadata": {
        "id": "yTKJQfrCKPca"
      },
      "source": [
        "Instalamos el módulo \"ultralytics\" con el administrador de paquetes de Python."
      ]
    },
    {
      "cell_type": "code",
      "execution_count": null,
      "metadata": {
        "colab": {
          "base_uri": "https://localhost:8080/"
        },
        "id": "Uf87JUxKKSqS",
        "outputId": "58a0cba6-f9e3-4f8d-e916-41ece3e2705e",
        "collapsed": true
      },
      "outputs": [
        {
          "output_type": "stream",
          "name": "stdout",
          "text": [
            "Collecting ultralytics\n",
            "  Downloading ultralytics-8.3.50-py3-none-any.whl.metadata (35 kB)\n",
            "Requirement already satisfied: numpy>=1.23.0 in /usr/local/lib/python3.10/dist-packages (from ultralytics) (1.26.4)\n",
            "Requirement already satisfied: matplotlib>=3.3.0 in /usr/local/lib/python3.10/dist-packages (from ultralytics) (3.8.0)\n",
            "Requirement already satisfied: opencv-python>=4.6.0 in /usr/local/lib/python3.10/dist-packages (from ultralytics) (4.10.0.84)\n",
            "Requirement already satisfied: pillow>=7.1.2 in /usr/local/lib/python3.10/dist-packages (from ultralytics) (11.0.0)\n",
            "Requirement already satisfied: pyyaml>=5.3.1 in /usr/local/lib/python3.10/dist-packages (from ultralytics) (6.0.2)\n",
            "Requirement already satisfied: requests>=2.23.0 in /usr/local/lib/python3.10/dist-packages (from ultralytics) (2.32.3)\n",
            "Requirement already satisfied: scipy>=1.4.1 in /usr/local/lib/python3.10/dist-packages (from ultralytics) (1.13.1)\n",
            "Requirement already satisfied: torch>=1.8.0 in /usr/local/lib/python3.10/dist-packages (from ultralytics) (2.5.1+cu121)\n",
            "Requirement already satisfied: torchvision>=0.9.0 in /usr/local/lib/python3.10/dist-packages (from ultralytics) (0.20.1+cu121)\n",
            "Requirement already satisfied: tqdm>=4.64.0 in /usr/local/lib/python3.10/dist-packages (from ultralytics) (4.66.6)\n",
            "Requirement already satisfied: psutil in /usr/local/lib/python3.10/dist-packages (from ultralytics) (5.9.5)\n",
            "Requirement already satisfied: py-cpuinfo in /usr/local/lib/python3.10/dist-packages (from ultralytics) (9.0.0)\n",
            "Requirement already satisfied: pandas>=1.1.4 in /usr/local/lib/python3.10/dist-packages (from ultralytics) (2.2.2)\n",
            "Requirement already satisfied: seaborn>=0.11.0 in /usr/local/lib/python3.10/dist-packages (from ultralytics) (0.13.2)\n",
            "Collecting ultralytics-thop>=2.0.0 (from ultralytics)\n",
            "  Downloading ultralytics_thop-2.0.13-py3-none-any.whl.metadata (9.4 kB)\n",
            "Requirement already satisfied: contourpy>=1.0.1 in /usr/local/lib/python3.10/dist-packages (from matplotlib>=3.3.0->ultralytics) (1.3.1)\n",
            "Requirement already satisfied: cycler>=0.10 in /usr/local/lib/python3.10/dist-packages (from matplotlib>=3.3.0->ultralytics) (0.12.1)\n",
            "Requirement already satisfied: fonttools>=4.22.0 in /usr/local/lib/python3.10/dist-packages (from matplotlib>=3.3.0->ultralytics) (4.55.3)\n",
            "Requirement already satisfied: kiwisolver>=1.0.1 in /usr/local/lib/python3.10/dist-packages (from matplotlib>=3.3.0->ultralytics) (1.4.7)\n",
            "Requirement already satisfied: packaging>=20.0 in /usr/local/lib/python3.10/dist-packages (from matplotlib>=3.3.0->ultralytics) (24.2)\n",
            "Requirement already satisfied: pyparsing>=2.3.1 in /usr/local/lib/python3.10/dist-packages (from matplotlib>=3.3.0->ultralytics) (3.2.0)\n",
            "Requirement already satisfied: python-dateutil>=2.7 in /usr/local/lib/python3.10/dist-packages (from matplotlib>=3.3.0->ultralytics) (2.8.2)\n",
            "Requirement already satisfied: pytz>=2020.1 in /usr/local/lib/python3.10/dist-packages (from pandas>=1.1.4->ultralytics) (2024.2)\n",
            "Requirement already satisfied: tzdata>=2022.7 in /usr/local/lib/python3.10/dist-packages (from pandas>=1.1.4->ultralytics) (2024.2)\n",
            "Requirement already satisfied: charset-normalizer<4,>=2 in /usr/local/lib/python3.10/dist-packages (from requests>=2.23.0->ultralytics) (3.4.0)\n",
            "Requirement already satisfied: idna<4,>=2.5 in /usr/local/lib/python3.10/dist-packages (from requests>=2.23.0->ultralytics) (3.10)\n",
            "Requirement already satisfied: urllib3<3,>=1.21.1 in /usr/local/lib/python3.10/dist-packages (from requests>=2.23.0->ultralytics) (2.2.3)\n",
            "Requirement already satisfied: certifi>=2017.4.17 in /usr/local/lib/python3.10/dist-packages (from requests>=2.23.0->ultralytics) (2024.8.30)\n",
            "Requirement already satisfied: filelock in /usr/local/lib/python3.10/dist-packages (from torch>=1.8.0->ultralytics) (3.16.1)\n",
            "Requirement already satisfied: typing-extensions>=4.8.0 in /usr/local/lib/python3.10/dist-packages (from torch>=1.8.0->ultralytics) (4.12.2)\n",
            "Requirement already satisfied: networkx in /usr/local/lib/python3.10/dist-packages (from torch>=1.8.0->ultralytics) (3.4.2)\n",
            "Requirement already satisfied: jinja2 in /usr/local/lib/python3.10/dist-packages (from torch>=1.8.0->ultralytics) (3.1.4)\n",
            "Requirement already satisfied: fsspec in /usr/local/lib/python3.10/dist-packages (from torch>=1.8.0->ultralytics) (2024.10.0)\n",
            "Requirement already satisfied: sympy==1.13.1 in /usr/local/lib/python3.10/dist-packages (from torch>=1.8.0->ultralytics) (1.13.1)\n",
            "Requirement already satisfied: mpmath<1.4,>=1.1.0 in /usr/local/lib/python3.10/dist-packages (from sympy==1.13.1->torch>=1.8.0->ultralytics) (1.3.0)\n",
            "Requirement already satisfied: six>=1.5 in /usr/local/lib/python3.10/dist-packages (from python-dateutil>=2.7->matplotlib>=3.3.0->ultralytics) (1.17.0)\n",
            "Requirement already satisfied: MarkupSafe>=2.0 in /usr/local/lib/python3.10/dist-packages (from jinja2->torch>=1.8.0->ultralytics) (3.0.2)\n",
            "Downloading ultralytics-8.3.50-py3-none-any.whl (898 kB)\n",
            "\u001b[2K   \u001b[90m━━━━━━━━━━━━━━━━━━━━━━━━━━━━━━━━━━━━━━━━\u001b[0m \u001b[32m899.0/899.0 kB\u001b[0m \u001b[31m20.2 MB/s\u001b[0m eta \u001b[36m0:00:00\u001b[0m\n",
            "\u001b[?25hDownloading ultralytics_thop-2.0.13-py3-none-any.whl (26 kB)\n",
            "Installing collected packages: ultralytics-thop, ultralytics\n",
            "Successfully installed ultralytics-8.3.50 ultralytics-thop-2.0.13\n"
          ]
        }
      ],
      "source": [
        "!pip install ultralytics"
      ]
    },
    {
      "cell_type": "markdown",
      "metadata": {
        "id": "zZSmMPxOJ1Wn"
      },
      "source": [
        "# Entrenamiento del modelo"
      ]
    },
    {
      "cell_type": "markdown",
      "metadata": {
        "id": "wuO8NLMiJ-DZ"
      },
      "source": [
        "Importamos \"YOLO\" del módulo \"ultralytics\"."
      ]
    },
    {
      "cell_type": "code",
      "execution_count": null,
      "metadata": {
        "colab": {
          "base_uri": "https://localhost:8080/"
        },
        "id": "Y9YiYRSAKDmO",
        "outputId": "d22700e8-c4ff-4871-fd68-6205c0bff1ca"
      },
      "outputs": [
        {
          "output_type": "stream",
          "name": "stdout",
          "text": [
            "Creating new Ultralytics Settings v0.0.6 file ✅ \n",
            "View Ultralytics Settings with 'yolo settings' or at '/root/.config/Ultralytics/settings.json'\n",
            "Update Settings with 'yolo settings key=value', i.e. 'yolo settings runs_dir=path/to/dir'. For help see https://docs.ultralytics.com/quickstart/#ultralytics-settings.\n"
          ]
        }
      ],
      "source": [
        "from ultralytics import YOLO"
      ]
    },
    {
      "cell_type": "markdown",
      "metadata": {
        "id": "7d7qNYTNKzr5"
      },
      "source": [
        "Creando una variable llamada \"model\" que simbolizará el modelo a entrenar."
      ]
    },
    {
      "cell_type": "code",
      "execution_count": null,
      "metadata": {
        "colab": {
          "base_uri": "https://localhost:8080/"
        },
        "id": "-0i_E4NLK2ve",
        "outputId": "f5ac3c44-c5a6-4877-a07a-f66774a2d9ba"
      },
      "outputs": [
        {
          "output_type": "stream",
          "name": "stdout",
          "text": [
            "Downloading https://github.com/ultralytics/assets/releases/download/v8.3.0/yolov8m.pt to 'yolov8m.pt'...\n"
          ]
        },
        {
          "output_type": "stream",
          "name": "stderr",
          "text": [
            "100%|██████████| 49.7M/49.7M [00:00<00:00, 335MB/s]\n"
          ]
        }
      ],
      "source": [
        "model = YOLO(\"yolov8m.pt\")"
      ]
    },
    {
      "cell_type": "markdown",
      "metadata": {
        "id": "SrVM0CG9K-j5"
      },
      "source": [
        "Guardamos en una variable, la dirección de nuestro archivo \"data\"."
      ]
    },
    {
      "cell_type": "code",
      "execution_count": null,
      "metadata": {
        "id": "ur8bLyNpLEV2"
      },
      "outputs": [],
      "source": [
        "data_path = \"/content/data.yaml\""
      ]
    },
    {
      "cell_type": "markdown",
      "metadata": {
        "id": "ZCtwZAYMLMHh"
      },
      "source": [
        "Entrenamos el modelo.\n",
        "Como parámetros:\n",
        "- data: Se refiere a la ubicación de nuestro archivo data el cual contiene las direcciones de nuestras imágenes de entrenamiento, prueba y validación.\n",
        "- epochs: Se refiere a las épocas (iteraciones) las cuales se aplicarán para entrenar al modelo.\n",
        "- imgsz: Del inglés (image size), se refiere al tamaño de las imágenes, en este caso, 640x640 pixeles.\n",
        "- batch: Optimiza el entrenamiento de tus modelos dominando el tamaño de los lotes. Aumenta la eficacia, la velocidad y el rendimiento de aplicaciones que van desde la sanidad a la agricultura. Existen tres modos: establecido como un número entero (por ejemplo, batch=16), modo automático para una utilización del 60% de la memoria de la GPU (batch=-1) o modo automático con una fracción de utilización especificada (batch=0,70).\n",
        "- lr0: Del inglés (Learning Rate), es la tasa de aprendizaje inicial (es decir, SGD=1E-2, Adam=1E-3) . El ajuste de este valor es crucial para el proceso de optimización, ya que influye en la rapidez con la que se actualizan las ponderaciones del modelo."
      ]
    },
    {
      "cell_type": "code",
      "execution_count": null,
      "metadata": {
        "colab": {
          "base_uri": "https://localhost:8080/"
        },
        "id": "BR-4mhjeLOKo",
        "outputId": "d6c4752e-df99-49f6-f7a0-6f8bb9c246c0",
        "collapsed": true
      },
      "outputs": [
        {
          "output_type": "stream",
          "name": "stdout",
          "text": [
            "Ultralytics 8.3.50 🚀 Python-3.10.12 torch-2.5.1+cu121 CUDA:0 (Tesla T4, 15102MiB)\n",
            "\u001b[34m\u001b[1mengine/trainer: \u001b[0mtask=detect, mode=train, model=yolov8m.pt, data=/content/data.yaml, epochs=150, time=None, patience=100, batch=4, imgsz=640, save=True, save_period=-1, cache=False, device=None, workers=8, project=None, name=train, exist_ok=False, pretrained=True, optimizer=auto, verbose=True, seed=0, deterministic=True, single_cls=False, rect=False, cos_lr=False, close_mosaic=10, resume=False, amp=True, fraction=1.0, profile=False, freeze=None, multi_scale=False, overlap_mask=True, mask_ratio=4, dropout=0.0, val=True, split=val, save_json=False, save_hybrid=False, conf=None, iou=0.7, max_det=300, half=False, dnn=False, plots=True, source=None, vid_stride=1, stream_buffer=False, visualize=False, augment=False, agnostic_nms=False, classes=None, retina_masks=False, embed=None, show=False, save_frames=False, save_txt=False, save_conf=False, save_crop=False, show_labels=True, show_conf=True, show_boxes=True, line_width=None, format=torchscript, keras=False, optimize=False, int8=False, dynamic=False, simplify=True, opset=None, workspace=None, nms=False, lr0=0.01, lrf=0.01, momentum=0.937, weight_decay=0.0005, warmup_epochs=3.0, warmup_momentum=0.8, warmup_bias_lr=0.1, box=7.5, cls=0.5, dfl=1.5, pose=12.0, kobj=1.0, nbs=64, hsv_h=0.015, hsv_s=0.7, hsv_v=0.4, degrees=0.0, translate=0.1, scale=0.5, shear=0.0, perspective=0.0, flipud=0.0, fliplr=0.5, bgr=0.0, mosaic=1.0, mixup=0.0, copy_paste=0.0, copy_paste_mode=flip, auto_augment=randaugment, erasing=0.4, crop_fraction=1.0, cfg=None, tracker=botsort.yaml, save_dir=runs/detect/train\n",
            "Downloading https://ultralytics.com/assets/Arial.ttf to '/root/.config/Ultralytics/Arial.ttf'...\n"
          ]
        },
        {
          "output_type": "stream",
          "name": "stderr",
          "text": [
            "100%|██████████| 755k/755k [00:00<00:00, 18.7MB/s]\n"
          ]
        },
        {
          "output_type": "stream",
          "name": "stdout",
          "text": [
            "Overriding model.yaml nc=80 with nc=6\n",
            "\n",
            "                   from  n    params  module                                       arguments                     \n",
            "  0                  -1  1      1392  ultralytics.nn.modules.conv.Conv             [3, 48, 3, 2]                 \n",
            "  1                  -1  1     41664  ultralytics.nn.modules.conv.Conv             [48, 96, 3, 2]                \n",
            "  2                  -1  2    111360  ultralytics.nn.modules.block.C2f             [96, 96, 2, True]             \n",
            "  3                  -1  1    166272  ultralytics.nn.modules.conv.Conv             [96, 192, 3, 2]               \n",
            "  4                  -1  4    813312  ultralytics.nn.modules.block.C2f             [192, 192, 4, True]           \n",
            "  5                  -1  1    664320  ultralytics.nn.modules.conv.Conv             [192, 384, 3, 2]              \n",
            "  6                  -1  4   3248640  ultralytics.nn.modules.block.C2f             [384, 384, 4, True]           \n",
            "  7                  -1  1   1991808  ultralytics.nn.modules.conv.Conv             [384, 576, 3, 2]              \n",
            "  8                  -1  2   3985920  ultralytics.nn.modules.block.C2f             [576, 576, 2, True]           \n",
            "  9                  -1  1    831168  ultralytics.nn.modules.block.SPPF            [576, 576, 5]                 \n",
            " 10                  -1  1         0  torch.nn.modules.upsampling.Upsample         [None, 2, 'nearest']          \n",
            " 11             [-1, 6]  1         0  ultralytics.nn.modules.conv.Concat           [1]                           \n",
            " 12                  -1  2   1993728  ultralytics.nn.modules.block.C2f             [960, 384, 2]                 \n",
            " 13                  -1  1         0  torch.nn.modules.upsampling.Upsample         [None, 2, 'nearest']          \n",
            " 14             [-1, 4]  1         0  ultralytics.nn.modules.conv.Concat           [1]                           \n",
            " 15                  -1  2    517632  ultralytics.nn.modules.block.C2f             [576, 192, 2]                 \n",
            " 16                  -1  1    332160  ultralytics.nn.modules.conv.Conv             [192, 192, 3, 2]              \n",
            " 17            [-1, 12]  1         0  ultralytics.nn.modules.conv.Concat           [1]                           \n",
            " 18                  -1  2   1846272  ultralytics.nn.modules.block.C2f             [576, 384, 2]                 \n",
            " 19                  -1  1   1327872  ultralytics.nn.modules.conv.Conv             [384, 384, 3, 2]              \n",
            " 20             [-1, 9]  1         0  ultralytics.nn.modules.conv.Concat           [1]                           \n",
            " 21                  -1  2   4207104  ultralytics.nn.modules.block.C2f             [960, 576, 2]                 \n",
            " 22        [15, 18, 21]  1   3779170  ultralytics.nn.modules.head.Detect           [6, [192, 384, 576]]          \n",
            "Model summary: 295 layers, 25,859,794 parameters, 25,859,778 gradients, 79.1 GFLOPs\n",
            "\n",
            "Transferred 469/475 items from pretrained weights\n",
            "\u001b[34m\u001b[1mTensorBoard: \u001b[0mStart with 'tensorboard --logdir runs/detect/train', view at http://localhost:6006/\n",
            "Freezing layer 'model.22.dfl.conv.weight'\n",
            "\u001b[34m\u001b[1mAMP: \u001b[0mrunning Automatic Mixed Precision (AMP) checks...\n",
            "Downloading https://github.com/ultralytics/assets/releases/download/v8.3.0/yolo11n.pt to 'yolo11n.pt'...\n"
          ]
        },
        {
          "output_type": "stream",
          "name": "stderr",
          "text": [
            "100%|██████████| 5.35M/5.35M [00:00<00:00, 87.0MB/s]\n"
          ]
        },
        {
          "output_type": "stream",
          "name": "stdout",
          "text": [
            "\u001b[34m\u001b[1mAMP: \u001b[0mchecks passed ✅\n"
          ]
        },
        {
          "output_type": "stream",
          "name": "stderr",
          "text": [
            "\u001b[34m\u001b[1mtrain: \u001b[0mScanning /content/train/labels... 305 images, 1 backgrounds, 0 corrupt: 100%|██████████| 305/305 [00:00<00:00, 1487.58it/s]"
          ]
        },
        {
          "output_type": "stream",
          "name": "stdout",
          "text": [
            "\u001b[34m\u001b[1mtrain: \u001b[0mNew cache created: /content/train/labels.cache\n",
            "WARNING ⚠️ Box and segment counts should be equal, but got len(segments) = 470, len(boxes) = 477. To resolve this only boxes will be used and all segments will be removed. To avoid this please supply either a detect or segment dataset, not a detect-segment mixed dataset.\n"
          ]
        },
        {
          "output_type": "stream",
          "name": "stderr",
          "text": [
            "\n"
          ]
        },
        {
          "output_type": "stream",
          "name": "stdout",
          "text": [
            "\u001b[34m\u001b[1malbumentations: \u001b[0mBlur(p=0.01, blur_limit=(3, 7)), MedianBlur(p=0.01, blur_limit=(3, 7)), ToGray(p=0.01, num_output_channels=3, method='weighted_average'), CLAHE(p=0.01, clip_limit=(1.0, 4.0), tile_grid_size=(8, 8))\n"
          ]
        },
        {
          "output_type": "stream",
          "name": "stderr",
          "text": [
            "/usr/local/lib/python3.10/dist-packages/albumentations/__init__.py:24: UserWarning: A new version of Albumentations is available: 1.4.22 (you have 1.4.20). Upgrade using: pip install -U albumentations. To disable automatic update checks, set the environment variable NO_ALBUMENTATIONS_UPDATE to 1.\n",
            "  check_for_updates()\n",
            "\u001b[34m\u001b[1mval: \u001b[0mScanning /content/valid/labels... 83 images, 1 backgrounds, 0 corrupt: 100%|██████████| 83/83 [00:00<00:00, 844.62it/s]"
          ]
        },
        {
          "output_type": "stream",
          "name": "stdout",
          "text": [
            "\u001b[34m\u001b[1mval: \u001b[0mNew cache created: /content/valid/labels.cache\n"
          ]
        },
        {
          "output_type": "stream",
          "name": "stderr",
          "text": [
            "\n"
          ]
        },
        {
          "output_type": "stream",
          "name": "stdout",
          "text": [
            "WARNING ⚠️ Box and segment counts should be equal, but got len(segments) = 134, len(boxes) = 135. To resolve this only boxes will be used and all segments will be removed. To avoid this please supply either a detect or segment dataset, not a detect-segment mixed dataset.\n",
            "Plotting labels to runs/detect/train/labels.jpg... \n",
            "\u001b[34m\u001b[1moptimizer:\u001b[0m 'optimizer=auto' found, ignoring 'lr0=0.01' and 'momentum=0.937' and determining best 'optimizer', 'lr0' and 'momentum' automatically... \n",
            "\u001b[34m\u001b[1moptimizer:\u001b[0m AdamW(lr=0.001, momentum=0.9) with parameter groups 77 weight(decay=0.0), 84 weight(decay=0.0005), 83 bias(decay=0.0)\n",
            "\u001b[34m\u001b[1mTensorBoard: \u001b[0mmodel graph visualization added ✅\n",
            "Image sizes 640 train, 640 val\n",
            "Using 2 dataloader workers\n",
            "Logging results to \u001b[1mruns/detect/train\u001b[0m\n",
            "Starting training for 150 epochs...\n",
            "\n",
            "      Epoch    GPU_mem   box_loss   cls_loss   dfl_loss  Instances       Size\n"
          ]
        },
        {
          "output_type": "stream",
          "name": "stderr",
          "text": [
            "      1/150      2.36G      1.027      2.685      1.608          4        640: 100%|██████████| 77/77 [00:15<00:00,  4.89it/s]\n",
            "                 Class     Images  Instances      Box(P          R      mAP50  mAP50-95): 100%|██████████| 11/11 [00:03<00:00,  3.44it/s]"
          ]
        },
        {
          "output_type": "stream",
          "name": "stdout",
          "text": [
            "                   all         83        135      0.261      0.477      0.279      0.176\n"
          ]
        },
        {
          "output_type": "stream",
          "name": "stderr",
          "text": [
            "\n"
          ]
        },
        {
          "output_type": "stream",
          "name": "stdout",
          "text": [
            "\n",
            "      Epoch    GPU_mem   box_loss   cls_loss   dfl_loss  Instances       Size\n"
          ]
        },
        {
          "output_type": "stream",
          "name": "stderr",
          "text": [
            "      2/150      2.24G      1.112      2.283      1.635          1        640: 100%|██████████| 77/77 [00:14<00:00,  5.45it/s]\n",
            "                 Class     Images  Instances      Box(P          R      mAP50  mAP50-95): 100%|██████████| 11/11 [00:01<00:00,  8.89it/s]\n"
          ]
        },
        {
          "output_type": "stream",
          "name": "stdout",
          "text": [
            "                   all         83        135      0.534      0.333      0.357      0.234\n",
            "\n",
            "      Epoch    GPU_mem   box_loss   cls_loss   dfl_loss  Instances       Size\n"
          ]
        },
        {
          "output_type": "stream",
          "name": "stderr",
          "text": [
            "      3/150      2.15G      1.155      2.151      1.697          4        640: 100%|██████████| 77/77 [00:12<00:00,  5.96it/s]\n",
            "                 Class     Images  Instances      Box(P          R      mAP50  mAP50-95): 100%|██████████| 11/11 [00:01<00:00,  7.82it/s]"
          ]
        },
        {
          "output_type": "stream",
          "name": "stdout",
          "text": [
            "                   all         83        135     0.0571      0.375     0.0697     0.0279\n"
          ]
        },
        {
          "output_type": "stream",
          "name": "stderr",
          "text": [
            "\n"
          ]
        },
        {
          "output_type": "stream",
          "name": "stdout",
          "text": [
            "\n",
            "      Epoch    GPU_mem   box_loss   cls_loss   dfl_loss  Instances       Size\n"
          ]
        },
        {
          "output_type": "stream",
          "name": "stderr",
          "text": [
            "      4/150      2.24G      1.145      2.137      1.693          4        640: 100%|██████████| 77/77 [00:15<00:00,  5.01it/s]\n",
            "                 Class     Images  Instances      Box(P          R      mAP50  mAP50-95): 100%|██████████| 11/11 [00:01<00:00,  6.96it/s]"
          ]
        },
        {
          "output_type": "stream",
          "name": "stdout",
          "text": [
            "                   all         83        135      0.223      0.376      0.285      0.195\n"
          ]
        },
        {
          "output_type": "stream",
          "name": "stderr",
          "text": [
            "\n"
          ]
        },
        {
          "output_type": "stream",
          "name": "stdout",
          "text": [
            "\n",
            "      Epoch    GPU_mem   box_loss   cls_loss   dfl_loss  Instances       Size\n"
          ]
        },
        {
          "output_type": "stream",
          "name": "stderr",
          "text": [
            "      5/150      2.24G      1.174      2.065      1.718          1        640: 100%|██████████| 77/77 [00:13<00:00,  5.89it/s]\n",
            "                 Class     Images  Instances      Box(P          R      mAP50  mAP50-95): 100%|██████████| 11/11 [00:01<00:00,  7.05it/s]"
          ]
        },
        {
          "output_type": "stream",
          "name": "stdout",
          "text": [
            "                   all         83        135      0.285      0.194      0.149     0.0632\n"
          ]
        },
        {
          "output_type": "stream",
          "name": "stderr",
          "text": [
            "\n"
          ]
        },
        {
          "output_type": "stream",
          "name": "stdout",
          "text": [
            "\n",
            "      Epoch    GPU_mem   box_loss   cls_loss   dfl_loss  Instances       Size\n"
          ]
        },
        {
          "output_type": "stream",
          "name": "stderr",
          "text": [
            "      6/150      2.23G      1.113      1.987      1.667          9        640: 100%|██████████| 77/77 [00:13<00:00,  5.76it/s]\n",
            "                 Class     Images  Instances      Box(P          R      mAP50  mAP50-95): 100%|██████████| 11/11 [00:01<00:00,  7.62it/s]"
          ]
        },
        {
          "output_type": "stream",
          "name": "stdout",
          "text": [
            "                   all         83        135      0.221      0.447      0.247      0.113\n"
          ]
        },
        {
          "output_type": "stream",
          "name": "stderr",
          "text": [
            "\n"
          ]
        },
        {
          "output_type": "stream",
          "name": "stdout",
          "text": [
            "\n",
            "      Epoch    GPU_mem   box_loss   cls_loss   dfl_loss  Instances       Size\n"
          ]
        },
        {
          "output_type": "stream",
          "name": "stderr",
          "text": [
            "      7/150      2.25G      1.058      1.874      1.611          5        640: 100%|██████████| 77/77 [00:13<00:00,  5.64it/s]\n",
            "                 Class     Images  Instances      Box(P          R      mAP50  mAP50-95): 100%|██████████| 11/11 [00:01<00:00,  8.36it/s]"
          ]
        },
        {
          "output_type": "stream",
          "name": "stdout",
          "text": [
            "                   all         83        135      0.289      0.569      0.423      0.263\n"
          ]
        },
        {
          "output_type": "stream",
          "name": "stderr",
          "text": [
            "\n"
          ]
        },
        {
          "output_type": "stream",
          "name": "stdout",
          "text": [
            "\n",
            "      Epoch    GPU_mem   box_loss   cls_loss   dfl_loss  Instances       Size\n"
          ]
        },
        {
          "output_type": "stream",
          "name": "stderr",
          "text": [
            "      8/150      2.24G      1.031      1.873      1.605          2        640: 100%|██████████| 77/77 [00:13<00:00,  5.59it/s]\n",
            "                 Class     Images  Instances      Box(P          R      mAP50  mAP50-95): 100%|██████████| 11/11 [00:01<00:00,  7.38it/s]"
          ]
        },
        {
          "output_type": "stream",
          "name": "stdout",
          "text": [
            "                   all         83        135      0.615      0.275      0.272      0.198\n"
          ]
        },
        {
          "output_type": "stream",
          "name": "stderr",
          "text": [
            "\n"
          ]
        },
        {
          "output_type": "stream",
          "name": "stdout",
          "text": [
            "\n",
            "      Epoch    GPU_mem   box_loss   cls_loss   dfl_loss  Instances       Size\n"
          ]
        },
        {
          "output_type": "stream",
          "name": "stderr",
          "text": [
            "      9/150      2.24G      1.014      1.826      1.581          4        640: 100%|██████████| 77/77 [00:13<00:00,  5.54it/s]\n",
            "                 Class     Images  Instances      Box(P          R      mAP50  mAP50-95): 100%|██████████| 11/11 [00:01<00:00,  8.35it/s]"
          ]
        },
        {
          "output_type": "stream",
          "name": "stdout",
          "text": [
            "                   all         83        135      0.418      0.424      0.277      0.144\n"
          ]
        },
        {
          "output_type": "stream",
          "name": "stderr",
          "text": [
            "\n"
          ]
        },
        {
          "output_type": "stream",
          "name": "stdout",
          "text": [
            "\n",
            "      Epoch    GPU_mem   box_loss   cls_loss   dfl_loss  Instances       Size\n"
          ]
        },
        {
          "output_type": "stream",
          "name": "stderr",
          "text": [
            "     10/150      2.25G      1.026      1.927      1.607          3        640: 100%|██████████| 77/77 [00:13<00:00,  5.59it/s]\n",
            "                 Class     Images  Instances      Box(P          R      mAP50  mAP50-95): 100%|██████████| 11/11 [00:01<00:00,  8.79it/s]\n"
          ]
        },
        {
          "output_type": "stream",
          "name": "stdout",
          "text": [
            "                   all         83        135      0.606      0.336      0.344      0.246\n",
            "\n",
            "      Epoch    GPU_mem   box_loss   cls_loss   dfl_loss  Instances       Size\n"
          ]
        },
        {
          "output_type": "stream",
          "name": "stderr",
          "text": [
            "     11/150      2.24G      1.037      1.762      1.599          1        640: 100%|██████████| 77/77 [00:13<00:00,  5.53it/s]\n",
            "                 Class     Images  Instances      Box(P          R      mAP50  mAP50-95): 100%|██████████| 11/11 [00:01<00:00,  8.58it/s]"
          ]
        },
        {
          "output_type": "stream",
          "name": "stdout",
          "text": [
            "                   all         83        135      0.223      0.475      0.349      0.237\n"
          ]
        },
        {
          "output_type": "stream",
          "name": "stderr",
          "text": [
            "\n"
          ]
        },
        {
          "output_type": "stream",
          "name": "stdout",
          "text": [
            "\n",
            "      Epoch    GPU_mem   box_loss   cls_loss   dfl_loss  Instances       Size\n"
          ]
        },
        {
          "output_type": "stream",
          "name": "stderr",
          "text": [
            "     12/150      2.24G      1.029      1.797        1.6          2        640: 100%|██████████| 77/77 [00:14<00:00,  5.37it/s]\n",
            "                 Class     Images  Instances      Box(P          R      mAP50  mAP50-95): 100%|██████████| 11/11 [00:01<00:00,  8.57it/s]\n"
          ]
        },
        {
          "output_type": "stream",
          "name": "stdout",
          "text": [
            "                   all         83        135      0.397      0.481      0.419      0.268\n",
            "\n",
            "      Epoch    GPU_mem   box_loss   cls_loss   dfl_loss  Instances       Size\n"
          ]
        },
        {
          "output_type": "stream",
          "name": "stderr",
          "text": [
            "     13/150      2.14G     0.9554      1.778       1.54          5        640: 100%|██████████| 77/77 [00:14<00:00,  5.44it/s]\n",
            "                 Class     Images  Instances      Box(P          R      mAP50  mAP50-95): 100%|██████████| 11/11 [00:01<00:00,  8.60it/s]\n"
          ]
        },
        {
          "output_type": "stream",
          "name": "stdout",
          "text": [
            "                   all         83        135      0.352      0.755      0.559       0.34\n",
            "\n",
            "      Epoch    GPU_mem   box_loss   cls_loss   dfl_loss  Instances       Size\n"
          ]
        },
        {
          "output_type": "stream",
          "name": "stderr",
          "text": [
            "     14/150      2.24G     0.9546      1.747      1.554          3        640: 100%|██████████| 77/77 [00:14<00:00,  5.46it/s]\n",
            "                 Class     Images  Instances      Box(P          R      mAP50  mAP50-95): 100%|██████████| 11/11 [00:01<00:00,  8.68it/s]"
          ]
        },
        {
          "output_type": "stream",
          "name": "stdout",
          "text": [
            "                   all         83        135      0.368      0.662      0.516      0.342\n"
          ]
        },
        {
          "output_type": "stream",
          "name": "stderr",
          "text": [
            "\n"
          ]
        },
        {
          "output_type": "stream",
          "name": "stdout",
          "text": [
            "\n",
            "      Epoch    GPU_mem   box_loss   cls_loss   dfl_loss  Instances       Size\n"
          ]
        },
        {
          "output_type": "stream",
          "name": "stderr",
          "text": [
            "     15/150      2.25G      0.915      1.682      1.515          4        640: 100%|██████████| 77/77 [00:13<00:00,  5.53it/s]\n",
            "                 Class     Images  Instances      Box(P          R      mAP50  mAP50-95): 100%|██████████| 11/11 [00:01<00:00,  8.73it/s]\n"
          ]
        },
        {
          "output_type": "stream",
          "name": "stdout",
          "text": [
            "                   all         83        135      0.502      0.532      0.422      0.251\n",
            "\n",
            "      Epoch    GPU_mem   box_loss   cls_loss   dfl_loss  Instances       Size\n"
          ]
        },
        {
          "output_type": "stream",
          "name": "stderr",
          "text": [
            "     16/150      2.23G     0.8905      1.615      1.498          4        640: 100%|██████████| 77/77 [00:14<00:00,  5.49it/s]\n",
            "                 Class     Images  Instances      Box(P          R      mAP50  mAP50-95): 100%|██████████| 11/11 [00:01<00:00,  8.71it/s]\n"
          ]
        },
        {
          "output_type": "stream",
          "name": "stdout",
          "text": [
            "                   all         83        135      0.616      0.477      0.586      0.383\n",
            "\n",
            "      Epoch    GPU_mem   box_loss   cls_loss   dfl_loss  Instances       Size\n"
          ]
        },
        {
          "output_type": "stream",
          "name": "stderr",
          "text": [
            "     17/150      2.23G     0.9273      1.687       1.53          3        640: 100%|██████████| 77/77 [00:13<00:00,  5.53it/s]\n",
            "                 Class     Images  Instances      Box(P          R      mAP50  mAP50-95): 100%|██████████| 11/11 [00:01<00:00,  8.89it/s]"
          ]
        },
        {
          "output_type": "stream",
          "name": "stdout",
          "text": [
            "                   all         83        135      0.622      0.594      0.556      0.346\n"
          ]
        },
        {
          "output_type": "stream",
          "name": "stderr",
          "text": [
            "\n"
          ]
        },
        {
          "output_type": "stream",
          "name": "stdout",
          "text": [
            "\n",
            "      Epoch    GPU_mem   box_loss   cls_loss   dfl_loss  Instances       Size\n"
          ]
        },
        {
          "output_type": "stream",
          "name": "stderr",
          "text": [
            "     18/150      2.24G     0.9335      1.642      1.548          2        640: 100%|██████████| 77/77 [00:14<00:00,  5.26it/s]\n",
            "                 Class     Images  Instances      Box(P          R      mAP50  mAP50-95): 100%|██████████| 11/11 [00:01<00:00,  8.88it/s]"
          ]
        },
        {
          "output_type": "stream",
          "name": "stdout",
          "text": [
            "                   all         83        135      0.621      0.469      0.533      0.362\n"
          ]
        },
        {
          "output_type": "stream",
          "name": "stderr",
          "text": [
            "\n"
          ]
        },
        {
          "output_type": "stream",
          "name": "stdout",
          "text": [
            "\n",
            "      Epoch    GPU_mem   box_loss   cls_loss   dfl_loss  Instances       Size\n"
          ]
        },
        {
          "output_type": "stream",
          "name": "stderr",
          "text": [
            "     19/150      2.24G     0.8932      1.669      1.493          3        640: 100%|██████████| 77/77 [00:16<00:00,  4.78it/s]\n",
            "                 Class     Images  Instances      Box(P          R      mAP50  mAP50-95): 100%|██████████| 11/11 [00:01<00:00,  8.55it/s]\n"
          ]
        },
        {
          "output_type": "stream",
          "name": "stdout",
          "text": [
            "                   all         83        135      0.403      0.629      0.565      0.336\n",
            "\n",
            "      Epoch    GPU_mem   box_loss   cls_loss   dfl_loss  Instances       Size\n"
          ]
        },
        {
          "output_type": "stream",
          "name": "stderr",
          "text": [
            "     20/150      2.23G     0.9151        1.5      1.523          4        640: 100%|██████████| 77/77 [00:14<00:00,  5.29it/s]\n",
            "                 Class     Images  Instances      Box(P          R      mAP50  mAP50-95): 100%|██████████| 11/11 [00:01<00:00,  8.74it/s]\n"
          ]
        },
        {
          "output_type": "stream",
          "name": "stdout",
          "text": [
            "                   all         83        135      0.646      0.502       0.55      0.359\n",
            "\n",
            "      Epoch    GPU_mem   box_loss   cls_loss   dfl_loss  Instances       Size\n"
          ]
        },
        {
          "output_type": "stream",
          "name": "stderr",
          "text": [
            "     21/150      2.24G     0.9331      1.654      1.533          1        640: 100%|██████████| 77/77 [00:14<00:00,  5.27it/s]\n",
            "                 Class     Images  Instances      Box(P          R      mAP50  mAP50-95): 100%|██████████| 11/11 [00:01<00:00,  8.73it/s]\n"
          ]
        },
        {
          "output_type": "stream",
          "name": "stdout",
          "text": [
            "                   all         83        135      0.478      0.627      0.587      0.407\n",
            "\n",
            "      Epoch    GPU_mem   box_loss   cls_loss   dfl_loss  Instances       Size\n"
          ]
        },
        {
          "output_type": "stream",
          "name": "stderr",
          "text": [
            "     22/150      2.24G     0.8525      1.505      1.494          3        640: 100%|██████████| 77/77 [00:14<00:00,  5.35it/s]\n",
            "                 Class     Images  Instances      Box(P          R      mAP50  mAP50-95): 100%|██████████| 11/11 [00:01<00:00,  8.81it/s]"
          ]
        },
        {
          "output_type": "stream",
          "name": "stdout",
          "text": [
            "                   all         83        135      0.448      0.656      0.554      0.318\n"
          ]
        },
        {
          "output_type": "stream",
          "name": "stderr",
          "text": [
            "\n"
          ]
        },
        {
          "output_type": "stream",
          "name": "stdout",
          "text": [
            "\n",
            "      Epoch    GPU_mem   box_loss   cls_loss   dfl_loss  Instances       Size\n"
          ]
        },
        {
          "output_type": "stream",
          "name": "stderr",
          "text": [
            "     23/150      2.24G     0.9376       1.57      1.527         16        640: 100%|██████████| 77/77 [00:14<00:00,  5.38it/s]\n",
            "                 Class     Images  Instances      Box(P          R      mAP50  mAP50-95): 100%|██████████| 11/11 [00:01<00:00,  8.80it/s]"
          ]
        },
        {
          "output_type": "stream",
          "name": "stdout",
          "text": [
            "                   all         83        135      0.566      0.441      0.445      0.298\n"
          ]
        },
        {
          "output_type": "stream",
          "name": "stderr",
          "text": [
            "\n"
          ]
        },
        {
          "output_type": "stream",
          "name": "stdout",
          "text": [
            "\n",
            "      Epoch    GPU_mem   box_loss   cls_loss   dfl_loss  Instances       Size\n"
          ]
        },
        {
          "output_type": "stream",
          "name": "stderr",
          "text": [
            "     24/150      2.23G     0.8836      1.489      1.505          6        640: 100%|██████████| 77/77 [00:14<00:00,  5.43it/s]\n",
            "                 Class     Images  Instances      Box(P          R      mAP50  mAP50-95): 100%|██████████| 11/11 [00:01<00:00,  8.85it/s]"
          ]
        },
        {
          "output_type": "stream",
          "name": "stdout",
          "text": [
            "                   all         83        135      0.554      0.597      0.596      0.404\n"
          ]
        },
        {
          "output_type": "stream",
          "name": "stderr",
          "text": [
            "\n"
          ]
        },
        {
          "output_type": "stream",
          "name": "stdout",
          "text": [
            "\n",
            "      Epoch    GPU_mem   box_loss   cls_loss   dfl_loss  Instances       Size\n"
          ]
        },
        {
          "output_type": "stream",
          "name": "stderr",
          "text": [
            "     25/150      2.24G     0.8652      1.455      1.492          3        640: 100%|██████████| 77/77 [00:14<00:00,  5.40it/s]\n",
            "                 Class     Images  Instances      Box(P          R      mAP50  mAP50-95): 100%|██████████| 11/11 [00:01<00:00,  7.17it/s]"
          ]
        },
        {
          "output_type": "stream",
          "name": "stdout",
          "text": [
            "                   all         83        135      0.616       0.58      0.587      0.399\n"
          ]
        },
        {
          "output_type": "stream",
          "name": "stderr",
          "text": [
            "\n"
          ]
        },
        {
          "output_type": "stream",
          "name": "stdout",
          "text": [
            "\n",
            "      Epoch    GPU_mem   box_loss   cls_loss   dfl_loss  Instances       Size\n"
          ]
        },
        {
          "output_type": "stream",
          "name": "stderr",
          "text": [
            "     26/150      2.24G     0.8752      1.524      1.482          5        640: 100%|██████████| 77/77 [00:13<00:00,  5.62it/s]\n",
            "                 Class     Images  Instances      Box(P          R      mAP50  mAP50-95): 100%|██████████| 11/11 [00:01<00:00,  6.26it/s]"
          ]
        },
        {
          "output_type": "stream",
          "name": "stdout",
          "text": [
            "                   all         83        135      0.687      0.632       0.67      0.433\n"
          ]
        },
        {
          "output_type": "stream",
          "name": "stderr",
          "text": [
            "\n"
          ]
        },
        {
          "output_type": "stream",
          "name": "stdout",
          "text": [
            "\n",
            "      Epoch    GPU_mem   box_loss   cls_loss   dfl_loss  Instances       Size\n"
          ]
        },
        {
          "output_type": "stream",
          "name": "stderr",
          "text": [
            "     27/150      2.24G     0.8113      1.461      1.452          3        640: 100%|██████████| 77/77 [00:14<00:00,  5.37it/s]\n",
            "                 Class     Images  Instances      Box(P          R      mAP50  mAP50-95): 100%|██████████| 11/11 [00:01<00:00,  8.84it/s]"
          ]
        },
        {
          "output_type": "stream",
          "name": "stdout",
          "text": [
            "                   all         83        135        0.6      0.608      0.581      0.407\n"
          ]
        },
        {
          "output_type": "stream",
          "name": "stderr",
          "text": [
            "\n"
          ]
        },
        {
          "output_type": "stream",
          "name": "stdout",
          "text": [
            "\n",
            "      Epoch    GPU_mem   box_loss   cls_loss   dfl_loss  Instances       Size\n"
          ]
        },
        {
          "output_type": "stream",
          "name": "stderr",
          "text": [
            "     28/150      2.23G     0.8685      1.516       1.51          6        640: 100%|██████████| 77/77 [00:14<00:00,  5.49it/s]\n",
            "                 Class     Images  Instances      Box(P          R      mAP50  mAP50-95): 100%|██████████| 11/11 [00:01<00:00,  7.48it/s]"
          ]
        },
        {
          "output_type": "stream",
          "name": "stdout",
          "text": [
            "                   all         83        135      0.545      0.493      0.545      0.364\n"
          ]
        },
        {
          "output_type": "stream",
          "name": "stderr",
          "text": [
            "\n"
          ]
        },
        {
          "output_type": "stream",
          "name": "stdout",
          "text": [
            "\n",
            "      Epoch    GPU_mem   box_loss   cls_loss   dfl_loss  Instances       Size\n"
          ]
        },
        {
          "output_type": "stream",
          "name": "stderr",
          "text": [
            "     29/150      2.13G     0.8324       1.41      1.482          1        640: 100%|██████████| 77/77 [00:13<00:00,  5.64it/s]\n",
            "                 Class     Images  Instances      Box(P          R      mAP50  mAP50-95): 100%|██████████| 11/11 [00:01<00:00,  6.64it/s]"
          ]
        },
        {
          "output_type": "stream",
          "name": "stdout",
          "text": [
            "                   all         83        135       0.57      0.633      0.644      0.426\n"
          ]
        },
        {
          "output_type": "stream",
          "name": "stderr",
          "text": [
            "\n"
          ]
        },
        {
          "output_type": "stream",
          "name": "stdout",
          "text": [
            "\n",
            "      Epoch    GPU_mem   box_loss   cls_loss   dfl_loss  Instances       Size\n"
          ]
        },
        {
          "output_type": "stream",
          "name": "stderr",
          "text": [
            "     30/150      2.23G     0.9052      1.534       1.51          5        640: 100%|██████████| 77/77 [00:13<00:00,  5.72it/s]\n",
            "                 Class     Images  Instances      Box(P          R      mAP50  mAP50-95): 100%|██████████| 11/11 [00:01<00:00,  6.54it/s]"
          ]
        },
        {
          "output_type": "stream",
          "name": "stdout",
          "text": [
            "                   all         83        135      0.553      0.583      0.591      0.386\n"
          ]
        },
        {
          "output_type": "stream",
          "name": "stderr",
          "text": [
            "\n"
          ]
        },
        {
          "output_type": "stream",
          "name": "stdout",
          "text": [
            "\n",
            "      Epoch    GPU_mem   box_loss   cls_loss   dfl_loss  Instances       Size\n"
          ]
        },
        {
          "output_type": "stream",
          "name": "stderr",
          "text": [
            "     31/150      2.25G     0.8119      1.404      1.429          2        640: 100%|██████████| 77/77 [00:13<00:00,  5.76it/s]\n",
            "                 Class     Images  Instances      Box(P          R      mAP50  mAP50-95): 100%|██████████| 11/11 [00:01<00:00,  6.49it/s]"
          ]
        },
        {
          "output_type": "stream",
          "name": "stdout",
          "text": [
            "                   all         83        135       0.53      0.586      0.568      0.372\n"
          ]
        },
        {
          "output_type": "stream",
          "name": "stderr",
          "text": [
            "\n"
          ]
        },
        {
          "output_type": "stream",
          "name": "stdout",
          "text": [
            "\n",
            "      Epoch    GPU_mem   box_loss   cls_loss   dfl_loss  Instances       Size\n"
          ]
        },
        {
          "output_type": "stream",
          "name": "stderr",
          "text": [
            "     32/150      2.24G     0.8578      1.464      1.475          2        640: 100%|██████████| 77/77 [00:13<00:00,  5.76it/s]\n",
            "                 Class     Images  Instances      Box(P          R      mAP50  mAP50-95): 100%|██████████| 11/11 [00:01<00:00,  6.40it/s]"
          ]
        },
        {
          "output_type": "stream",
          "name": "stdout",
          "text": [
            "                   all         83        135      0.681      0.539      0.624      0.402\n"
          ]
        },
        {
          "output_type": "stream",
          "name": "stderr",
          "text": [
            "\n"
          ]
        },
        {
          "output_type": "stream",
          "name": "stdout",
          "text": [
            "\n",
            "      Epoch    GPU_mem   box_loss   cls_loss   dfl_loss  Instances       Size\n"
          ]
        },
        {
          "output_type": "stream",
          "name": "stderr",
          "text": [
            "     33/150      2.23G     0.7963      1.369      1.428          5        640: 100%|██████████| 77/77 [00:15<00:00,  5.01it/s]\n",
            "                 Class     Images  Instances      Box(P          R      mAP50  mAP50-95): 100%|██████████| 11/11 [00:01<00:00,  6.49it/s]"
          ]
        },
        {
          "output_type": "stream",
          "name": "stdout",
          "text": [
            "                   all         83        135      0.541      0.622      0.623      0.416\n"
          ]
        },
        {
          "output_type": "stream",
          "name": "stderr",
          "text": [
            "\n"
          ]
        },
        {
          "output_type": "stream",
          "name": "stdout",
          "text": [
            "\n",
            "      Epoch    GPU_mem   box_loss   cls_loss   dfl_loss  Instances       Size\n"
          ]
        },
        {
          "output_type": "stream",
          "name": "stderr",
          "text": [
            "     34/150      2.24G     0.8506      1.427      1.484          1        640: 100%|██████████| 77/77 [00:13<00:00,  5.92it/s]\n",
            "                 Class     Images  Instances      Box(P          R      mAP50  mAP50-95): 100%|██████████| 11/11 [00:01<00:00,  6.30it/s]"
          ]
        },
        {
          "output_type": "stream",
          "name": "stdout",
          "text": [
            "                   all         83        135      0.518      0.694      0.617      0.396\n"
          ]
        },
        {
          "output_type": "stream",
          "name": "stderr",
          "text": [
            "\n"
          ]
        },
        {
          "output_type": "stream",
          "name": "stdout",
          "text": [
            "\n",
            "      Epoch    GPU_mem   box_loss   cls_loss   dfl_loss  Instances       Size\n"
          ]
        },
        {
          "output_type": "stream",
          "name": "stderr",
          "text": [
            "     35/150      2.23G     0.7812      1.296      1.428          5        640: 100%|██████████| 77/77 [00:13<00:00,  5.89it/s]\n",
            "                 Class     Images  Instances      Box(P          R      mAP50  mAP50-95): 100%|██████████| 11/11 [00:01<00:00,  7.00it/s]"
          ]
        },
        {
          "output_type": "stream",
          "name": "stdout",
          "text": [
            "                   all         83        135      0.639      0.503      0.613      0.413\n"
          ]
        },
        {
          "output_type": "stream",
          "name": "stderr",
          "text": [
            "\n"
          ]
        },
        {
          "output_type": "stream",
          "name": "stdout",
          "text": [
            "\n",
            "      Epoch    GPU_mem   box_loss   cls_loss   dfl_loss  Instances       Size\n"
          ]
        },
        {
          "output_type": "stream",
          "name": "stderr",
          "text": [
            "     36/150      2.23G     0.7733      1.324      1.415          4        640: 100%|██████████| 77/77 [00:13<00:00,  5.79it/s]\n",
            "                 Class     Images  Instances      Box(P          R      mAP50  mAP50-95): 100%|██████████| 11/11 [00:01<00:00,  6.63it/s]"
          ]
        },
        {
          "output_type": "stream",
          "name": "stdout",
          "text": [
            "                   all         83        135      0.608      0.658      0.623      0.436\n"
          ]
        },
        {
          "output_type": "stream",
          "name": "stderr",
          "text": [
            "\n"
          ]
        },
        {
          "output_type": "stream",
          "name": "stdout",
          "text": [
            "\n",
            "      Epoch    GPU_mem   box_loss   cls_loss   dfl_loss  Instances       Size\n"
          ]
        },
        {
          "output_type": "stream",
          "name": "stderr",
          "text": [
            "     37/150      2.24G     0.7679      1.297      1.414          3        640: 100%|██████████| 77/77 [00:13<00:00,  5.90it/s]\n",
            "                 Class     Images  Instances      Box(P          R      mAP50  mAP50-95): 100%|██████████| 11/11 [00:01<00:00,  6.44it/s]"
          ]
        },
        {
          "output_type": "stream",
          "name": "stdout",
          "text": [
            "                   all         83        135      0.604      0.522      0.583      0.411\n"
          ]
        },
        {
          "output_type": "stream",
          "name": "stderr",
          "text": [
            "\n"
          ]
        },
        {
          "output_type": "stream",
          "name": "stdout",
          "text": [
            "\n",
            "      Epoch    GPU_mem   box_loss   cls_loss   dfl_loss  Instances       Size\n"
          ]
        },
        {
          "output_type": "stream",
          "name": "stderr",
          "text": [
            "     38/150      2.24G     0.7766       1.34       1.42          5        640: 100%|██████████| 77/77 [00:13<00:00,  5.67it/s]\n",
            "                 Class     Images  Instances      Box(P          R      mAP50  mAP50-95): 100%|██████████| 11/11 [00:01<00:00,  6.81it/s]"
          ]
        },
        {
          "output_type": "stream",
          "name": "stdout",
          "text": [
            "                   all         83        135      0.831      0.474      0.624      0.423\n"
          ]
        },
        {
          "output_type": "stream",
          "name": "stderr",
          "text": [
            "\n"
          ]
        },
        {
          "output_type": "stream",
          "name": "stdout",
          "text": [
            "\n",
            "      Epoch    GPU_mem   box_loss   cls_loss   dfl_loss  Instances       Size\n"
          ]
        },
        {
          "output_type": "stream",
          "name": "stderr",
          "text": [
            "     39/150      2.24G     0.8129       1.36      1.454          5        640: 100%|██████████| 77/77 [00:13<00:00,  5.72it/s]\n",
            "                 Class     Images  Instances      Box(P          R      mAP50  mAP50-95): 100%|██████████| 11/11 [00:01<00:00,  7.22it/s]"
          ]
        },
        {
          "output_type": "stream",
          "name": "stdout",
          "text": [
            "                   all         83        135      0.683      0.562      0.639      0.424\n"
          ]
        },
        {
          "output_type": "stream",
          "name": "stderr",
          "text": [
            "\n"
          ]
        },
        {
          "output_type": "stream",
          "name": "stdout",
          "text": [
            "\n",
            "      Epoch    GPU_mem   box_loss   cls_loss   dfl_loss  Instances       Size\n"
          ]
        },
        {
          "output_type": "stream",
          "name": "stderr",
          "text": [
            "     40/150      2.24G      0.829      1.326      1.453          2        640: 100%|██████████| 77/77 [00:13<00:00,  5.75it/s]\n",
            "                 Class     Images  Instances      Box(P          R      mAP50  mAP50-95): 100%|██████████| 11/11 [00:01<00:00,  7.37it/s]"
          ]
        },
        {
          "output_type": "stream",
          "name": "stdout",
          "text": [
            "                   all         83        135      0.847      0.426      0.588      0.427\n"
          ]
        },
        {
          "output_type": "stream",
          "name": "stderr",
          "text": [
            "\n"
          ]
        },
        {
          "output_type": "stream",
          "name": "stdout",
          "text": [
            "\n",
            "      Epoch    GPU_mem   box_loss   cls_loss   dfl_loss  Instances       Size\n"
          ]
        },
        {
          "output_type": "stream",
          "name": "stderr",
          "text": [
            "     41/150      2.25G     0.7226      1.236      1.382          2        640: 100%|██████████| 77/77 [00:13<00:00,  5.57it/s]\n",
            "                 Class     Images  Instances      Box(P          R      mAP50  mAP50-95): 100%|██████████| 11/11 [00:01<00:00,  7.67it/s]"
          ]
        },
        {
          "output_type": "stream",
          "name": "stdout",
          "text": [
            "                   all         83        135      0.481      0.681      0.598        0.4\n"
          ]
        },
        {
          "output_type": "stream",
          "name": "stderr",
          "text": [
            "\n"
          ]
        },
        {
          "output_type": "stream",
          "name": "stdout",
          "text": [
            "\n",
            "      Epoch    GPU_mem   box_loss   cls_loss   dfl_loss  Instances       Size\n"
          ]
        },
        {
          "output_type": "stream",
          "name": "stderr",
          "text": [
            "     42/150      2.24G     0.7783      1.247      1.406          7        640: 100%|██████████| 77/77 [00:13<00:00,  5.60it/s]\n",
            "                 Class     Images  Instances      Box(P          R      mAP50  mAP50-95): 100%|██████████| 11/11 [00:01<00:00,  8.60it/s]"
          ]
        },
        {
          "output_type": "stream",
          "name": "stdout",
          "text": [
            "                   all         83        135       0.61      0.592      0.626      0.409\n"
          ]
        },
        {
          "output_type": "stream",
          "name": "stderr",
          "text": [
            "\n"
          ]
        },
        {
          "output_type": "stream",
          "name": "stdout",
          "text": [
            "\n",
            "      Epoch    GPU_mem   box_loss   cls_loss   dfl_loss  Instances       Size\n"
          ]
        },
        {
          "output_type": "stream",
          "name": "stderr",
          "text": [
            "     43/150      2.23G     0.7991      1.318      1.428          4        640: 100%|██████████| 77/77 [00:14<00:00,  5.44it/s]\n",
            "                 Class     Images  Instances      Box(P          R      mAP50  mAP50-95): 100%|██████████| 11/11 [00:01<00:00,  8.59it/s]\n"
          ]
        },
        {
          "output_type": "stream",
          "name": "stdout",
          "text": [
            "                   all         83        135      0.638      0.702      0.601       0.39\n",
            "\n",
            "      Epoch    GPU_mem   box_loss   cls_loss   dfl_loss  Instances       Size\n"
          ]
        },
        {
          "output_type": "stream",
          "name": "stderr",
          "text": [
            "     44/150      2.24G     0.7793      1.313      1.429          1        640: 100%|██████████| 77/77 [00:13<00:00,  5.50it/s]\n",
            "                 Class     Images  Instances      Box(P          R      mAP50  mAP50-95): 100%|██████████| 11/11 [00:01<00:00,  8.68it/s]"
          ]
        },
        {
          "output_type": "stream",
          "name": "stdout",
          "text": [
            "                   all         83        135      0.609      0.692      0.643      0.428\n"
          ]
        },
        {
          "output_type": "stream",
          "name": "stderr",
          "text": [
            "\n"
          ]
        },
        {
          "output_type": "stream",
          "name": "stdout",
          "text": [
            "\n",
            "      Epoch    GPU_mem   box_loss   cls_loss   dfl_loss  Instances       Size\n"
          ]
        },
        {
          "output_type": "stream",
          "name": "stderr",
          "text": [
            "     45/150      2.14G     0.7798      1.265      1.419          5        640: 100%|██████████| 77/77 [00:14<00:00,  5.38it/s]\n",
            "                 Class     Images  Instances      Box(P          R      mAP50  mAP50-95): 100%|██████████| 11/11 [00:01<00:00,  8.67it/s]\n"
          ]
        },
        {
          "output_type": "stream",
          "name": "stdout",
          "text": [
            "                   all         83        135      0.657      0.583      0.614       0.43\n",
            "\n",
            "      Epoch    GPU_mem   box_loss   cls_loss   dfl_loss  Instances       Size\n"
          ]
        },
        {
          "output_type": "stream",
          "name": "stderr",
          "text": [
            "     46/150      2.24G     0.7474      1.282      1.415          2        640: 100%|██████████| 77/77 [00:14<00:00,  5.40it/s]\n",
            "                 Class     Images  Instances      Box(P          R      mAP50  mAP50-95): 100%|██████████| 11/11 [00:01<00:00,  8.80it/s]"
          ]
        },
        {
          "output_type": "stream",
          "name": "stdout",
          "text": [
            "                   all         83        135      0.574      0.625      0.619      0.418\n"
          ]
        },
        {
          "output_type": "stream",
          "name": "stderr",
          "text": [
            "\n"
          ]
        },
        {
          "output_type": "stream",
          "name": "stdout",
          "text": [
            "\n",
            "      Epoch    GPU_mem   box_loss   cls_loss   dfl_loss  Instances       Size\n"
          ]
        },
        {
          "output_type": "stream",
          "name": "stderr",
          "text": [
            "     47/150      2.23G     0.7257      1.217      1.394          5        640: 100%|██████████| 77/77 [00:15<00:00,  5.09it/s]\n",
            "                 Class     Images  Instances      Box(P          R      mAP50  mAP50-95): 100%|██████████| 11/11 [00:01<00:00,  6.52it/s]"
          ]
        },
        {
          "output_type": "stream",
          "name": "stdout",
          "text": [
            "                   all         83        135      0.566      0.698      0.659      0.432\n"
          ]
        },
        {
          "output_type": "stream",
          "name": "stderr",
          "text": [
            "\n"
          ]
        },
        {
          "output_type": "stream",
          "name": "stdout",
          "text": [
            "\n",
            "      Epoch    GPU_mem   box_loss   cls_loss   dfl_loss  Instances       Size\n"
          ]
        },
        {
          "output_type": "stream",
          "name": "stderr",
          "text": [
            "     48/150      2.23G     0.7226      1.223      1.379          5        640: 100%|██████████| 77/77 [00:14<00:00,  5.33it/s]\n",
            "                 Class     Images  Instances      Box(P          R      mAP50  mAP50-95): 100%|██████████| 11/11 [00:01<00:00,  8.71it/s]\n"
          ]
        },
        {
          "output_type": "stream",
          "name": "stdout",
          "text": [
            "                   all         83        135      0.529      0.693      0.628      0.428\n",
            "\n",
            "      Epoch    GPU_mem   box_loss   cls_loss   dfl_loss  Instances       Size\n"
          ]
        },
        {
          "output_type": "stream",
          "name": "stderr",
          "text": [
            "     49/150      2.24G     0.7596      1.195      1.403         12        640: 100%|██████████| 77/77 [00:14<00:00,  5.45it/s]\n",
            "                 Class     Images  Instances      Box(P          R      mAP50  mAP50-95): 100%|██████████| 11/11 [00:01<00:00,  8.71it/s]\n"
          ]
        },
        {
          "output_type": "stream",
          "name": "stdout",
          "text": [
            "                   all         83        135      0.616      0.693      0.688      0.471\n",
            "\n",
            "      Epoch    GPU_mem   box_loss   cls_loss   dfl_loss  Instances       Size\n"
          ]
        },
        {
          "output_type": "stream",
          "name": "stderr",
          "text": [
            "     50/150      2.24G     0.7255      1.222      1.387          5        640: 100%|██████████| 77/77 [00:14<00:00,  5.42it/s]\n",
            "                 Class     Images  Instances      Box(P          R      mAP50  mAP50-95): 100%|██████████| 11/11 [00:01<00:00,  8.78it/s]"
          ]
        },
        {
          "output_type": "stream",
          "name": "stdout",
          "text": [
            "                   all         83        135      0.671      0.712      0.705      0.461\n"
          ]
        },
        {
          "output_type": "stream",
          "name": "stderr",
          "text": [
            "\n"
          ]
        },
        {
          "output_type": "stream",
          "name": "stdout",
          "text": [
            "\n",
            "      Epoch    GPU_mem   box_loss   cls_loss   dfl_loss  Instances       Size\n"
          ]
        },
        {
          "output_type": "stream",
          "name": "stderr",
          "text": [
            "     51/150      2.24G     0.6921      1.112      1.355          2        640: 100%|██████████| 77/77 [00:14<00:00,  5.40it/s]\n",
            "                 Class     Images  Instances      Box(P          R      mAP50  mAP50-95): 100%|██████████| 11/11 [00:01<00:00,  8.76it/s]\n"
          ]
        },
        {
          "output_type": "stream",
          "name": "stdout",
          "text": [
            "                   all         83        135      0.689      0.666      0.699      0.438\n",
            "\n",
            "      Epoch    GPU_mem   box_loss   cls_loss   dfl_loss  Instances       Size\n"
          ]
        },
        {
          "output_type": "stream",
          "name": "stderr",
          "text": [
            "     52/150      2.23G     0.7354      1.192       1.38          2        640: 100%|██████████| 77/77 [00:14<00:00,  5.24it/s]\n",
            "                 Class     Images  Instances      Box(P          R      mAP50  mAP50-95): 100%|██████████| 11/11 [00:01<00:00,  8.77it/s]\n"
          ]
        },
        {
          "output_type": "stream",
          "name": "stdout",
          "text": [
            "                   all         83        135      0.502      0.632      0.643      0.449\n",
            "\n",
            "      Epoch    GPU_mem   box_loss   cls_loss   dfl_loss  Instances       Size\n"
          ]
        },
        {
          "output_type": "stream",
          "name": "stderr",
          "text": [
            "     53/150      2.25G     0.7198      1.187       1.39          2        640: 100%|██████████| 77/77 [00:14<00:00,  5.40it/s]\n",
            "                 Class     Images  Instances      Box(P          R      mAP50  mAP50-95): 100%|██████████| 11/11 [00:01<00:00,  8.73it/s]"
          ]
        },
        {
          "output_type": "stream",
          "name": "stdout",
          "text": [
            "                   all         83        135      0.586      0.724      0.695      0.488\n"
          ]
        },
        {
          "output_type": "stream",
          "name": "stderr",
          "text": [
            "\n"
          ]
        },
        {
          "output_type": "stream",
          "name": "stdout",
          "text": [
            "\n",
            "      Epoch    GPU_mem   box_loss   cls_loss   dfl_loss  Instances       Size\n"
          ]
        },
        {
          "output_type": "stream",
          "name": "stderr",
          "text": [
            "     54/150      2.24G     0.7123      1.197      1.376          2        640: 100%|██████████| 77/77 [00:14<00:00,  5.37it/s]\n",
            "                 Class     Images  Instances      Box(P          R      mAP50  mAP50-95): 100%|██████████| 11/11 [00:01<00:00,  8.67it/s]\n"
          ]
        },
        {
          "output_type": "stream",
          "name": "stdout",
          "text": [
            "                   all         83        135       0.59      0.635      0.641      0.457\n",
            "\n",
            "      Epoch    GPU_mem   box_loss   cls_loss   dfl_loss  Instances       Size\n"
          ]
        },
        {
          "output_type": "stream",
          "name": "stderr",
          "text": [
            "     55/150      2.24G     0.7002      1.147      1.338          5        640: 100%|██████████| 77/77 [00:14<00:00,  5.41it/s]\n",
            "                 Class     Images  Instances      Box(P          R      mAP50  mAP50-95): 100%|██████████| 11/11 [00:01<00:00,  8.71it/s]\n"
          ]
        },
        {
          "output_type": "stream",
          "name": "stdout",
          "text": [
            "                   all         83        135      0.611      0.579      0.618      0.449\n",
            "\n",
            "      Epoch    GPU_mem   box_loss   cls_loss   dfl_loss  Instances       Size\n"
          ]
        },
        {
          "output_type": "stream",
          "name": "stderr",
          "text": [
            "     56/150      2.23G     0.7577      1.208      1.392          1        640: 100%|██████████| 77/77 [00:14<00:00,  5.33it/s]\n",
            "                 Class     Images  Instances      Box(P          R      mAP50  mAP50-95): 100%|██████████| 11/11 [00:01<00:00,  8.82it/s]"
          ]
        },
        {
          "output_type": "stream",
          "name": "stdout",
          "text": [
            "                   all         83        135      0.664      0.679      0.698      0.479\n"
          ]
        },
        {
          "output_type": "stream",
          "name": "stderr",
          "text": [
            "\n"
          ]
        },
        {
          "output_type": "stream",
          "name": "stdout",
          "text": [
            "\n",
            "      Epoch    GPU_mem   box_loss   cls_loss   dfl_loss  Instances       Size\n"
          ]
        },
        {
          "output_type": "stream",
          "name": "stderr",
          "text": [
            "     57/150      2.25G     0.7273      1.155      1.368          2        640: 100%|██████████| 77/77 [00:14<00:00,  5.33it/s]\n",
            "                 Class     Images  Instances      Box(P          R      mAP50  mAP50-95): 100%|██████████| 11/11 [00:01<00:00,  8.71it/s]\n"
          ]
        },
        {
          "output_type": "stream",
          "name": "stdout",
          "text": [
            "                   all         83        135      0.681      0.653      0.653      0.431\n",
            "\n",
            "      Epoch    GPU_mem   box_loss   cls_loss   dfl_loss  Instances       Size\n"
          ]
        },
        {
          "output_type": "stream",
          "name": "stderr",
          "text": [
            "     58/150      2.23G     0.7083      1.145      1.367          3        640: 100%|██████████| 77/77 [00:14<00:00,  5.43it/s]\n",
            "                 Class     Images  Instances      Box(P          R      mAP50  mAP50-95): 100%|██████████| 11/11 [00:01<00:00,  8.80it/s]\n"
          ]
        },
        {
          "output_type": "stream",
          "name": "stdout",
          "text": [
            "                   all         83        135      0.708      0.683      0.694      0.469\n",
            "\n",
            "      Epoch    GPU_mem   box_loss   cls_loss   dfl_loss  Instances       Size\n"
          ]
        },
        {
          "output_type": "stream",
          "name": "stderr",
          "text": [
            "     59/150      2.23G     0.6816      1.117      1.351          8        640: 100%|██████████| 77/77 [00:14<00:00,  5.45it/s]\n",
            "                 Class     Images  Instances      Box(P          R      mAP50  mAP50-95): 100%|██████████| 11/11 [00:01<00:00,  7.73it/s]"
          ]
        },
        {
          "output_type": "stream",
          "name": "stdout",
          "text": [
            "                   all         83        135      0.602      0.774      0.696      0.467\n"
          ]
        },
        {
          "output_type": "stream",
          "name": "stderr",
          "text": [
            "\n"
          ]
        },
        {
          "output_type": "stream",
          "name": "stdout",
          "text": [
            "\n",
            "      Epoch    GPU_mem   box_loss   cls_loss   dfl_loss  Instances       Size\n"
          ]
        },
        {
          "output_type": "stream",
          "name": "stderr",
          "text": [
            "     60/150      2.23G     0.7247      1.138      1.369         14        640: 100%|██████████| 77/77 [00:13<00:00,  5.52it/s]\n",
            "                 Class     Images  Instances      Box(P          R      mAP50  mAP50-95): 100%|██████████| 11/11 [00:01<00:00,  6.36it/s]"
          ]
        },
        {
          "output_type": "stream",
          "name": "stdout",
          "text": [
            "                   all         83        135      0.574      0.644       0.66      0.443\n"
          ]
        },
        {
          "output_type": "stream",
          "name": "stderr",
          "text": [
            "\n"
          ]
        },
        {
          "output_type": "stream",
          "name": "stdout",
          "text": [
            "\n",
            "      Epoch    GPU_mem   box_loss   cls_loss   dfl_loss  Instances       Size\n"
          ]
        },
        {
          "output_type": "stream",
          "name": "stderr",
          "text": [
            "     61/150      2.14G     0.6889      1.097      1.352          4        640: 100%|██████████| 77/77 [00:13<00:00,  5.77it/s]\n",
            "                 Class     Images  Instances      Box(P          R      mAP50  mAP50-95): 100%|██████████| 11/11 [00:01<00:00,  6.53it/s]"
          ]
        },
        {
          "output_type": "stream",
          "name": "stdout",
          "text": [
            "                   all         83        135       0.68      0.638      0.697       0.49\n"
          ]
        },
        {
          "output_type": "stream",
          "name": "stderr",
          "text": [
            "\n"
          ]
        },
        {
          "output_type": "stream",
          "name": "stdout",
          "text": [
            "\n",
            "      Epoch    GPU_mem   box_loss   cls_loss   dfl_loss  Instances       Size\n"
          ]
        },
        {
          "output_type": "stream",
          "name": "stderr",
          "text": [
            "     62/150      2.25G     0.6961      1.068      1.353          6        640: 100%|██████████| 77/77 [00:15<00:00,  4.98it/s]\n",
            "                 Class     Images  Instances      Box(P          R      mAP50  mAP50-95): 100%|██████████| 11/11 [00:01<00:00,  6.83it/s]"
          ]
        },
        {
          "output_type": "stream",
          "name": "stdout",
          "text": [
            "                   all         83        135      0.667      0.747      0.735      0.546\n"
          ]
        },
        {
          "output_type": "stream",
          "name": "stderr",
          "text": [
            "\n"
          ]
        },
        {
          "output_type": "stream",
          "name": "stdout",
          "text": [
            "\n",
            "      Epoch    GPU_mem   box_loss   cls_loss   dfl_loss  Instances       Size\n"
          ]
        },
        {
          "output_type": "stream",
          "name": "stderr",
          "text": [
            "     63/150      2.25G     0.6891      1.065      1.346          3        640: 100%|██████████| 77/77 [00:13<00:00,  5.65it/s]\n",
            "                 Class     Images  Instances      Box(P          R      mAP50  mAP50-95): 100%|██████████| 11/11 [00:01<00:00,  6.48it/s]"
          ]
        },
        {
          "output_type": "stream",
          "name": "stdout",
          "text": [
            "                   all         83        135      0.653      0.725      0.725      0.503\n"
          ]
        },
        {
          "output_type": "stream",
          "name": "stderr",
          "text": [
            "\n"
          ]
        },
        {
          "output_type": "stream",
          "name": "stdout",
          "text": [
            "\n",
            "      Epoch    GPU_mem   box_loss   cls_loss   dfl_loss  Instances       Size\n"
          ]
        },
        {
          "output_type": "stream",
          "name": "stderr",
          "text": [
            "     64/150      2.24G     0.6677      1.074      1.335          2        640: 100%|██████████| 77/77 [00:13<00:00,  5.80it/s]\n",
            "                 Class     Images  Instances      Box(P          R      mAP50  mAP50-95): 100%|██████████| 11/11 [00:01<00:00,  6.67it/s]"
          ]
        },
        {
          "output_type": "stream",
          "name": "stdout",
          "text": [
            "                   all         83        135      0.559      0.686      0.644      0.451\n"
          ]
        },
        {
          "output_type": "stream",
          "name": "stderr",
          "text": [
            "\n"
          ]
        },
        {
          "output_type": "stream",
          "name": "stdout",
          "text": [
            "\n",
            "      Epoch    GPU_mem   box_loss   cls_loss   dfl_loss  Instances       Size\n"
          ]
        },
        {
          "output_type": "stream",
          "name": "stderr",
          "text": [
            "     65/150      2.21G     0.6635      1.018      1.337          2        640: 100%|██████████| 77/77 [00:13<00:00,  5.92it/s]\n",
            "                 Class     Images  Instances      Box(P          R      mAP50  mAP50-95): 100%|██████████| 11/11 [00:01<00:00,  6.69it/s]"
          ]
        },
        {
          "output_type": "stream",
          "name": "stdout",
          "text": [
            "                   all         83        135      0.706       0.63      0.671      0.473\n"
          ]
        },
        {
          "output_type": "stream",
          "name": "stderr",
          "text": [
            "\n"
          ]
        },
        {
          "output_type": "stream",
          "name": "stdout",
          "text": [
            "\n",
            "      Epoch    GPU_mem   box_loss   cls_loss   dfl_loss  Instances       Size\n"
          ]
        },
        {
          "output_type": "stream",
          "name": "stderr",
          "text": [
            "     66/150      2.26G     0.6738      1.099      1.352          2        640: 100%|██████████| 77/77 [00:13<00:00,  5.79it/s]\n",
            "                 Class     Images  Instances      Box(P          R      mAP50  mAP50-95): 100%|██████████| 11/11 [00:01<00:00,  6.77it/s]"
          ]
        },
        {
          "output_type": "stream",
          "name": "stdout",
          "text": [
            "                   all         83        135      0.573      0.658      0.608       0.42\n"
          ]
        },
        {
          "output_type": "stream",
          "name": "stderr",
          "text": [
            "\n"
          ]
        },
        {
          "output_type": "stream",
          "name": "stdout",
          "text": [
            "\n",
            "      Epoch    GPU_mem   box_loss   cls_loss   dfl_loss  Instances       Size\n"
          ]
        },
        {
          "output_type": "stream",
          "name": "stderr",
          "text": [
            "     67/150      2.24G     0.6611      1.092      1.328         10        640: 100%|██████████| 77/77 [00:13<00:00,  5.70it/s]\n",
            "                 Class     Images  Instances      Box(P          R      mAP50  mAP50-95): 100%|██████████| 11/11 [00:01<00:00,  6.90it/s]"
          ]
        },
        {
          "output_type": "stream",
          "name": "stdout",
          "text": [
            "                   all         83        135      0.632      0.602       0.63      0.441\n"
          ]
        },
        {
          "output_type": "stream",
          "name": "stderr",
          "text": [
            "\n"
          ]
        },
        {
          "output_type": "stream",
          "name": "stdout",
          "text": [
            "\n",
            "      Epoch    GPU_mem   box_loss   cls_loss   dfl_loss  Instances       Size\n"
          ]
        },
        {
          "output_type": "stream",
          "name": "stderr",
          "text": [
            "     68/150      2.24G     0.6783      1.088      1.346          4        640: 100%|██████████| 77/77 [00:13<00:00,  5.64it/s]\n",
            "                 Class     Images  Instances      Box(P          R      mAP50  mAP50-95): 100%|██████████| 11/11 [00:01<00:00,  7.30it/s]"
          ]
        },
        {
          "output_type": "stream",
          "name": "stdout",
          "text": [
            "                   all         83        135      0.734      0.591      0.693      0.494\n"
          ]
        },
        {
          "output_type": "stream",
          "name": "stderr",
          "text": [
            "\n"
          ]
        },
        {
          "output_type": "stream",
          "name": "stdout",
          "text": [
            "\n",
            "      Epoch    GPU_mem   box_loss   cls_loss   dfl_loss  Instances       Size\n"
          ]
        },
        {
          "output_type": "stream",
          "name": "stderr",
          "text": [
            "     69/150      2.22G     0.6812      1.067      1.361          4        640: 100%|██████████| 77/77 [00:13<00:00,  5.66it/s]\n",
            "                 Class     Images  Instances      Box(P          R      mAP50  mAP50-95): 100%|██████████| 11/11 [00:01<00:00,  7.34it/s]"
          ]
        },
        {
          "output_type": "stream",
          "name": "stdout",
          "text": [
            "                   all         83        135      0.598      0.698      0.643      0.481\n"
          ]
        },
        {
          "output_type": "stream",
          "name": "stderr",
          "text": [
            "\n"
          ]
        },
        {
          "output_type": "stream",
          "name": "stdout",
          "text": [
            "\n",
            "      Epoch    GPU_mem   box_loss   cls_loss   dfl_loss  Instances       Size\n"
          ]
        },
        {
          "output_type": "stream",
          "name": "stderr",
          "text": [
            "     70/150      2.23G     0.6517      1.012      1.321          1        640: 100%|██████████| 77/77 [00:13<00:00,  5.61it/s]\n",
            "                 Class     Images  Instances      Box(P          R      mAP50  mAP50-95): 100%|██████████| 11/11 [00:01<00:00,  8.58it/s]"
          ]
        },
        {
          "output_type": "stream",
          "name": "stdout",
          "text": [
            "                   all         83        135      0.635      0.614       0.68      0.504\n"
          ]
        },
        {
          "output_type": "stream",
          "name": "stderr",
          "text": [
            "\n"
          ]
        },
        {
          "output_type": "stream",
          "name": "stdout",
          "text": [
            "\n",
            "      Epoch    GPU_mem   box_loss   cls_loss   dfl_loss  Instances       Size\n"
          ]
        },
        {
          "output_type": "stream",
          "name": "stderr",
          "text": [
            "     71/150      2.23G     0.6397      1.039        1.3          2        640: 100%|██████████| 77/77 [00:13<00:00,  5.62it/s]\n",
            "                 Class     Images  Instances      Box(P          R      mAP50  mAP50-95): 100%|██████████| 11/11 [00:01<00:00,  8.62it/s]"
          ]
        },
        {
          "output_type": "stream",
          "name": "stdout",
          "text": [
            "                   all         83        135      0.753      0.662      0.712      0.533\n"
          ]
        },
        {
          "output_type": "stream",
          "name": "stderr",
          "text": [
            "\n"
          ]
        },
        {
          "output_type": "stream",
          "name": "stdout",
          "text": [
            "\n",
            "      Epoch    GPU_mem   box_loss   cls_loss   dfl_loss  Instances       Size\n"
          ]
        },
        {
          "output_type": "stream",
          "name": "stderr",
          "text": [
            "     72/150      2.25G     0.6516      1.038      1.323          4        640: 100%|██████████| 77/77 [00:13<00:00,  5.55it/s]\n",
            "                 Class     Images  Instances      Box(P          R      mAP50  mAP50-95): 100%|██████████| 11/11 [00:01<00:00,  8.65it/s]"
          ]
        },
        {
          "output_type": "stream",
          "name": "stdout",
          "text": [
            "                   all         83        135       0.73      0.731      0.745      0.555\n"
          ]
        },
        {
          "output_type": "stream",
          "name": "stderr",
          "text": [
            "\n"
          ]
        },
        {
          "output_type": "stream",
          "name": "stdout",
          "text": [
            "\n",
            "      Epoch    GPU_mem   box_loss   cls_loss   dfl_loss  Instances       Size\n"
          ]
        },
        {
          "output_type": "stream",
          "name": "stderr",
          "text": [
            "     73/150      2.25G     0.6611       1.05      1.321          1        640: 100%|██████████| 77/77 [00:14<00:00,  5.48it/s]\n",
            "                 Class     Images  Instances      Box(P          R      mAP50  mAP50-95): 100%|██████████| 11/11 [00:01<00:00,  8.79it/s]"
          ]
        },
        {
          "output_type": "stream",
          "name": "stdout",
          "text": [
            "                   all         83        135      0.747      0.703      0.735      0.532\n"
          ]
        },
        {
          "output_type": "stream",
          "name": "stderr",
          "text": [
            "\n"
          ]
        },
        {
          "output_type": "stream",
          "name": "stdout",
          "text": [
            "\n",
            "      Epoch    GPU_mem   box_loss   cls_loss   dfl_loss  Instances       Size\n"
          ]
        },
        {
          "output_type": "stream",
          "name": "stderr",
          "text": [
            "     74/150      2.24G     0.6117      1.025      1.298          2        640: 100%|██████████| 77/77 [00:14<00:00,  5.42it/s]\n",
            "                 Class     Images  Instances      Box(P          R      mAP50  mAP50-95): 100%|██████████| 11/11 [00:01<00:00,  8.67it/s]\n"
          ]
        },
        {
          "output_type": "stream",
          "name": "stdout",
          "text": [
            "                   all         83        135      0.606      0.701      0.669       0.47\n",
            "\n",
            "      Epoch    GPU_mem   box_loss   cls_loss   dfl_loss  Instances       Size\n"
          ]
        },
        {
          "output_type": "stream",
          "name": "stderr",
          "text": [
            "     75/150      2.23G     0.6117       1.02      1.297          4        640: 100%|██████████| 77/77 [00:13<00:00,  5.50it/s]\n",
            "                 Class     Images  Instances      Box(P          R      mAP50  mAP50-95): 100%|██████████| 11/11 [00:01<00:00,  8.90it/s]"
          ]
        },
        {
          "output_type": "stream",
          "name": "stdout",
          "text": [
            "                   all         83        135       0.68      0.694      0.669       0.45\n"
          ]
        },
        {
          "output_type": "stream",
          "name": "stderr",
          "text": [
            "\n"
          ]
        },
        {
          "output_type": "stream",
          "name": "stdout",
          "text": [
            "\n",
            "      Epoch    GPU_mem   box_loss   cls_loss   dfl_loss  Instances       Size\n"
          ]
        },
        {
          "output_type": "stream",
          "name": "stderr",
          "text": [
            "     76/150      2.23G     0.6532      1.025      1.307          1        640: 100%|██████████| 77/77 [00:16<00:00,  4.69it/s]\n",
            "                 Class     Images  Instances      Box(P          R      mAP50  mAP50-95): 100%|██████████| 11/11 [00:01<00:00,  8.83it/s]"
          ]
        },
        {
          "output_type": "stream",
          "name": "stdout",
          "text": [
            "                   all         83        135      0.569      0.747      0.676      0.484\n"
          ]
        },
        {
          "output_type": "stream",
          "name": "stderr",
          "text": [
            "\n"
          ]
        },
        {
          "output_type": "stream",
          "name": "stdout",
          "text": [
            "\n",
            "      Epoch    GPU_mem   box_loss   cls_loss   dfl_loss  Instances       Size\n"
          ]
        },
        {
          "output_type": "stream",
          "name": "stderr",
          "text": [
            "     77/150      2.17G     0.6459     0.9833      1.318          8        640: 100%|██████████| 77/77 [00:14<00:00,  5.21it/s]\n",
            "                 Class     Images  Instances      Box(P          R      mAP50  mAP50-95): 100%|██████████| 11/11 [00:01<00:00,  8.75it/s]"
          ]
        },
        {
          "output_type": "stream",
          "name": "stdout",
          "text": [
            "                   all         83        135      0.599      0.721      0.701      0.512\n"
          ]
        },
        {
          "output_type": "stream",
          "name": "stderr",
          "text": [
            "\n"
          ]
        },
        {
          "output_type": "stream",
          "name": "stdout",
          "text": [
            "\n",
            "      Epoch    GPU_mem   box_loss   cls_loss   dfl_loss  Instances       Size\n"
          ]
        },
        {
          "output_type": "stream",
          "name": "stderr",
          "text": [
            "     78/150      2.24G     0.5922     0.9454      1.277          4        640: 100%|██████████| 77/77 [00:14<00:00,  5.30it/s]\n",
            "                 Class     Images  Instances      Box(P          R      mAP50  mAP50-95): 100%|██████████| 11/11 [00:01<00:00,  8.66it/s]\n"
          ]
        },
        {
          "output_type": "stream",
          "name": "stdout",
          "text": [
            "                   all         83        135      0.732       0.67      0.719      0.467\n",
            "\n",
            "      Epoch    GPU_mem   box_loss   cls_loss   dfl_loss  Instances       Size\n"
          ]
        },
        {
          "output_type": "stream",
          "name": "stderr",
          "text": [
            "     79/150      2.24G     0.6313      1.013      1.294          2        640: 100%|██████████| 77/77 [00:14<00:00,  5.40it/s]\n",
            "                 Class     Images  Instances      Box(P          R      mAP50  mAP50-95): 100%|██████████| 11/11 [00:01<00:00,  8.69it/s]"
          ]
        },
        {
          "output_type": "stream",
          "name": "stdout",
          "text": [
            "                   all         83        135      0.711      0.734      0.749       0.55\n"
          ]
        },
        {
          "output_type": "stream",
          "name": "stderr",
          "text": [
            "\n"
          ]
        },
        {
          "output_type": "stream",
          "name": "stdout",
          "text": [
            "\n",
            "      Epoch    GPU_mem   box_loss   cls_loss   dfl_loss  Instances       Size\n"
          ]
        },
        {
          "output_type": "stream",
          "name": "stderr",
          "text": [
            "     80/150      2.25G     0.6043     0.9145      1.284          6        640: 100%|██████████| 77/77 [00:14<00:00,  5.39it/s]\n",
            "                 Class     Images  Instances      Box(P          R      mAP50  mAP50-95): 100%|██████████| 11/11 [00:01<00:00,  8.81it/s]"
          ]
        },
        {
          "output_type": "stream",
          "name": "stdout",
          "text": [
            "                   all         83        135      0.739      0.658      0.762      0.531\n"
          ]
        },
        {
          "output_type": "stream",
          "name": "stderr",
          "text": [
            "\n"
          ]
        },
        {
          "output_type": "stream",
          "name": "stdout",
          "text": [
            "\n",
            "      Epoch    GPU_mem   box_loss   cls_loss   dfl_loss  Instances       Size\n"
          ]
        },
        {
          "output_type": "stream",
          "name": "stderr",
          "text": [
            "     81/150      2.22G     0.6067     0.9273      1.284          5        640: 100%|██████████| 77/77 [00:14<00:00,  5.47it/s]\n",
            "                 Class     Images  Instances      Box(P          R      mAP50  mAP50-95): 100%|██████████| 11/11 [00:01<00:00,  8.59it/s]"
          ]
        },
        {
          "output_type": "stream",
          "name": "stdout",
          "text": [
            "                   all         83        135      0.688      0.721      0.743       0.53\n"
          ]
        },
        {
          "output_type": "stream",
          "name": "stderr",
          "text": [
            "\n"
          ]
        },
        {
          "output_type": "stream",
          "name": "stdout",
          "text": [
            "\n",
            "      Epoch    GPU_mem   box_loss   cls_loss   dfl_loss  Instances       Size\n"
          ]
        },
        {
          "output_type": "stream",
          "name": "stderr",
          "text": [
            "     82/150      2.23G     0.6106     0.9189      1.281          2        640: 100%|██████████| 77/77 [00:14<00:00,  5.49it/s]\n",
            "                 Class     Images  Instances      Box(P          R      mAP50  mAP50-95): 100%|██████████| 11/11 [00:01<00:00,  8.31it/s]"
          ]
        },
        {
          "output_type": "stream",
          "name": "stdout",
          "text": [
            "                   all         83        135      0.646      0.656      0.691      0.495\n"
          ]
        },
        {
          "output_type": "stream",
          "name": "stderr",
          "text": [
            "\n"
          ]
        },
        {
          "output_type": "stream",
          "name": "stdout",
          "text": [
            "\n",
            "      Epoch    GPU_mem   box_loss   cls_loss   dfl_loss  Instances       Size\n"
          ]
        },
        {
          "output_type": "stream",
          "name": "stderr",
          "text": [
            "     83/150      2.25G     0.5976     0.9576      1.296          3        640: 100%|██████████| 77/77 [00:13<00:00,  5.62it/s]\n",
            "                 Class     Images  Instances      Box(P          R      mAP50  mAP50-95): 100%|██████████| 11/11 [00:01<00:00,  6.94it/s]"
          ]
        },
        {
          "output_type": "stream",
          "name": "stdout",
          "text": [
            "                   all         83        135      0.686      0.691      0.724      0.484\n"
          ]
        },
        {
          "output_type": "stream",
          "name": "stderr",
          "text": [
            "\n"
          ]
        },
        {
          "output_type": "stream",
          "name": "stdout",
          "text": [
            "\n",
            "      Epoch    GPU_mem   box_loss   cls_loss   dfl_loss  Instances       Size\n"
          ]
        },
        {
          "output_type": "stream",
          "name": "stderr",
          "text": [
            "     84/150      2.23G     0.5916     0.8782      1.271          4        640: 100%|██████████| 77/77 [00:13<00:00,  5.59it/s]\n",
            "                 Class     Images  Instances      Box(P          R      mAP50  mAP50-95): 100%|██████████| 11/11 [00:01<00:00,  6.21it/s]"
          ]
        },
        {
          "output_type": "stream",
          "name": "stdout",
          "text": [
            "                   all         83        135      0.678      0.712      0.738      0.523\n"
          ]
        },
        {
          "output_type": "stream",
          "name": "stderr",
          "text": [
            "\n"
          ]
        },
        {
          "output_type": "stream",
          "name": "stdout",
          "text": [
            "\n",
            "      Epoch    GPU_mem   box_loss   cls_loss   dfl_loss  Instances       Size\n"
          ]
        },
        {
          "output_type": "stream",
          "name": "stderr",
          "text": [
            "     85/150      2.24G     0.5953      0.974      1.281          2        640: 100%|██████████| 77/77 [00:13<00:00,  5.64it/s]\n",
            "                 Class     Images  Instances      Box(P          R      mAP50  mAP50-95): 100%|██████████| 11/11 [00:01<00:00,  6.55it/s]"
          ]
        },
        {
          "output_type": "stream",
          "name": "stdout",
          "text": [
            "                   all         83        135      0.641       0.77      0.726      0.537\n"
          ]
        },
        {
          "output_type": "stream",
          "name": "stderr",
          "text": [
            "\n"
          ]
        },
        {
          "output_type": "stream",
          "name": "stdout",
          "text": [
            "\n",
            "      Epoch    GPU_mem   box_loss   cls_loss   dfl_loss  Instances       Size\n"
          ]
        },
        {
          "output_type": "stream",
          "name": "stderr",
          "text": [
            "     86/150      2.24G     0.5587     0.9001      1.253          4        640: 100%|██████████| 77/77 [00:13<00:00,  5.75it/s]\n",
            "                 Class     Images  Instances      Box(P          R      mAP50  mAP50-95): 100%|██████████| 11/11 [00:01<00:00,  6.52it/s]"
          ]
        },
        {
          "output_type": "stream",
          "name": "stdout",
          "text": [
            "                   all         83        135      0.644      0.722      0.727       0.53\n"
          ]
        },
        {
          "output_type": "stream",
          "name": "stderr",
          "text": [
            "\n"
          ]
        },
        {
          "output_type": "stream",
          "name": "stdout",
          "text": [
            "\n",
            "      Epoch    GPU_mem   box_loss   cls_loss   dfl_loss  Instances       Size\n"
          ]
        },
        {
          "output_type": "stream",
          "name": "stderr",
          "text": [
            "     87/150      2.23G     0.5818     0.9108      1.279          5        640: 100%|██████████| 77/77 [00:13<00:00,  5.75it/s]\n",
            "                 Class     Images  Instances      Box(P          R      mAP50  mAP50-95): 100%|██████████| 11/11 [00:01<00:00,  6.61it/s]"
          ]
        },
        {
          "output_type": "stream",
          "name": "stdout",
          "text": [
            "                   all         83        135      0.698      0.725      0.723      0.537\n"
          ]
        },
        {
          "output_type": "stream",
          "name": "stderr",
          "text": [
            "\n"
          ]
        },
        {
          "output_type": "stream",
          "name": "stdout",
          "text": [
            "\n",
            "      Epoch    GPU_mem   box_loss   cls_loss   dfl_loss  Instances       Size\n"
          ]
        },
        {
          "output_type": "stream",
          "name": "stderr",
          "text": [
            "     88/150      2.23G     0.5827     0.8953       1.26          2        640: 100%|██████████| 77/77 [00:13<00:00,  5.89it/s]\n",
            "                 Class     Images  Instances      Box(P          R      mAP50  mAP50-95): 100%|██████████| 11/11 [00:01<00:00,  6.59it/s]"
          ]
        },
        {
          "output_type": "stream",
          "name": "stdout",
          "text": [
            "                   all         83        135      0.661      0.765      0.715      0.512\n"
          ]
        },
        {
          "output_type": "stream",
          "name": "stderr",
          "text": [
            "\n"
          ]
        },
        {
          "output_type": "stream",
          "name": "stdout",
          "text": [
            "\n",
            "      Epoch    GPU_mem   box_loss   cls_loss   dfl_loss  Instances       Size\n"
          ]
        },
        {
          "output_type": "stream",
          "name": "stderr",
          "text": [
            "     89/150      2.23G     0.5495     0.8749      1.236          5        640: 100%|██████████| 77/77 [00:13<00:00,  5.92it/s]\n",
            "                 Class     Images  Instances      Box(P          R      mAP50  mAP50-95): 100%|██████████| 11/11 [00:01<00:00,  7.10it/s]"
          ]
        },
        {
          "output_type": "stream",
          "name": "stdout",
          "text": [
            "                   all         83        135      0.621      0.722       0.67      0.507\n"
          ]
        },
        {
          "output_type": "stream",
          "name": "stderr",
          "text": [
            "\n"
          ]
        },
        {
          "output_type": "stream",
          "name": "stdout",
          "text": [
            "\n",
            "      Epoch    GPU_mem   box_loss   cls_loss   dfl_loss  Instances       Size\n"
          ]
        },
        {
          "output_type": "stream",
          "name": "stderr",
          "text": [
            "     90/150      2.24G     0.6207     0.9137      1.293          2        640: 100%|██████████| 77/77 [00:15<00:00,  4.93it/s]\n",
            "                 Class     Images  Instances      Box(P          R      mAP50  mAP50-95): 100%|██████████| 11/11 [00:01<00:00,  6.50it/s]"
          ]
        },
        {
          "output_type": "stream",
          "name": "stdout",
          "text": [
            "                   all         83        135      0.741      0.673       0.74       0.55\n"
          ]
        },
        {
          "output_type": "stream",
          "name": "stderr",
          "text": [
            "\n"
          ]
        },
        {
          "output_type": "stream",
          "name": "stdout",
          "text": [
            "\n",
            "      Epoch    GPU_mem   box_loss   cls_loss   dfl_loss  Instances       Size\n"
          ]
        },
        {
          "output_type": "stream",
          "name": "stderr",
          "text": [
            "     91/150      2.23G     0.5703     0.8467      1.245          2        640: 100%|██████████| 77/77 [00:13<00:00,  5.80it/s]\n",
            "                 Class     Images  Instances      Box(P          R      mAP50  mAP50-95): 100%|██████████| 11/11 [00:01<00:00,  6.45it/s]"
          ]
        },
        {
          "output_type": "stream",
          "name": "stdout",
          "text": [
            "                   all         83        135      0.699      0.689      0.756      0.551\n"
          ]
        },
        {
          "output_type": "stream",
          "name": "stderr",
          "text": [
            "\n"
          ]
        },
        {
          "output_type": "stream",
          "name": "stdout",
          "text": [
            "\n",
            "      Epoch    GPU_mem   box_loss   cls_loss   dfl_loss  Instances       Size\n"
          ]
        },
        {
          "output_type": "stream",
          "name": "stderr",
          "text": [
            "     92/150      2.23G     0.6056     0.9386      1.268          3        640: 100%|██████████| 77/77 [00:13<00:00,  5.81it/s]\n",
            "                 Class     Images  Instances      Box(P          R      mAP50  mAP50-95): 100%|██████████| 11/11 [00:01<00:00,  6.93it/s]"
          ]
        },
        {
          "output_type": "stream",
          "name": "stdout",
          "text": [
            "                   all         83        135      0.713      0.746      0.753      0.543\n"
          ]
        },
        {
          "output_type": "stream",
          "name": "stderr",
          "text": [
            "\n"
          ]
        },
        {
          "output_type": "stream",
          "name": "stdout",
          "text": [
            "\n",
            "      Epoch    GPU_mem   box_loss   cls_loss   dfl_loss  Instances       Size\n"
          ]
        },
        {
          "output_type": "stream",
          "name": "stderr",
          "text": [
            "     93/150      2.17G     0.5828     0.8557      1.263          4        640: 100%|██████████| 77/77 [00:13<00:00,  5.85it/s]\n",
            "                 Class     Images  Instances      Box(P          R      mAP50  mAP50-95): 100%|██████████| 11/11 [00:01<00:00,  7.03it/s]"
          ]
        },
        {
          "output_type": "stream",
          "name": "stdout",
          "text": [
            "                   all         83        135      0.752      0.694      0.745       0.53\n"
          ]
        },
        {
          "output_type": "stream",
          "name": "stderr",
          "text": [
            "\n"
          ]
        },
        {
          "output_type": "stream",
          "name": "stdout",
          "text": [
            "\n",
            "      Epoch    GPU_mem   box_loss   cls_loss   dfl_loss  Instances       Size\n"
          ]
        },
        {
          "output_type": "stream",
          "name": "stderr",
          "text": [
            "     94/150      2.24G     0.5595     0.8438      1.247          5        640: 100%|██████████| 77/77 [00:13<00:00,  5.78it/s]\n",
            "                 Class     Images  Instances      Box(P          R      mAP50  mAP50-95): 100%|██████████| 11/11 [00:01<00:00,  6.84it/s]"
          ]
        },
        {
          "output_type": "stream",
          "name": "stdout",
          "text": [
            "                   all         83        135      0.663      0.728      0.699        0.5\n"
          ]
        },
        {
          "output_type": "stream",
          "name": "stderr",
          "text": [
            "\n"
          ]
        },
        {
          "output_type": "stream",
          "name": "stdout",
          "text": [
            "\n",
            "      Epoch    GPU_mem   box_loss   cls_loss   dfl_loss  Instances       Size\n"
          ]
        },
        {
          "output_type": "stream",
          "name": "stderr",
          "text": [
            "     95/150      2.23G     0.5814      0.837      1.237          4        640: 100%|██████████| 77/77 [00:13<00:00,  5.72it/s]\n",
            "                 Class     Images  Instances      Box(P          R      mAP50  mAP50-95): 100%|██████████| 11/11 [00:01<00:00,  7.46it/s]"
          ]
        },
        {
          "output_type": "stream",
          "name": "stdout",
          "text": [
            "                   all         83        135       0.72      0.718      0.726      0.516\n"
          ]
        },
        {
          "output_type": "stream",
          "name": "stderr",
          "text": [
            "\n"
          ]
        },
        {
          "output_type": "stream",
          "name": "stdout",
          "text": [
            "\n",
            "      Epoch    GPU_mem   box_loss   cls_loss   dfl_loss  Instances       Size\n"
          ]
        },
        {
          "output_type": "stream",
          "name": "stderr",
          "text": [
            "     96/150      2.23G      0.559      0.819      1.244          4        640: 100%|██████████| 77/77 [00:13<00:00,  5.55it/s]\n",
            "                 Class     Images  Instances      Box(P          R      mAP50  mAP50-95): 100%|██████████| 11/11 [00:01<00:00,  7.51it/s]"
          ]
        },
        {
          "output_type": "stream",
          "name": "stdout",
          "text": [
            "                   all         83        135       0.65      0.772      0.708      0.506\n"
          ]
        },
        {
          "output_type": "stream",
          "name": "stderr",
          "text": [
            "\n"
          ]
        },
        {
          "output_type": "stream",
          "name": "stdout",
          "text": [
            "\n",
            "      Epoch    GPU_mem   box_loss   cls_loss   dfl_loss  Instances       Size\n"
          ]
        },
        {
          "output_type": "stream",
          "name": "stderr",
          "text": [
            "     97/150      2.21G      0.522     0.8156      1.208          1        640: 100%|██████████| 77/77 [00:13<00:00,  5.58it/s]\n",
            "                 Class     Images  Instances      Box(P          R      mAP50  mAP50-95): 100%|██████████| 11/11 [00:01<00:00,  8.15it/s]"
          ]
        },
        {
          "output_type": "stream",
          "name": "stdout",
          "text": [
            "                   all         83        135      0.726      0.725      0.747      0.541\n"
          ]
        },
        {
          "output_type": "stream",
          "name": "stderr",
          "text": [
            "\n"
          ]
        },
        {
          "output_type": "stream",
          "name": "stdout",
          "text": [
            "\n",
            "      Epoch    GPU_mem   box_loss   cls_loss   dfl_loss  Instances       Size\n"
          ]
        },
        {
          "output_type": "stream",
          "name": "stderr",
          "text": [
            "     98/150      2.26G     0.5402     0.8182      1.228          7        640: 100%|██████████| 77/77 [00:13<00:00,  5.54it/s]\n",
            "                 Class     Images  Instances      Box(P          R      mAP50  mAP50-95): 100%|██████████| 11/11 [00:01<00:00,  8.76it/s]\n"
          ]
        },
        {
          "output_type": "stream",
          "name": "stdout",
          "text": [
            "                   all         83        135       0.65       0.77      0.772      0.556\n",
            "\n",
            "      Epoch    GPU_mem   box_loss   cls_loss   dfl_loss  Instances       Size\n"
          ]
        },
        {
          "output_type": "stream",
          "name": "stderr",
          "text": [
            "     99/150      2.24G     0.5683     0.8261      1.245          4        640: 100%|██████████| 77/77 [00:14<00:00,  5.40it/s]\n",
            "                 Class     Images  Instances      Box(P          R      mAP50  mAP50-95): 100%|██████████| 11/11 [00:01<00:00,  8.71it/s]"
          ]
        },
        {
          "output_type": "stream",
          "name": "stdout",
          "text": [
            "                   all         83        135      0.745      0.658      0.724      0.524\n"
          ]
        },
        {
          "output_type": "stream",
          "name": "stderr",
          "text": [
            "\n"
          ]
        },
        {
          "output_type": "stream",
          "name": "stdout",
          "text": [
            "\n",
            "      Epoch    GPU_mem   box_loss   cls_loss   dfl_loss  Instances       Size\n"
          ]
        },
        {
          "output_type": "stream",
          "name": "stderr",
          "text": [
            "    100/150      2.23G     0.5013     0.7989      1.184          3        640: 100%|██████████| 77/77 [00:14<00:00,  5.45it/s]\n",
            "                 Class     Images  Instances      Box(P          R      mAP50  mAP50-95): 100%|██████████| 11/11 [00:01<00:00,  7.68it/s]\n"
          ]
        },
        {
          "output_type": "stream",
          "name": "stdout",
          "text": [
            "                   all         83        135      0.692      0.736      0.723      0.504\n",
            "\n",
            "      Epoch    GPU_mem   box_loss   cls_loss   dfl_loss  Instances       Size\n"
          ]
        },
        {
          "output_type": "stream",
          "name": "stderr",
          "text": [
            "    101/150      2.24G     0.5301     0.7798      1.222          6        640: 100%|██████████| 77/77 [00:13<00:00,  5.55it/s]\n",
            "                 Class     Images  Instances      Box(P          R      mAP50  mAP50-95): 100%|██████████| 11/11 [00:01<00:00,  6.86it/s]\n"
          ]
        },
        {
          "output_type": "stream",
          "name": "stdout",
          "text": [
            "                   all         83        135       0.67      0.745      0.725      0.523\n",
            "\n",
            "      Epoch    GPU_mem   box_loss   cls_loss   dfl_loss  Instances       Size\n"
          ]
        },
        {
          "output_type": "stream",
          "name": "stderr",
          "text": [
            "    102/150      2.24G     0.4913     0.7808      1.205          7        640: 100%|██████████| 77/77 [00:13<00:00,  5.65it/s]\n",
            "                 Class     Images  Instances      Box(P          R      mAP50  mAP50-95): 100%|██████████| 11/11 [00:01<00:00,  6.43it/s]"
          ]
        },
        {
          "output_type": "stream",
          "name": "stdout",
          "text": [
            "                   all         83        135      0.732      0.706      0.742       0.53\n"
          ]
        },
        {
          "output_type": "stream",
          "name": "stderr",
          "text": [
            "\n"
          ]
        },
        {
          "output_type": "stream",
          "name": "stdout",
          "text": [
            "\n",
            "      Epoch    GPU_mem   box_loss   cls_loss   dfl_loss  Instances       Size\n"
          ]
        },
        {
          "output_type": "stream",
          "name": "stderr",
          "text": [
            "    103/150      2.24G     0.5197     0.7837       1.21          3        640: 100%|██████████| 77/77 [00:13<00:00,  5.66it/s]\n",
            "                 Class     Images  Instances      Box(P          R      mAP50  mAP50-95): 100%|██████████| 11/11 [00:01<00:00,  5.77it/s]"
          ]
        },
        {
          "output_type": "stream",
          "name": "stdout",
          "text": [
            "                   all         83        135      0.709      0.653      0.674      0.507\n"
          ]
        },
        {
          "output_type": "stream",
          "name": "stderr",
          "text": [
            "\n"
          ]
        },
        {
          "output_type": "stream",
          "name": "stdout",
          "text": [
            "\n",
            "      Epoch    GPU_mem   box_loss   cls_loss   dfl_loss  Instances       Size\n"
          ]
        },
        {
          "output_type": "stream",
          "name": "stderr",
          "text": [
            "    104/150      2.23G     0.5275     0.7901      1.225          4        640: 100%|██████████| 77/77 [00:14<00:00,  5.45it/s]\n",
            "                 Class     Images  Instances      Box(P          R      mAP50  mAP50-95): 100%|██████████| 11/11 [00:01<00:00,  6.98it/s]"
          ]
        },
        {
          "output_type": "stream",
          "name": "stdout",
          "text": [
            "                   all         83        135      0.684      0.697      0.679      0.497\n"
          ]
        },
        {
          "output_type": "stream",
          "name": "stderr",
          "text": [
            "\n"
          ]
        },
        {
          "output_type": "stream",
          "name": "stdout",
          "text": [
            "\n",
            "      Epoch    GPU_mem   box_loss   cls_loss   dfl_loss  Instances       Size\n"
          ]
        },
        {
          "output_type": "stream",
          "name": "stderr",
          "text": [
            "    105/150      2.24G     0.4943     0.7444      1.174          6        640: 100%|██████████| 77/77 [00:13<00:00,  5.74it/s]\n",
            "                 Class     Images  Instances      Box(P          R      mAP50  mAP50-95): 100%|██████████| 11/11 [00:01<00:00,  6.94it/s]"
          ]
        },
        {
          "output_type": "stream",
          "name": "stdout",
          "text": [
            "                   all         83        135      0.684      0.725      0.708      0.517\n"
          ]
        },
        {
          "output_type": "stream",
          "name": "stderr",
          "text": [
            "\n"
          ]
        },
        {
          "output_type": "stream",
          "name": "stdout",
          "text": [
            "\n",
            "      Epoch    GPU_mem   box_loss   cls_loss   dfl_loss  Instances       Size\n"
          ]
        },
        {
          "output_type": "stream",
          "name": "stderr",
          "text": [
            "    106/150      2.24G     0.5539     0.8234      1.232          4        640: 100%|██████████| 77/77 [00:13<00:00,  5.81it/s]\n",
            "                 Class     Images  Instances      Box(P          R      mAP50  mAP50-95): 100%|██████████| 11/11 [00:01<00:00,  6.87it/s]"
          ]
        },
        {
          "output_type": "stream",
          "name": "stdout",
          "text": [
            "                   all         83        135      0.682      0.652      0.686      0.517\n"
          ]
        },
        {
          "output_type": "stream",
          "name": "stderr",
          "text": [
            "\n"
          ]
        },
        {
          "output_type": "stream",
          "name": "stdout",
          "text": [
            "\n",
            "      Epoch    GPU_mem   box_loss   cls_loss   dfl_loss  Instances       Size\n"
          ]
        },
        {
          "output_type": "stream",
          "name": "stderr",
          "text": [
            "    107/150      2.23G     0.4803     0.7479      1.177          5        640: 100%|██████████| 77/77 [00:13<00:00,  5.66it/s]\n",
            "                 Class     Images  Instances      Box(P          R      mAP50  mAP50-95): 100%|██████████| 11/11 [00:01<00:00,  6.97it/s]"
          ]
        },
        {
          "output_type": "stream",
          "name": "stdout",
          "text": [
            "                   all         83        135      0.688      0.688        0.7      0.515\n"
          ]
        },
        {
          "output_type": "stream",
          "name": "stderr",
          "text": [
            "\n"
          ]
        },
        {
          "output_type": "stream",
          "name": "stdout",
          "text": [
            "\n",
            "      Epoch    GPU_mem   box_loss   cls_loss   dfl_loss  Instances       Size\n"
          ]
        },
        {
          "output_type": "stream",
          "name": "stderr",
          "text": [
            "    108/150      2.23G     0.5167     0.7607        1.2          4        640: 100%|██████████| 77/77 [00:13<00:00,  5.76it/s]\n",
            "                 Class     Images  Instances      Box(P          R      mAP50  mAP50-95): 100%|██████████| 11/11 [00:01<00:00,  7.80it/s]"
          ]
        },
        {
          "output_type": "stream",
          "name": "stdout",
          "text": [
            "                   all         83        135      0.704      0.712      0.726      0.513\n"
          ]
        },
        {
          "output_type": "stream",
          "name": "stderr",
          "text": [
            "\n"
          ]
        },
        {
          "output_type": "stream",
          "name": "stdout",
          "text": [
            "\n",
            "      Epoch    GPU_mem   box_loss   cls_loss   dfl_loss  Instances       Size\n"
          ]
        },
        {
          "output_type": "stream",
          "name": "stderr",
          "text": [
            "    109/150      2.15G     0.5357      0.752      1.201          5        640: 100%|██████████| 77/77 [00:14<00:00,  5.38it/s]\n",
            "                 Class     Images  Instances      Box(P          R      mAP50  mAP50-95): 100%|██████████| 11/11 [00:01<00:00,  8.61it/s]\n"
          ]
        },
        {
          "output_type": "stream",
          "name": "stdout",
          "text": [
            "                   all         83        135      0.774       0.69      0.748      0.533\n",
            "\n",
            "      Epoch    GPU_mem   box_loss   cls_loss   dfl_loss  Instances       Size\n"
          ]
        },
        {
          "output_type": "stream",
          "name": "stderr",
          "text": [
            "    110/150      2.24G      0.465     0.7434      1.174          2        640: 100%|██████████| 77/77 [00:14<00:00,  5.43it/s]\n",
            "                 Class     Images  Instances      Box(P          R      mAP50  mAP50-95): 100%|██████████| 11/11 [00:01<00:00,  8.63it/s]\n"
          ]
        },
        {
          "output_type": "stream",
          "name": "stdout",
          "text": [
            "                   all         83        135      0.685      0.733      0.727      0.529\n",
            "\n",
            "      Epoch    GPU_mem   box_loss   cls_loss   dfl_loss  Instances       Size\n"
          ]
        },
        {
          "output_type": "stream",
          "name": "stderr",
          "text": [
            "    111/150      2.25G     0.5081     0.7354      1.209          2        640: 100%|██████████| 77/77 [00:14<00:00,  5.42it/s]\n",
            "                 Class     Images  Instances      Box(P          R      mAP50  mAP50-95): 100%|██████████| 11/11 [00:01<00:00,  8.60it/s]\n"
          ]
        },
        {
          "output_type": "stream",
          "name": "stdout",
          "text": [
            "                   all         83        135      0.742      0.685      0.692      0.504\n",
            "\n",
            "      Epoch    GPU_mem   box_loss   cls_loss   dfl_loss  Instances       Size\n"
          ]
        },
        {
          "output_type": "stream",
          "name": "stderr",
          "text": [
            "    112/150      2.25G     0.5002     0.7491      1.188          5        640: 100%|██████████| 77/77 [00:14<00:00,  5.45it/s]\n",
            "                 Class     Images  Instances      Box(P          R      mAP50  mAP50-95): 100%|██████████| 11/11 [00:01<00:00,  8.78it/s]\n"
          ]
        },
        {
          "output_type": "stream",
          "name": "stdout",
          "text": [
            "                   all         83        135      0.729      0.731      0.745      0.517\n",
            "\n",
            "      Epoch    GPU_mem   box_loss   cls_loss   dfl_loss  Instances       Size\n"
          ]
        },
        {
          "output_type": "stream",
          "name": "stderr",
          "text": [
            "    113/150      2.22G     0.5076      0.733      1.192          1        640: 100%|██████████| 77/77 [00:14<00:00,  5.31it/s]\n",
            "                 Class     Images  Instances      Box(P          R      mAP50  mAP50-95): 100%|██████████| 11/11 [00:01<00:00,  8.63it/s]\n"
          ]
        },
        {
          "output_type": "stream",
          "name": "stdout",
          "text": [
            "                   all         83        135      0.683      0.785      0.732      0.489\n",
            "\n",
            "      Epoch    GPU_mem   box_loss   cls_loss   dfl_loss  Instances       Size\n"
          ]
        },
        {
          "output_type": "stream",
          "name": "stderr",
          "text": [
            "    114/150      2.24G      0.463      0.735      1.159          1        640: 100%|██████████| 77/77 [00:14<00:00,  5.31it/s]\n",
            "                 Class     Images  Instances      Box(P          R      mAP50  mAP50-95): 100%|██████████| 11/11 [00:01<00:00,  8.77it/s]\n"
          ]
        },
        {
          "output_type": "stream",
          "name": "stdout",
          "text": [
            "                   all         83        135      0.725      0.741      0.733      0.494\n",
            "\n",
            "      Epoch    GPU_mem   box_loss   cls_loss   dfl_loss  Instances       Size\n"
          ]
        },
        {
          "output_type": "stream",
          "name": "stderr",
          "text": [
            "    115/150      2.25G     0.4573     0.6863      1.168          1        640: 100%|██████████| 77/77 [00:14<00:00,  5.40it/s]\n",
            "                 Class     Images  Instances      Box(P          R      mAP50  mAP50-95): 100%|██████████| 11/11 [00:01<00:00,  8.77it/s]\n"
          ]
        },
        {
          "output_type": "stream",
          "name": "stdout",
          "text": [
            "                   all         83        135      0.753      0.682      0.744      0.542\n",
            "\n",
            "      Epoch    GPU_mem   box_loss   cls_loss   dfl_loss  Instances       Size\n"
          ]
        },
        {
          "output_type": "stream",
          "name": "stderr",
          "text": [
            "    116/150      2.24G     0.4643     0.6984      1.164          5        640: 100%|██████████| 77/77 [00:14<00:00,  5.49it/s]\n",
            "                 Class     Images  Instances      Box(P          R      mAP50  mAP50-95): 100%|██████████| 11/11 [00:01<00:00,  8.74it/s]"
          ]
        },
        {
          "output_type": "stream",
          "name": "stdout",
          "text": [
            "                   all         83        135      0.673      0.734      0.737      0.557\n"
          ]
        },
        {
          "output_type": "stream",
          "name": "stderr",
          "text": [
            "\n"
          ]
        },
        {
          "output_type": "stream",
          "name": "stdout",
          "text": [
            "\n",
            "      Epoch    GPU_mem   box_loss   cls_loss   dfl_loss  Instances       Size\n"
          ]
        },
        {
          "output_type": "stream",
          "name": "stderr",
          "text": [
            "    117/150      2.24G     0.4915     0.7252       1.17          3        640: 100%|██████████| 77/77 [00:15<00:00,  4.99it/s]\n",
            "                 Class     Images  Instances      Box(P          R      mAP50  mAP50-95): 100%|██████████| 11/11 [00:01<00:00,  6.30it/s]"
          ]
        },
        {
          "output_type": "stream",
          "name": "stdout",
          "text": [
            "                   all         83        135      0.719      0.746       0.72      0.538\n"
          ]
        },
        {
          "output_type": "stream",
          "name": "stderr",
          "text": [
            "\n"
          ]
        },
        {
          "output_type": "stream",
          "name": "stdout",
          "text": [
            "\n",
            "      Epoch    GPU_mem   box_loss   cls_loss   dfl_loss  Instances       Size\n"
          ]
        },
        {
          "output_type": "stream",
          "name": "stderr",
          "text": [
            "    118/150      2.24G     0.4613     0.6943      1.151          4        640: 100%|██████████| 77/77 [00:14<00:00,  5.41it/s]\n",
            "                 Class     Images  Instances      Box(P          R      mAP50  mAP50-95): 100%|██████████| 11/11 [00:01<00:00,  8.45it/s]"
          ]
        },
        {
          "output_type": "stream",
          "name": "stdout",
          "text": [
            "                   all         83        135      0.689      0.755      0.718       0.51\n"
          ]
        },
        {
          "output_type": "stream",
          "name": "stderr",
          "text": [
            "\n"
          ]
        },
        {
          "output_type": "stream",
          "name": "stdout",
          "text": [
            "\n",
            "      Epoch    GPU_mem   box_loss   cls_loss   dfl_loss  Instances       Size\n"
          ]
        },
        {
          "output_type": "stream",
          "name": "stderr",
          "text": [
            "    119/150      2.23G     0.4742     0.7086      1.175          4        640: 100%|██████████| 77/77 [00:14<00:00,  5.33it/s]\n",
            "                 Class     Images  Instances      Box(P          R      mAP50  mAP50-95): 100%|██████████| 11/11 [00:01<00:00,  8.66it/s]"
          ]
        },
        {
          "output_type": "stream",
          "name": "stdout",
          "text": [
            "                   all         83        135      0.677      0.746      0.715      0.525\n"
          ]
        },
        {
          "output_type": "stream",
          "name": "stderr",
          "text": [
            "\n"
          ]
        },
        {
          "output_type": "stream",
          "name": "stdout",
          "text": [
            "\n",
            "      Epoch    GPU_mem   box_loss   cls_loss   dfl_loss  Instances       Size\n"
          ]
        },
        {
          "output_type": "stream",
          "name": "stderr",
          "text": [
            "    120/150      2.25G     0.4641     0.6836      1.168          1        640: 100%|██████████| 77/77 [00:14<00:00,  5.43it/s]\n",
            "                 Class     Images  Instances      Box(P          R      mAP50  mAP50-95): 100%|██████████| 11/11 [00:01<00:00,  8.65it/s]"
          ]
        },
        {
          "output_type": "stream",
          "name": "stdout",
          "text": [
            "                   all         83        135       0.68      0.719      0.727      0.527\n"
          ]
        },
        {
          "output_type": "stream",
          "name": "stderr",
          "text": [
            "\n"
          ]
        },
        {
          "output_type": "stream",
          "name": "stdout",
          "text": [
            "\n",
            "      Epoch    GPU_mem   box_loss   cls_loss   dfl_loss  Instances       Size\n"
          ]
        },
        {
          "output_type": "stream",
          "name": "stderr",
          "text": [
            "    121/150      2.24G     0.4838      0.709      1.177          2        640: 100%|██████████| 77/77 [00:14<00:00,  5.32it/s]\n",
            "                 Class     Images  Instances      Box(P          R      mAP50  mAP50-95): 100%|██████████| 11/11 [00:01<00:00,  8.66it/s]\n"
          ]
        },
        {
          "output_type": "stream",
          "name": "stdout",
          "text": [
            "                   all         83        135      0.691      0.757      0.735      0.542\n",
            "\n",
            "      Epoch    GPU_mem   box_loss   cls_loss   dfl_loss  Instances       Size\n"
          ]
        },
        {
          "output_type": "stream",
          "name": "stderr",
          "text": [
            "    122/150      2.23G     0.4662      0.682       1.17          4        640: 100%|██████████| 77/77 [00:13<00:00,  5.51it/s]\n",
            "                 Class     Images  Instances      Box(P          R      mAP50  mAP50-95): 100%|██████████| 11/11 [00:01<00:00,  6.60it/s]"
          ]
        },
        {
          "output_type": "stream",
          "name": "stdout",
          "text": [
            "                   all         83        135      0.769      0.686      0.736       0.53\n"
          ]
        },
        {
          "output_type": "stream",
          "name": "stderr",
          "text": [
            "\n"
          ]
        },
        {
          "output_type": "stream",
          "name": "stdout",
          "text": [
            "\n",
            "      Epoch    GPU_mem   box_loss   cls_loss   dfl_loss  Instances       Size\n"
          ]
        },
        {
          "output_type": "stream",
          "name": "stderr",
          "text": [
            "    123/150      2.23G     0.5431      0.771      1.237          1        640: 100%|██████████| 77/77 [00:13<00:00,  5.65it/s]\n",
            "                 Class     Images  Instances      Box(P          R      mAP50  mAP50-95): 100%|██████████| 11/11 [00:01<00:00,  6.49it/s]"
          ]
        },
        {
          "output_type": "stream",
          "name": "stdout",
          "text": [
            "                   all         83        135      0.759       0.68      0.734      0.528\n"
          ]
        },
        {
          "output_type": "stream",
          "name": "stderr",
          "text": [
            "\n"
          ]
        },
        {
          "output_type": "stream",
          "name": "stdout",
          "text": [
            "\n",
            "      Epoch    GPU_mem   box_loss   cls_loss   dfl_loss  Instances       Size\n"
          ]
        },
        {
          "output_type": "stream",
          "name": "stderr",
          "text": [
            "    124/150      2.24G     0.4542     0.6273      1.144          5        640: 100%|██████████| 77/77 [00:13<00:00,  5.63it/s]\n",
            "                 Class     Images  Instances      Box(P          R      mAP50  mAP50-95): 100%|██████████| 11/11 [00:01<00:00,  6.73it/s]"
          ]
        },
        {
          "output_type": "stream",
          "name": "stdout",
          "text": [
            "                   all         83        135      0.659      0.749      0.737      0.553\n"
          ]
        },
        {
          "output_type": "stream",
          "name": "stderr",
          "text": [
            "\n"
          ]
        },
        {
          "output_type": "stream",
          "name": "stdout",
          "text": [
            "\n",
            "      Epoch    GPU_mem   box_loss   cls_loss   dfl_loss  Instances       Size\n"
          ]
        },
        {
          "output_type": "stream",
          "name": "stderr",
          "text": [
            "    125/150      2.14G     0.4605     0.6435      1.166          2        640: 100%|██████████| 77/77 [00:13<00:00,  5.77it/s]\n",
            "                 Class     Images  Instances      Box(P          R      mAP50  mAP50-95): 100%|██████████| 11/11 [00:01<00:00,  6.55it/s]"
          ]
        },
        {
          "output_type": "stream",
          "name": "stdout",
          "text": [
            "                   all         83        135      0.694      0.706      0.716      0.532\n"
          ]
        },
        {
          "output_type": "stream",
          "name": "stderr",
          "text": [
            "\n"
          ]
        },
        {
          "output_type": "stream",
          "name": "stdout",
          "text": [
            "\n",
            "      Epoch    GPU_mem   box_loss   cls_loss   dfl_loss  Instances       Size\n"
          ]
        },
        {
          "output_type": "stream",
          "name": "stderr",
          "text": [
            "    126/150      2.25G     0.4535     0.6409      1.137          3        640: 100%|██████████| 77/77 [00:13<00:00,  5.92it/s]\n",
            "                 Class     Images  Instances      Box(P          R      mAP50  mAP50-95): 100%|██████████| 11/11 [00:01<00:00,  6.73it/s]"
          ]
        },
        {
          "output_type": "stream",
          "name": "stdout",
          "text": [
            "                   all         83        135      0.731      0.662      0.712      0.538\n"
          ]
        },
        {
          "output_type": "stream",
          "name": "stderr",
          "text": [
            "\n"
          ]
        },
        {
          "output_type": "stream",
          "name": "stdout",
          "text": [
            "\n",
            "      Epoch    GPU_mem   box_loss   cls_loss   dfl_loss  Instances       Size\n"
          ]
        },
        {
          "output_type": "stream",
          "name": "stderr",
          "text": [
            "    127/150      2.24G     0.4521     0.6647      1.152          4        640: 100%|██████████| 77/77 [00:13<00:00,  5.74it/s]\n",
            "                 Class     Images  Instances      Box(P          R      mAP50  mAP50-95): 100%|██████████| 11/11 [00:01<00:00,  6.59it/s]"
          ]
        },
        {
          "output_type": "stream",
          "name": "stdout",
          "text": [
            "                   all         83        135      0.662      0.719      0.712       0.53\n"
          ]
        },
        {
          "output_type": "stream",
          "name": "stderr",
          "text": [
            "\n"
          ]
        },
        {
          "output_type": "stream",
          "name": "stdout",
          "text": [
            "\n",
            "      Epoch    GPU_mem   box_loss   cls_loss   dfl_loss  Instances       Size\n"
          ]
        },
        {
          "output_type": "stream",
          "name": "stderr",
          "text": [
            "    128/150      2.23G       0.44     0.6571      1.137          2        640: 100%|██████████| 77/77 [00:13<00:00,  5.75it/s]\n",
            "                 Class     Images  Instances      Box(P          R      mAP50  mAP50-95): 100%|██████████| 11/11 [00:01<00:00,  6.82it/s]"
          ]
        },
        {
          "output_type": "stream",
          "name": "stdout",
          "text": [
            "                   all         83        135      0.702      0.704      0.704       0.51\n"
          ]
        },
        {
          "output_type": "stream",
          "name": "stderr",
          "text": [
            "\n"
          ]
        },
        {
          "output_type": "stream",
          "name": "stdout",
          "text": [
            "\n",
            "      Epoch    GPU_mem   box_loss   cls_loss   dfl_loss  Instances       Size\n"
          ]
        },
        {
          "output_type": "stream",
          "name": "stderr",
          "text": [
            "    129/150      2.24G     0.4195     0.6391       1.14          2        640: 100%|██████████| 77/77 [00:13<00:00,  5.78it/s]\n",
            "                 Class     Images  Instances      Box(P          R      mAP50  mAP50-95): 100%|██████████| 11/11 [00:01<00:00,  6.50it/s]"
          ]
        },
        {
          "output_type": "stream",
          "name": "stdout",
          "text": [
            "                   all         83        135      0.786      0.683      0.737      0.543\n"
          ]
        },
        {
          "output_type": "stream",
          "name": "stderr",
          "text": [
            "\n"
          ]
        },
        {
          "output_type": "stream",
          "name": "stdout",
          "text": [
            "\n",
            "      Epoch    GPU_mem   box_loss   cls_loss   dfl_loss  Instances       Size\n"
          ]
        },
        {
          "output_type": "stream",
          "name": "stderr",
          "text": [
            "    130/150      2.25G     0.4239     0.5932      1.148          5        640: 100%|██████████| 77/77 [00:13<00:00,  5.61it/s]\n",
            "                 Class     Images  Instances      Box(P          R      mAP50  mAP50-95): 100%|██████████| 11/11 [00:01<00:00,  7.76it/s]"
          ]
        },
        {
          "output_type": "stream",
          "name": "stdout",
          "text": [
            "                   all         83        135      0.743      0.698      0.718      0.524\n"
          ]
        },
        {
          "output_type": "stream",
          "name": "stderr",
          "text": [
            "\n"
          ]
        },
        {
          "output_type": "stream",
          "name": "stdout",
          "text": [
            "\n",
            "      Epoch    GPU_mem   box_loss   cls_loss   dfl_loss  Instances       Size\n"
          ]
        },
        {
          "output_type": "stream",
          "name": "stderr",
          "text": [
            "    131/150      2.23G     0.4257     0.6265      1.138          3        640: 100%|██████████| 77/77 [00:15<00:00,  4.90it/s]\n",
            "                 Class     Images  Instances      Box(P          R      mAP50  mAP50-95): 100%|██████████| 11/11 [00:01<00:00,  6.66it/s]"
          ]
        },
        {
          "output_type": "stream",
          "name": "stdout",
          "text": [
            "                   all         83        135      0.661      0.753      0.713       0.51\n"
          ]
        },
        {
          "output_type": "stream",
          "name": "stderr",
          "text": [
            "\n"
          ]
        },
        {
          "output_type": "stream",
          "name": "stdout",
          "text": [
            "\n",
            "      Epoch    GPU_mem   box_loss   cls_loss   dfl_loss  Instances       Size\n"
          ]
        },
        {
          "output_type": "stream",
          "name": "stderr",
          "text": [
            "    132/150      2.24G     0.4223     0.6657      1.129          1        640: 100%|██████████| 77/77 [00:13<00:00,  5.64it/s]\n",
            "                 Class     Images  Instances      Box(P          R      mAP50  mAP50-95): 100%|██████████| 11/11 [00:01<00:00,  7.11it/s]"
          ]
        },
        {
          "output_type": "stream",
          "name": "stdout",
          "text": [
            "                   all         83        135      0.697      0.716      0.732      0.555\n"
          ]
        },
        {
          "output_type": "stream",
          "name": "stderr",
          "text": [
            "\n"
          ]
        },
        {
          "output_type": "stream",
          "name": "stdout",
          "text": [
            "\n",
            "      Epoch    GPU_mem   box_loss   cls_loss   dfl_loss  Instances       Size\n"
          ]
        },
        {
          "output_type": "stream",
          "name": "stderr",
          "text": [
            "    133/150      2.24G     0.4445     0.6613      1.137          4        640: 100%|██████████| 77/77 [00:13<00:00,  5.77it/s]\n",
            "                 Class     Images  Instances      Box(P          R      mAP50  mAP50-95): 100%|██████████| 11/11 [00:01<00:00,  6.59it/s]"
          ]
        },
        {
          "output_type": "stream",
          "name": "stdout",
          "text": [
            "                   all         83        135      0.695      0.745      0.738      0.562\n"
          ]
        },
        {
          "output_type": "stream",
          "name": "stderr",
          "text": [
            "\n"
          ]
        },
        {
          "output_type": "stream",
          "name": "stdout",
          "text": [
            "\n",
            "      Epoch    GPU_mem   box_loss   cls_loss   dfl_loss  Instances       Size\n"
          ]
        },
        {
          "output_type": "stream",
          "name": "stderr",
          "text": [
            "    134/150      2.24G     0.4247     0.6465      1.134          1        640: 100%|██████████| 77/77 [00:13<00:00,  5.77it/s]\n",
            "                 Class     Images  Instances      Box(P          R      mAP50  mAP50-95): 100%|██████████| 11/11 [00:01<00:00,  6.53it/s]"
          ]
        },
        {
          "output_type": "stream",
          "name": "stdout",
          "text": [
            "                   all         83        135      0.691      0.799      0.743      0.539\n"
          ]
        },
        {
          "output_type": "stream",
          "name": "stderr",
          "text": [
            "\n"
          ]
        },
        {
          "output_type": "stream",
          "name": "stdout",
          "text": [
            "\n",
            "      Epoch    GPU_mem   box_loss   cls_loss   dfl_loss  Instances       Size\n"
          ]
        },
        {
          "output_type": "stream",
          "name": "stderr",
          "text": [
            "    135/150      2.25G     0.4389      0.625      1.153          2        640: 100%|██████████| 77/77 [00:13<00:00,  5.64it/s]\n",
            "                 Class     Images  Instances      Box(P          R      mAP50  mAP50-95): 100%|██████████| 11/11 [00:01<00:00,  6.72it/s]"
          ]
        },
        {
          "output_type": "stream",
          "name": "stdout",
          "text": [
            "                   all         83        135      0.758      0.724      0.721      0.508\n"
          ]
        },
        {
          "output_type": "stream",
          "name": "stderr",
          "text": [
            "\n"
          ]
        },
        {
          "output_type": "stream",
          "name": "stdout",
          "text": [
            "\n",
            "      Epoch    GPU_mem   box_loss   cls_loss   dfl_loss  Instances       Size\n"
          ]
        },
        {
          "output_type": "stream",
          "name": "stderr",
          "text": [
            "    136/150      2.24G     0.3995     0.6003      1.133          4        640: 100%|██████████| 77/77 [00:13<00:00,  5.81it/s]\n",
            "                 Class     Images  Instances      Box(P          R      mAP50  mAP50-95): 100%|██████████| 11/11 [00:01<00:00,  6.63it/s]"
          ]
        },
        {
          "output_type": "stream",
          "name": "stdout",
          "text": [
            "                   all         83        135      0.728      0.732      0.724      0.515\n"
          ]
        },
        {
          "output_type": "stream",
          "name": "stderr",
          "text": [
            "\n"
          ]
        },
        {
          "output_type": "stream",
          "name": "stdout",
          "text": [
            "\n",
            "      Epoch    GPU_mem   box_loss   cls_loss   dfl_loss  Instances       Size\n"
          ]
        },
        {
          "output_type": "stream",
          "name": "stderr",
          "text": [
            "    137/150      2.25G      0.407     0.5955      1.123          2        640: 100%|██████████| 77/77 [00:13<00:00,  5.75it/s]\n",
            "                 Class     Images  Instances      Box(P          R      mAP50  mAP50-95): 100%|██████████| 11/11 [00:01<00:00,  7.05it/s]"
          ]
        },
        {
          "output_type": "stream",
          "name": "stdout",
          "text": [
            "                   all         83        135      0.649      0.783      0.746      0.546\n"
          ]
        },
        {
          "output_type": "stream",
          "name": "stderr",
          "text": [
            "\n"
          ]
        },
        {
          "output_type": "stream",
          "name": "stdout",
          "text": [
            "\n",
            "      Epoch    GPU_mem   box_loss   cls_loss   dfl_loss  Instances       Size\n"
          ]
        },
        {
          "output_type": "stream",
          "name": "stderr",
          "text": [
            "    138/150      2.23G     0.4359     0.5925      1.162          1        640: 100%|██████████| 77/77 [00:13<00:00,  5.78it/s]\n",
            "                 Class     Images  Instances      Box(P          R      mAP50  mAP50-95): 100%|██████████| 11/11 [00:01<00:00,  6.51it/s]"
          ]
        },
        {
          "output_type": "stream",
          "name": "stdout",
          "text": [
            "                   all         83        135      0.682      0.766      0.733      0.543\n"
          ]
        },
        {
          "output_type": "stream",
          "name": "stderr",
          "text": [
            "\n"
          ]
        },
        {
          "output_type": "stream",
          "name": "stdout",
          "text": [
            "\n",
            "      Epoch    GPU_mem   box_loss   cls_loss   dfl_loss  Instances       Size\n"
          ]
        },
        {
          "output_type": "stream",
          "name": "stderr",
          "text": [
            "    139/150      2.23G     0.4257     0.6351      1.139          4        640: 100%|██████████| 77/77 [00:13<00:00,  5.82it/s]\n",
            "                 Class     Images  Instances      Box(P          R      mAP50  mAP50-95): 100%|██████████| 11/11 [00:01<00:00,  6.97it/s]"
          ]
        },
        {
          "output_type": "stream",
          "name": "stdout",
          "text": [
            "                   all         83        135      0.694      0.732      0.728       0.55\n"
          ]
        },
        {
          "output_type": "stream",
          "name": "stderr",
          "text": [
            "\n"
          ]
        },
        {
          "output_type": "stream",
          "name": "stdout",
          "text": [
            "\n",
            "      Epoch    GPU_mem   box_loss   cls_loss   dfl_loss  Instances       Size\n"
          ]
        },
        {
          "output_type": "stream",
          "name": "stderr",
          "text": [
            "    140/150      2.23G     0.3728     0.5387      1.094          4        640: 100%|██████████| 77/77 [00:13<00:00,  5.64it/s]\n",
            "                 Class     Images  Instances      Box(P          R      mAP50  mAP50-95): 100%|██████████| 11/11 [00:01<00:00,  6.89it/s]"
          ]
        },
        {
          "output_type": "stream",
          "name": "stdout",
          "text": [
            "                   all         83        135      0.698      0.737      0.729      0.552\n"
          ]
        },
        {
          "output_type": "stream",
          "name": "stderr",
          "text": [
            "\n"
          ]
        },
        {
          "output_type": "stream",
          "name": "stdout",
          "text": [
            "Closing dataloader mosaic\n",
            "\u001b[34m\u001b[1malbumentations: \u001b[0mBlur(p=0.01, blur_limit=(3, 7)), MedianBlur(p=0.01, blur_limit=(3, 7)), ToGray(p=0.01, num_output_channels=3, method='weighted_average'), CLAHE(p=0.01, clip_limit=(1.0, 4.0), tile_grid_size=(8, 8))\n",
            "\n",
            "      Epoch    GPU_mem   box_loss   cls_loss   dfl_loss  Instances       Size\n"
          ]
        },
        {
          "output_type": "stream",
          "name": "stderr",
          "text": [
            "    141/150      2.15G     0.4252     0.6723       1.17          2        640: 100%|██████████| 77/77 [00:14<00:00,  5.42it/s]\n",
            "                 Class     Images  Instances      Box(P          R      mAP50  mAP50-95): 100%|██████████| 11/11 [00:01<00:00,  7.00it/s]"
          ]
        },
        {
          "output_type": "stream",
          "name": "stdout",
          "text": [
            "                   all         83        135      0.778      0.721      0.735      0.503\n"
          ]
        },
        {
          "output_type": "stream",
          "name": "stderr",
          "text": [
            "\n"
          ]
        },
        {
          "output_type": "stream",
          "name": "stdout",
          "text": [
            "\n",
            "      Epoch    GPU_mem   box_loss   cls_loss   dfl_loss  Instances       Size\n"
          ]
        },
        {
          "output_type": "stream",
          "name": "stderr",
          "text": [
            "    142/150      2.24G      0.442     0.6148      1.208          1        640: 100%|██████████| 77/77 [00:13<00:00,  5.75it/s]\n",
            "                 Class     Images  Instances      Box(P          R      mAP50  mAP50-95): 100%|██████████| 11/11 [00:01<00:00,  7.19it/s]"
          ]
        },
        {
          "output_type": "stream",
          "name": "stdout",
          "text": [
            "                   all         83        135      0.743      0.737      0.745      0.534\n"
          ]
        },
        {
          "output_type": "stream",
          "name": "stderr",
          "text": [
            "\n"
          ]
        },
        {
          "output_type": "stream",
          "name": "stdout",
          "text": [
            "\n",
            "      Epoch    GPU_mem   box_loss   cls_loss   dfl_loss  Instances       Size\n"
          ]
        },
        {
          "output_type": "stream",
          "name": "stderr",
          "text": [
            "    143/150      2.23G     0.3729      0.512      1.157          1        640: 100%|██████████| 77/77 [00:13<00:00,  5.73it/s]\n",
            "                 Class     Images  Instances      Box(P          R      mAP50  mAP50-95): 100%|██████████| 11/11 [00:01<00:00,  7.75it/s]"
          ]
        },
        {
          "output_type": "stream",
          "name": "stdout",
          "text": [
            "                   all         83        135      0.747      0.709      0.742      0.537\n"
          ]
        },
        {
          "output_type": "stream",
          "name": "stderr",
          "text": [
            "\n"
          ]
        },
        {
          "output_type": "stream",
          "name": "stdout",
          "text": [
            "\n",
            "      Epoch    GPU_mem   box_loss   cls_loss   dfl_loss  Instances       Size\n"
          ]
        },
        {
          "output_type": "stream",
          "name": "stderr",
          "text": [
            "    144/150      2.24G     0.3667     0.5277      1.124          1        640: 100%|██████████| 77/77 [00:13<00:00,  5.53it/s]\n",
            "                 Class     Images  Instances      Box(P          R      mAP50  mAP50-95): 100%|██████████| 11/11 [00:01<00:00,  8.69it/s]"
          ]
        },
        {
          "output_type": "stream",
          "name": "stdout",
          "text": [
            "                   all         83        135      0.778      0.698      0.749       0.54\n"
          ]
        },
        {
          "output_type": "stream",
          "name": "stderr",
          "text": [
            "\n"
          ]
        },
        {
          "output_type": "stream",
          "name": "stdout",
          "text": [
            "\n",
            "      Epoch    GPU_mem   box_loss   cls_loss   dfl_loss  Instances       Size\n"
          ]
        },
        {
          "output_type": "stream",
          "name": "stderr",
          "text": [
            "    145/150      2.23G       0.37     0.4924       1.13          2        640: 100%|██████████| 77/77 [00:15<00:00,  4.83it/s]\n",
            "                 Class     Images  Instances      Box(P          R      mAP50  mAP50-95): 100%|██████████| 11/11 [00:01<00:00,  8.52it/s]"
          ]
        },
        {
          "output_type": "stream",
          "name": "stdout",
          "text": [
            "                   all         83        135      0.777       0.72      0.743      0.544\n"
          ]
        },
        {
          "output_type": "stream",
          "name": "stderr",
          "text": [
            "\n"
          ]
        },
        {
          "output_type": "stream",
          "name": "stdout",
          "text": [
            "\n",
            "      Epoch    GPU_mem   box_loss   cls_loss   dfl_loss  Instances       Size\n"
          ]
        },
        {
          "output_type": "stream",
          "name": "stderr",
          "text": [
            "    146/150      2.24G     0.3537     0.4755      1.101          1        640: 100%|██████████| 77/77 [00:14<00:00,  5.47it/s]\n",
            "                 Class     Images  Instances      Box(P          R      mAP50  mAP50-95): 100%|██████████| 11/11 [00:01<00:00,  8.71it/s]"
          ]
        },
        {
          "output_type": "stream",
          "name": "stdout",
          "text": [
            "                   all         83        135      0.766      0.719      0.744      0.559\n"
          ]
        },
        {
          "output_type": "stream",
          "name": "stderr",
          "text": [
            "\n"
          ]
        },
        {
          "output_type": "stream",
          "name": "stdout",
          "text": [
            "\n",
            "      Epoch    GPU_mem   box_loss   cls_loss   dfl_loss  Instances       Size\n"
          ]
        },
        {
          "output_type": "stream",
          "name": "stderr",
          "text": [
            "    147/150      2.22G     0.3531     0.4685      1.119          1        640: 100%|██████████| 77/77 [00:14<00:00,  5.37it/s]\n",
            "                 Class     Images  Instances      Box(P          R      mAP50  mAP50-95): 100%|██████████| 11/11 [00:01<00:00,  8.93it/s]\n"
          ]
        },
        {
          "output_type": "stream",
          "name": "stdout",
          "text": [
            "                   all         83        135      0.751      0.722      0.737      0.546\n",
            "\n",
            "      Epoch    GPU_mem   box_loss   cls_loss   dfl_loss  Instances       Size\n"
          ]
        },
        {
          "output_type": "stream",
          "name": "stderr",
          "text": [
            "    148/150      2.24G     0.3699     0.4679       1.12          2        640: 100%|██████████| 77/77 [00:14<00:00,  5.39it/s]\n",
            "                 Class     Images  Instances      Box(P          R      mAP50  mAP50-95): 100%|██████████| 11/11 [00:01<00:00,  8.76it/s]"
          ]
        },
        {
          "output_type": "stream",
          "name": "stdout",
          "text": [
            "                   all         83        135      0.729      0.726      0.735      0.544\n"
          ]
        },
        {
          "output_type": "stream",
          "name": "stderr",
          "text": [
            "\n"
          ]
        },
        {
          "output_type": "stream",
          "name": "stdout",
          "text": [
            "\n",
            "      Epoch    GPU_mem   box_loss   cls_loss   dfl_loss  Instances       Size\n"
          ]
        },
        {
          "output_type": "stream",
          "name": "stderr",
          "text": [
            "    149/150      2.22G     0.3495     0.5119      1.117          2        640: 100%|██████████| 77/77 [00:14<00:00,  5.34it/s]\n",
            "                 Class     Images  Instances      Box(P          R      mAP50  mAP50-95): 100%|██████████| 11/11 [00:01<00:00,  8.87it/s]"
          ]
        },
        {
          "output_type": "stream",
          "name": "stdout",
          "text": [
            "                   all         83        135      0.762      0.727      0.738      0.556\n"
          ]
        },
        {
          "output_type": "stream",
          "name": "stderr",
          "text": [
            "\n"
          ]
        },
        {
          "output_type": "stream",
          "name": "stdout",
          "text": [
            "\n",
            "      Epoch    GPU_mem   box_loss   cls_loss   dfl_loss  Instances       Size\n"
          ]
        },
        {
          "output_type": "stream",
          "name": "stderr",
          "text": [
            "    150/150      2.24G     0.3452     0.4395      1.107          4        640: 100%|██████████| 77/77 [00:14<00:00,  5.26it/s]\n",
            "                 Class     Images  Instances      Box(P          R      mAP50  mAP50-95): 100%|██████████| 11/11 [00:01<00:00,  8.66it/s]\n"
          ]
        },
        {
          "output_type": "stream",
          "name": "stdout",
          "text": [
            "                   all         83        135      0.761      0.721      0.734      0.549\n",
            "\n",
            "150 epochs completed in 0.705 hours.\n",
            "Optimizer stripped from runs/detect/train/weights/last.pt, 52.0MB\n",
            "Optimizer stripped from runs/detect/train/weights/best.pt, 52.0MB\n",
            "\n",
            "Validating runs/detect/train/weights/best.pt...\n",
            "Ultralytics 8.3.50 🚀 Python-3.10.12 torch-2.5.1+cu121 CUDA:0 (Tesla T4, 15102MiB)\n",
            "Model summary (fused): 218 layers, 25,843,234 parameters, 0 gradients, 78.7 GFLOPs\n"
          ]
        },
        {
          "output_type": "stream",
          "name": "stderr",
          "text": [
            "                 Class     Images  Instances      Box(P          R      mAP50  mAP50-95): 100%|██████████| 11/11 [00:01<00:00,  5.71it/s]\n"
          ]
        },
        {
          "output_type": "stream",
          "name": "stdout",
          "text": [
            "                   all         83        135      0.695      0.745      0.738      0.565\n",
            "       cacao_con_fruto          8          9      0.619      0.726      0.758      0.591\n",
            "       cacao_sin_fruto         24         25      0.807      0.837       0.89      0.602\n",
            "                jicara          4          4       0.61          1      0.796      0.654\n",
            "                 limon         26         27      0.968      0.963      0.979      0.901\n",
            "               palmera         11         21      0.721      0.714      0.706      0.491\n",
            "               platano         13         49      0.445      0.229      0.296      0.153\n",
            "Speed: 1.2ms preprocess, 11.2ms inference, 0.0ms loss, 2.8ms postprocess per image\n",
            "Results saved to \u001b[1mruns/detect/train\u001b[0m\n"
          ]
        }
      ],
      "source": [
        "results = model.train(\n",
        "    data=data_path,\n",
        "    epochs=150,\n",
        "    imgsz=640,\n",
        "    batch=4,\n",
        "    #lr0=0.001\n",
        ")"
      ]
    },
    {
      "cell_type": "markdown",
      "metadata": {
        "id": "OCb1QnMjPvtE"
      },
      "source": [
        "# Prueba del modelo entrenado"
      ]
    },
    {
      "cell_type": "markdown",
      "source": [
        "Este código se utiliza para resolver un error de \"Locale\" relacionado con Google Colab, no se relaciona con el entrenamiento en sí."
      ],
      "metadata": {
        "id": "_sRDqwng4ac5"
      }
    },
    {
      "cell_type": "code",
      "source": [
        "import locale\n",
        "def getpreferredencoding(do_setlocale = True):\n",
        "    return \"UTF-8\"\n",
        "locale.getpreferredencoding = getpreferredencoding"
      ],
      "metadata": {
        "id": "fOilZMhi2y8X"
      },
      "execution_count": null,
      "outputs": []
    },
    {
      "cell_type": "markdown",
      "source": [
        "Después del entrenamiento, utilizamos la herramienta de prección de YOLO, a la cual le pasamos los siguientes argumentos.\n",
        "- model: Ruta o directorio del modelo entrenado.\n",
        "- source: Ruta o directorio de la imagen o video a predecir.\n",
        "- save: Decirle a YOLO si guardar el contenido de la predicción o no.\n",
        "- conf: El umbral de confiabilidad para mostrar las predicciones hechas."
      ],
      "metadata": {
        "id": "ZjcNt6M94lm-"
      }
    },
    {
      "cell_type": "code",
      "execution_count": null,
      "metadata": {
        "colab": {
          "base_uri": "https://localhost:8080/"
        },
        "collapsed": true,
        "id": "VArWctBoP0D1",
        "outputId": "dfc9eabd-573c-42d8-aa7e-74c46dc3e318"
      },
      "outputs": [
        {
          "output_type": "stream",
          "name": "stdout",
          "text": [
            "Ultralytics 8.3.50 🚀 Python-3.10.12 torch-2.5.1+cu121 CUDA:0 (Tesla T4, 15102MiB)\n",
            "Model summary (fused): 218 layers, 25,843,234 parameters, 0 gradients, 78.7 GFLOPs\n",
            "\n",
            "video 1/1 (frame 1/402) /content/VID_20241212_162609.mp4: 640x384 (no detections), 62.1ms\n",
            "video 1/1 (frame 2/402) /content/VID_20241212_162609.mp4: 640x384 (no detections), 25.2ms\n",
            "video 1/1 (frame 3/402) /content/VID_20241212_162609.mp4: 640x384 1 platano, 25.1ms\n",
            "video 1/1 (frame 4/402) /content/VID_20241212_162609.mp4: 640x384 1 platano, 25.2ms\n",
            "video 1/1 (frame 5/402) /content/VID_20241212_162609.mp4: 640x384 1 platano, 25.2ms\n",
            "video 1/1 (frame 6/402) /content/VID_20241212_162609.mp4: 640x384 1 platano, 25.2ms\n",
            "video 1/1 (frame 7/402) /content/VID_20241212_162609.mp4: 640x384 1 platano, 25.7ms\n",
            "video 1/1 (frame 8/402) /content/VID_20241212_162609.mp4: 640x384 1 platano, 24.5ms\n",
            "video 1/1 (frame 9/402) /content/VID_20241212_162609.mp4: 640x384 1 platano, 22.2ms\n",
            "video 1/1 (frame 10/402) /content/VID_20241212_162609.mp4: 640x384 1 platano, 22.2ms\n",
            "video 1/1 (frame 11/402) /content/VID_20241212_162609.mp4: 640x384 1 platano, 22.3ms\n",
            "video 1/1 (frame 12/402) /content/VID_20241212_162609.mp4: 640x384 1 platano, 22.2ms\n",
            "video 1/1 (frame 13/402) /content/VID_20241212_162609.mp4: 640x384 (no detections), 18.8ms\n",
            "video 1/1 (frame 14/402) /content/VID_20241212_162609.mp4: 640x384 1 platano, 18.8ms\n",
            "video 1/1 (frame 15/402) /content/VID_20241212_162609.mp4: 640x384 1 platano, 19.4ms\n",
            "video 1/1 (frame 16/402) /content/VID_20241212_162609.mp4: 640x384 1 platano, 18.8ms\n",
            "video 1/1 (frame 17/402) /content/VID_20241212_162609.mp4: 640x384 1 platano, 18.7ms\n",
            "video 1/1 (frame 18/402) /content/VID_20241212_162609.mp4: 640x384 1 platano, 18.8ms\n",
            "video 1/1 (frame 19/402) /content/VID_20241212_162609.mp4: 640x384 1 platano, 18.8ms\n",
            "video 1/1 (frame 20/402) /content/VID_20241212_162609.mp4: 640x384 1 platano, 18.8ms\n",
            "video 1/1 (frame 21/402) /content/VID_20241212_162609.mp4: 640x384 1 platano, 18.8ms\n",
            "video 1/1 (frame 22/402) /content/VID_20241212_162609.mp4: 640x384 1 platano, 16.8ms\n",
            "video 1/1 (frame 23/402) /content/VID_20241212_162609.mp4: 640x384 1 platano, 16.8ms\n",
            "video 1/1 (frame 24/402) /content/VID_20241212_162609.mp4: 640x384 1 platano, 16.6ms\n",
            "video 1/1 (frame 25/402) /content/VID_20241212_162609.mp4: 640x384 1 platano, 16.5ms\n",
            "video 1/1 (frame 26/402) /content/VID_20241212_162609.mp4: 640x384 1 platano, 16.5ms\n",
            "video 1/1 (frame 27/402) /content/VID_20241212_162609.mp4: 640x384 1 platano, 16.4ms\n",
            "video 1/1 (frame 28/402) /content/VID_20241212_162609.mp4: 640x384 1 platano, 16.3ms\n",
            "video 1/1 (frame 29/402) /content/VID_20241212_162609.mp4: 640x384 1 platano, 15.9ms\n",
            "video 1/1 (frame 30/402) /content/VID_20241212_162609.mp4: 640x384 1 platano, 15.7ms\n",
            "video 1/1 (frame 31/402) /content/VID_20241212_162609.mp4: 640x384 1 platano, 15.7ms\n",
            "video 1/1 (frame 32/402) /content/VID_20241212_162609.mp4: 640x384 1 platano, 15.7ms\n",
            "video 1/1 (frame 33/402) /content/VID_20241212_162609.mp4: 640x384 1 platano, 15.7ms\n",
            "video 1/1 (frame 34/402) /content/VID_20241212_162609.mp4: 640x384 1 platano, 15.7ms\n",
            "video 1/1 (frame 35/402) /content/VID_20241212_162609.mp4: 640x384 1 platano, 15.7ms\n",
            "video 1/1 (frame 36/402) /content/VID_20241212_162609.mp4: 640x384 1 platano, 15.7ms\n",
            "video 1/1 (frame 37/402) /content/VID_20241212_162609.mp4: 640x384 1 platano, 15.7ms\n",
            "video 1/1 (frame 38/402) /content/VID_20241212_162609.mp4: 640x384 1 platano, 15.7ms\n",
            "video 1/1 (frame 39/402) /content/VID_20241212_162609.mp4: 640x384 1 platano, 15.7ms\n",
            "video 1/1 (frame 40/402) /content/VID_20241212_162609.mp4: 640x384 1 platano, 15.7ms\n",
            "video 1/1 (frame 41/402) /content/VID_20241212_162609.mp4: 640x384 (no detections), 15.7ms\n",
            "video 1/1 (frame 42/402) /content/VID_20241212_162609.mp4: 640x384 (no detections), 15.7ms\n",
            "video 1/1 (frame 43/402) /content/VID_20241212_162609.mp4: 640x384 (no detections), 15.7ms\n",
            "video 1/1 (frame 44/402) /content/VID_20241212_162609.mp4: 640x384 1 platano, 15.7ms\n",
            "video 1/1 (frame 45/402) /content/VID_20241212_162609.mp4: 640x384 (no detections), 15.8ms\n",
            "video 1/1 (frame 46/402) /content/VID_20241212_162609.mp4: 640x384 (no detections), 15.7ms\n",
            "video 1/1 (frame 47/402) /content/VID_20241212_162609.mp4: 640x384 1 platano, 15.5ms\n",
            "video 1/1 (frame 48/402) /content/VID_20241212_162609.mp4: 640x384 1 platano, 15.0ms\n",
            "video 1/1 (frame 49/402) /content/VID_20241212_162609.mp4: 640x384 1 platano, 15.0ms\n",
            "video 1/1 (frame 50/402) /content/VID_20241212_162609.mp4: 640x384 (no detections), 14.6ms\n",
            "video 1/1 (frame 51/402) /content/VID_20241212_162609.mp4: 640x384 (no detections), 14.6ms\n",
            "video 1/1 (frame 52/402) /content/VID_20241212_162609.mp4: 640x384 1 platano, 14.6ms\n",
            "video 1/1 (frame 53/402) /content/VID_20241212_162609.mp4: 640x384 1 platano, 14.6ms\n",
            "video 1/1 (frame 54/402) /content/VID_20241212_162609.mp4: 640x384 1 platano, 14.7ms\n",
            "video 1/1 (frame 55/402) /content/VID_20241212_162609.mp4: 640x384 1 platano, 14.7ms\n",
            "video 1/1 (frame 56/402) /content/VID_20241212_162609.mp4: 640x384 1 platano, 14.3ms\n",
            "video 1/1 (frame 57/402) /content/VID_20241212_162609.mp4: 640x384 1 platano, 14.3ms\n",
            "video 1/1 (frame 58/402) /content/VID_20241212_162609.mp4: 640x384 1 platano, 14.3ms\n",
            "video 1/1 (frame 59/402) /content/VID_20241212_162609.mp4: 640x384 1 platano, 14.3ms\n",
            "video 1/1 (frame 60/402) /content/VID_20241212_162609.mp4: 640x384 1 platano, 14.3ms\n",
            "video 1/1 (frame 61/402) /content/VID_20241212_162609.mp4: 640x384 1 platano, 13.9ms\n",
            "video 1/1 (frame 62/402) /content/VID_20241212_162609.mp4: 640x384 1 platano, 13.9ms\n",
            "video 1/1 (frame 63/402) /content/VID_20241212_162609.mp4: 640x384 1 platano, 13.9ms\n",
            "video 1/1 (frame 64/402) /content/VID_20241212_162609.mp4: 640x384 1 platano, 13.9ms\n",
            "video 1/1 (frame 65/402) /content/VID_20241212_162609.mp4: 640x384 (no detections), 13.9ms\n",
            "video 1/1 (frame 66/402) /content/VID_20241212_162609.mp4: 640x384 1 platano, 13.9ms\n",
            "video 1/1 (frame 67/402) /content/VID_20241212_162609.mp4: 640x384 1 platano, 13.9ms\n",
            "video 1/1 (frame 68/402) /content/VID_20241212_162609.mp4: 640x384 (no detections), 13.8ms\n",
            "video 1/1 (frame 69/402) /content/VID_20241212_162609.mp4: 640x384 (no detections), 13.8ms\n",
            "video 1/1 (frame 70/402) /content/VID_20241212_162609.mp4: 640x384 (no detections), 13.6ms\n",
            "video 1/1 (frame 71/402) /content/VID_20241212_162609.mp4: 640x384 1 jicara, 13.6ms\n",
            "video 1/1 (frame 72/402) /content/VID_20241212_162609.mp4: 640x384 (no detections), 13.6ms\n",
            "video 1/1 (frame 73/402) /content/VID_20241212_162609.mp4: 640x384 (no detections), 13.5ms\n",
            "video 1/1 (frame 74/402) /content/VID_20241212_162609.mp4: 640x384 1 jicara, 13.4ms\n",
            "video 1/1 (frame 75/402) /content/VID_20241212_162609.mp4: 640x384 1 jicara, 13.3ms\n",
            "video 1/1 (frame 76/402) /content/VID_20241212_162609.mp4: 640x384 1 jicara, 14.3ms\n",
            "video 1/1 (frame 77/402) /content/VID_20241212_162609.mp4: 640x384 1 jicara, 13.6ms\n",
            "video 1/1 (frame 78/402) /content/VID_20241212_162609.mp4: 640x384 1 jicara, 13.6ms\n",
            "video 1/1 (frame 79/402) /content/VID_20241212_162609.mp4: 640x384 1 jicara, 13.2ms\n",
            "video 1/1 (frame 80/402) /content/VID_20241212_162609.mp4: 640x384 1 jicara, 13.1ms\n",
            "video 1/1 (frame 81/402) /content/VID_20241212_162609.mp4: 640x384 1 jicara, 13.2ms\n",
            "video 1/1 (frame 82/402) /content/VID_20241212_162609.mp4: 640x384 1 jicara, 13.2ms\n",
            "video 1/1 (frame 83/402) /content/VID_20241212_162609.mp4: 640x384 1 jicara, 13.2ms\n",
            "video 1/1 (frame 84/402) /content/VID_20241212_162609.mp4: 640x384 1 jicara, 13.2ms\n",
            "video 1/1 (frame 85/402) /content/VID_20241212_162609.mp4: 640x384 1 jicara, 13.2ms\n",
            "video 1/1 (frame 86/402) /content/VID_20241212_162609.mp4: 640x384 1 jicara, 13.2ms\n",
            "video 1/1 (frame 87/402) /content/VID_20241212_162609.mp4: 640x384 1 jicara, 13.2ms\n",
            "video 1/1 (frame 88/402) /content/VID_20241212_162609.mp4: 640x384 1 jicara, 13.2ms\n",
            "video 1/1 (frame 89/402) /content/VID_20241212_162609.mp4: 640x384 1 jicara, 13.2ms\n",
            "video 1/1 (frame 90/402) /content/VID_20241212_162609.mp4: 640x384 1 jicara, 13.2ms\n",
            "video 1/1 (frame 91/402) /content/VID_20241212_162609.mp4: 640x384 (no detections), 13.2ms\n",
            "video 1/1 (frame 92/402) /content/VID_20241212_162609.mp4: 640x384 2 jicaras, 13.2ms\n",
            "video 1/1 (frame 93/402) /content/VID_20241212_162609.mp4: 640x384 1 jicara, 13.2ms\n",
            "video 1/1 (frame 94/402) /content/VID_20241212_162609.mp4: 640x384 2 jicaras, 13.2ms\n",
            "video 1/1 (frame 95/402) /content/VID_20241212_162609.mp4: 640x384 (no detections), 13.2ms\n",
            "video 1/1 (frame 96/402) /content/VID_20241212_162609.mp4: 640x384 (no detections), 13.2ms\n",
            "video 1/1 (frame 97/402) /content/VID_20241212_162609.mp4: 640x384 (no detections), 13.2ms\n",
            "video 1/1 (frame 98/402) /content/VID_20241212_162609.mp4: 640x384 (no detections), 13.2ms\n",
            "video 1/1 (frame 99/402) /content/VID_20241212_162609.mp4: 640x384 (no detections), 13.2ms\n",
            "video 1/1 (frame 100/402) /content/VID_20241212_162609.mp4: 640x384 (no detections), 13.2ms\n",
            "video 1/1 (frame 101/402) /content/VID_20241212_162609.mp4: 640x384 (no detections), 13.2ms\n",
            "video 1/1 (frame 102/402) /content/VID_20241212_162609.mp4: 640x384 (no detections), 14.4ms\n",
            "video 1/1 (frame 103/402) /content/VID_20241212_162609.mp4: 640x384 (no detections), 13.2ms\n",
            "video 1/1 (frame 104/402) /content/VID_20241212_162609.mp4: 640x384 (no detections), 13.2ms\n",
            "video 1/1 (frame 105/402) /content/VID_20241212_162609.mp4: 640x384 (no detections), 13.2ms\n",
            "video 1/1 (frame 106/402) /content/VID_20241212_162609.mp4: 640x384 1 jicara, 13.2ms\n",
            "video 1/1 (frame 107/402) /content/VID_20241212_162609.mp4: 640x384 (no detections), 13.2ms\n",
            "video 1/1 (frame 108/402) /content/VID_20241212_162609.mp4: 640x384 1 jicara, 13.2ms\n",
            "video 1/1 (frame 109/402) /content/VID_20241212_162609.mp4: 640x384 (no detections), 13.2ms\n",
            "video 1/1 (frame 110/402) /content/VID_20241212_162609.mp4: 640x384 1 jicara, 13.2ms\n",
            "video 1/1 (frame 111/402) /content/VID_20241212_162609.mp4: 640x384 1 jicara, 13.2ms\n",
            "video 1/1 (frame 112/402) /content/VID_20241212_162609.mp4: 640x384 (no detections), 13.2ms\n",
            "video 1/1 (frame 113/402) /content/VID_20241212_162609.mp4: 640x384 (no detections), 13.2ms\n",
            "video 1/1 (frame 114/402) /content/VID_20241212_162609.mp4: 640x384 (no detections), 13.2ms\n",
            "video 1/1 (frame 115/402) /content/VID_20241212_162609.mp4: 640x384 (no detections), 13.2ms\n",
            "video 1/1 (frame 116/402) /content/VID_20241212_162609.mp4: 640x384 (no detections), 13.2ms\n",
            "video 1/1 (frame 117/402) /content/VID_20241212_162609.mp4: 640x384 (no detections), 13.2ms\n",
            "video 1/1 (frame 118/402) /content/VID_20241212_162609.mp4: 640x384 (no detections), 13.2ms\n",
            "video 1/1 (frame 119/402) /content/VID_20241212_162609.mp4: 640x384 (no detections), 13.7ms\n",
            "video 1/1 (frame 120/402) /content/VID_20241212_162609.mp4: 640x384 (no detections), 13.2ms\n",
            "video 1/1 (frame 121/402) /content/VID_20241212_162609.mp4: 640x384 (no detections), 13.2ms\n",
            "video 1/1 (frame 122/402) /content/VID_20241212_162609.mp4: 640x384 (no detections), 13.2ms\n",
            "video 1/1 (frame 123/402) /content/VID_20241212_162609.mp4: 640x384 (no detections), 13.2ms\n",
            "video 1/1 (frame 124/402) /content/VID_20241212_162609.mp4: 640x384 (no detections), 13.5ms\n",
            "video 1/1 (frame 125/402) /content/VID_20241212_162609.mp4: 640x384 (no detections), 13.2ms\n",
            "video 1/1 (frame 126/402) /content/VID_20241212_162609.mp4: 640x384 (no detections), 13.2ms\n",
            "video 1/1 (frame 127/402) /content/VID_20241212_162609.mp4: 640x384 1 jicara, 13.2ms\n",
            "video 1/1 (frame 128/402) /content/VID_20241212_162609.mp4: 640x384 1 jicara, 13.2ms\n",
            "video 1/1 (frame 129/402) /content/VID_20241212_162609.mp4: 640x384 1 jicara, 13.2ms\n",
            "video 1/1 (frame 130/402) /content/VID_20241212_162609.mp4: 640x384 (no detections), 13.2ms\n",
            "video 1/1 (frame 131/402) /content/VID_20241212_162609.mp4: 640x384 1 jicara, 13.2ms\n",
            "video 1/1 (frame 132/402) /content/VID_20241212_162609.mp4: 640x384 1 jicara, 13.2ms\n",
            "video 1/1 (frame 133/402) /content/VID_20241212_162609.mp4: 640x384 (no detections), 13.2ms\n",
            "video 1/1 (frame 134/402) /content/VID_20241212_162609.mp4: 640x384 1 jicara, 13.2ms\n",
            "video 1/1 (frame 135/402) /content/VID_20241212_162609.mp4: 640x384 1 jicara, 13.2ms\n",
            "video 1/1 (frame 136/402) /content/VID_20241212_162609.mp4: 640x384 1 jicara, 13.2ms\n",
            "video 1/1 (frame 137/402) /content/VID_20241212_162609.mp4: 640x384 (no detections), 13.2ms\n",
            "video 1/1 (frame 138/402) /content/VID_20241212_162609.mp4: 640x384 (no detections), 13.2ms\n",
            "video 1/1 (frame 139/402) /content/VID_20241212_162609.mp4: 640x384 (no detections), 13.2ms\n",
            "video 1/1 (frame 140/402) /content/VID_20241212_162609.mp4: 640x384 (no detections), 13.1ms\n",
            "video 1/1 (frame 141/402) /content/VID_20241212_162609.mp4: 640x384 (no detections), 13.2ms\n",
            "video 1/1 (frame 142/402) /content/VID_20241212_162609.mp4: 640x384 (no detections), 13.2ms\n",
            "video 1/1 (frame 143/402) /content/VID_20241212_162609.mp4: 640x384 (no detections), 13.2ms\n",
            "video 1/1 (frame 144/402) /content/VID_20241212_162609.mp4: 640x384 (no detections), 13.2ms\n",
            "video 1/1 (frame 145/402) /content/VID_20241212_162609.mp4: 640x384 (no detections), 13.2ms\n",
            "video 1/1 (frame 146/402) /content/VID_20241212_162609.mp4: 640x384 (no detections), 13.2ms\n",
            "video 1/1 (frame 147/402) /content/VID_20241212_162609.mp4: 640x384 (no detections), 13.2ms\n",
            "video 1/1 (frame 148/402) /content/VID_20241212_162609.mp4: 640x384 (no detections), 13.2ms\n",
            "video 1/1 (frame 149/402) /content/VID_20241212_162609.mp4: 640x384 (no detections), 13.2ms\n",
            "video 1/1 (frame 150/402) /content/VID_20241212_162609.mp4: 640x384 (no detections), 15.9ms\n",
            "video 1/1 (frame 151/402) /content/VID_20241212_162609.mp4: 640x384 (no detections), 13.2ms\n",
            "video 1/1 (frame 152/402) /content/VID_20241212_162609.mp4: 640x384 (no detections), 13.2ms\n",
            "video 1/1 (frame 153/402) /content/VID_20241212_162609.mp4: 640x384 (no detections), 13.2ms\n",
            "video 1/1 (frame 154/402) /content/VID_20241212_162609.mp4: 640x384 (no detections), 13.2ms\n",
            "video 1/1 (frame 155/402) /content/VID_20241212_162609.mp4: 640x384 (no detections), 13.2ms\n",
            "video 1/1 (frame 156/402) /content/VID_20241212_162609.mp4: 640x384 (no detections), 13.2ms\n",
            "video 1/1 (frame 157/402) /content/VID_20241212_162609.mp4: 640x384 (no detections), 13.2ms\n",
            "video 1/1 (frame 158/402) /content/VID_20241212_162609.mp4: 640x384 (no detections), 13.2ms\n",
            "video 1/1 (frame 159/402) /content/VID_20241212_162609.mp4: 640x384 (no detections), 13.2ms\n",
            "video 1/1 (frame 160/402) /content/VID_20241212_162609.mp4: 640x384 (no detections), 13.2ms\n",
            "video 1/1 (frame 161/402) /content/VID_20241212_162609.mp4: 640x384 (no detections), 13.2ms\n",
            "video 1/1 (frame 162/402) /content/VID_20241212_162609.mp4: 640x384 (no detections), 13.2ms\n",
            "video 1/1 (frame 163/402) /content/VID_20241212_162609.mp4: 640x384 (no detections), 13.2ms\n",
            "video 1/1 (frame 164/402) /content/VID_20241212_162609.mp4: 640x384 (no detections), 13.2ms\n",
            "video 1/1 (frame 165/402) /content/VID_20241212_162609.mp4: 640x384 (no detections), 13.2ms\n",
            "video 1/1 (frame 166/402) /content/VID_20241212_162609.mp4: 640x384 (no detections), 13.2ms\n",
            "video 1/1 (frame 167/402) /content/VID_20241212_162609.mp4: 640x384 1 platano, 13.2ms\n",
            "video 1/1 (frame 168/402) /content/VID_20241212_162609.mp4: 640x384 1 platano, 13.2ms\n",
            "video 1/1 (frame 169/402) /content/VID_20241212_162609.mp4: 640x384 (no detections), 13.2ms\n",
            "video 1/1 (frame 170/402) /content/VID_20241212_162609.mp4: 640x384 (no detections), 13.2ms\n",
            "video 1/1 (frame 171/402) /content/VID_20241212_162609.mp4: 640x384 1 platano, 13.2ms\n",
            "video 1/1 (frame 172/402) /content/VID_20241212_162609.mp4: 640x384 1 platano, 13.2ms\n",
            "video 1/1 (frame 173/402) /content/VID_20241212_162609.mp4: 640x384 (no detections), 13.2ms\n",
            "video 1/1 (frame 174/402) /content/VID_20241212_162609.mp4: 640x384 (no detections), 13.2ms\n",
            "video 1/1 (frame 175/402) /content/VID_20241212_162609.mp4: 640x384 1 platano, 13.2ms\n",
            "video 1/1 (frame 176/402) /content/VID_20241212_162609.mp4: 640x384 (no detections), 13.2ms\n",
            "video 1/1 (frame 177/402) /content/VID_20241212_162609.mp4: 640x384 (no detections), 13.2ms\n",
            "video 1/1 (frame 178/402) /content/VID_20241212_162609.mp4: 640x384 (no detections), 13.2ms\n",
            "video 1/1 (frame 179/402) /content/VID_20241212_162609.mp4: 640x384 (no detections), 13.2ms\n",
            "video 1/1 (frame 180/402) /content/VID_20241212_162609.mp4: 640x384 (no detections), 19.2ms\n",
            "video 1/1 (frame 181/402) /content/VID_20241212_162609.mp4: 640x384 (no detections), 13.2ms\n",
            "video 1/1 (frame 182/402) /content/VID_20241212_162609.mp4: 640x384 (no detections), 13.7ms\n",
            "video 1/1 (frame 183/402) /content/VID_20241212_162609.mp4: 640x384 (no detections), 13.7ms\n",
            "video 1/1 (frame 184/402) /content/VID_20241212_162609.mp4: 640x384 (no detections), 13.6ms\n",
            "video 1/1 (frame 185/402) /content/VID_20241212_162609.mp4: 640x384 (no detections), 13.3ms\n",
            "video 1/1 (frame 186/402) /content/VID_20241212_162609.mp4: 640x384 (no detections), 13.3ms\n",
            "video 1/1 (frame 187/402) /content/VID_20241212_162609.mp4: 640x384 (no detections), 13.4ms\n",
            "video 1/1 (frame 188/402) /content/VID_20241212_162609.mp4: 640x384 (no detections), 13.6ms\n",
            "video 1/1 (frame 189/402) /content/VID_20241212_162609.mp4: 640x384 (no detections), 13.6ms\n",
            "video 1/1 (frame 190/402) /content/VID_20241212_162609.mp4: 640x384 (no detections), 13.6ms\n",
            "video 1/1 (frame 191/402) /content/VID_20241212_162609.mp4: 640x384 (no detections), 13.4ms\n",
            "video 1/1 (frame 192/402) /content/VID_20241212_162609.mp4: 640x384 (no detections), 13.2ms\n",
            "video 1/1 (frame 193/402) /content/VID_20241212_162609.mp4: 640x384 (no detections), 13.2ms\n",
            "video 1/1 (frame 194/402) /content/VID_20241212_162609.mp4: 640x384 (no detections), 13.6ms\n",
            "video 1/1 (frame 195/402) /content/VID_20241212_162609.mp4: 640x384 (no detections), 13.6ms\n",
            "video 1/1 (frame 196/402) /content/VID_20241212_162609.mp4: 640x384 (no detections), 13.5ms\n",
            "video 1/1 (frame 197/402) /content/VID_20241212_162609.mp4: 640x384 (no detections), 13.4ms\n",
            "video 1/1 (frame 198/402) /content/VID_20241212_162609.mp4: 640x384 (no detections), 13.4ms\n",
            "video 1/1 (frame 199/402) /content/VID_20241212_162609.mp4: 640x384 (no detections), 13.7ms\n",
            "video 1/1 (frame 200/402) /content/VID_20241212_162609.mp4: 640x384 (no detections), 13.8ms\n",
            "video 1/1 (frame 201/402) /content/VID_20241212_162609.mp4: 640x384 2 platanos, 13.9ms\n",
            "video 1/1 (frame 202/402) /content/VID_20241212_162609.mp4: 640x384 2 platanos, 13.5ms\n",
            "video 1/1 (frame 203/402) /content/VID_20241212_162609.mp4: 640x384 1 platano, 13.5ms\n",
            "video 1/1 (frame 204/402) /content/VID_20241212_162609.mp4: 640x384 2 platanos, 13.4ms\n",
            "video 1/1 (frame 205/402) /content/VID_20241212_162609.mp4: 640x384 1 platano, 13.4ms\n",
            "video 1/1 (frame 206/402) /content/VID_20241212_162609.mp4: 640x384 1 platano, 13.4ms\n",
            "video 1/1 (frame 207/402) /content/VID_20241212_162609.mp4: 640x384 1 platano, 13.5ms\n",
            "video 1/1 (frame 208/402) /content/VID_20241212_162609.mp4: 640x384 1 platano, 13.5ms\n",
            "video 1/1 (frame 209/402) /content/VID_20241212_162609.mp4: 640x384 1 platano, 14.6ms\n",
            "video 1/1 (frame 210/402) /content/VID_20241212_162609.mp4: 640x384 1 platano, 13.9ms\n",
            "video 1/1 (frame 211/402) /content/VID_20241212_162609.mp4: 640x384 1 platano, 13.9ms\n",
            "video 1/1 (frame 212/402) /content/VID_20241212_162609.mp4: 640x384 (no detections), 13.9ms\n",
            "video 1/1 (frame 213/402) /content/VID_20241212_162609.mp4: 640x384 (no detections), 13.6ms\n",
            "video 1/1 (frame 214/402) /content/VID_20241212_162609.mp4: 640x384 1 platano, 13.6ms\n",
            "video 1/1 (frame 215/402) /content/VID_20241212_162609.mp4: 640x384 1 platano, 13.6ms\n",
            "video 1/1 (frame 216/402) /content/VID_20241212_162609.mp4: 640x384 1 platano, 13.6ms\n",
            "video 1/1 (frame 217/402) /content/VID_20241212_162609.mp4: 640x384 1 platano, 13.6ms\n",
            "video 1/1 (frame 218/402) /content/VID_20241212_162609.mp4: 640x384 (no detections), 13.6ms\n",
            "video 1/1 (frame 219/402) /content/VID_20241212_162609.mp4: 640x384 (no detections), 13.6ms\n",
            "video 1/1 (frame 220/402) /content/VID_20241212_162609.mp4: 640x384 (no detections), 13.6ms\n",
            "video 1/1 (frame 221/402) /content/VID_20241212_162609.mp4: 640x384 1 platano, 13.6ms\n",
            "video 1/1 (frame 222/402) /content/VID_20241212_162609.mp4: 640x384 (no detections), 13.6ms\n",
            "video 1/1 (frame 223/402) /content/VID_20241212_162609.mp4: 640x384 (no detections), 13.6ms\n",
            "video 1/1 (frame 224/402) /content/VID_20241212_162609.mp4: 640x384 1 platano, 13.6ms\n",
            "video 1/1 (frame 225/402) /content/VID_20241212_162609.mp4: 640x384 (no detections), 13.6ms\n",
            "video 1/1 (frame 226/402) /content/VID_20241212_162609.mp4: 640x384 1 platano, 13.6ms\n",
            "video 1/1 (frame 227/402) /content/VID_20241212_162609.mp4: 640x384 (no detections), 13.6ms\n",
            "video 1/1 (frame 228/402) /content/VID_20241212_162609.mp4: 640x384 (no detections), 13.6ms\n",
            "video 1/1 (frame 229/402) /content/VID_20241212_162609.mp4: 640x384 (no detections), 13.6ms\n",
            "video 1/1 (frame 230/402) /content/VID_20241212_162609.mp4: 640x384 (no detections), 13.3ms\n",
            "video 1/1 (frame 231/402) /content/VID_20241212_162609.mp4: 640x384 (no detections), 21.4ms\n",
            "video 1/1 (frame 232/402) /content/VID_20241212_162609.mp4: 640x384 (no detections), 14.0ms\n",
            "video 1/1 (frame 233/402) /content/VID_20241212_162609.mp4: 640x384 (no detections), 14.9ms\n",
            "video 1/1 (frame 234/402) /content/VID_20241212_162609.mp4: 640x384 (no detections), 13.8ms\n",
            "video 1/1 (frame 235/402) /content/VID_20241212_162609.mp4: 640x384 (no detections), 14.4ms\n",
            "video 1/1 (frame 236/402) /content/VID_20241212_162609.mp4: 640x384 (no detections), 18.4ms\n",
            "video 1/1 (frame 237/402) /content/VID_20241212_162609.mp4: 640x384 (no detections), 13.4ms\n",
            "video 1/1 (frame 238/402) /content/VID_20241212_162609.mp4: 640x384 1 platano, 15.3ms\n",
            "video 1/1 (frame 239/402) /content/VID_20241212_162609.mp4: 640x384 (no detections), 13.4ms\n",
            "video 1/1 (frame 240/402) /content/VID_20241212_162609.mp4: 640x384 1 platano, 17.0ms\n",
            "video 1/1 (frame 241/402) /content/VID_20241212_162609.mp4: 640x384 1 platano, 13.3ms\n",
            "video 1/1 (frame 242/402) /content/VID_20241212_162609.mp4: 640x384 1 platano, 13.4ms\n",
            "video 1/1 (frame 243/402) /content/VID_20241212_162609.mp4: 640x384 1 platano, 18.1ms\n",
            "video 1/1 (frame 244/402) /content/VID_20241212_162609.mp4: 640x384 1 platano, 13.3ms\n",
            "video 1/1 (frame 245/402) /content/VID_20241212_162609.mp4: 640x384 1 platano, 13.4ms\n",
            "video 1/1 (frame 246/402) /content/VID_20241212_162609.mp4: 640x384 1 platano, 13.6ms\n",
            "video 1/1 (frame 247/402) /content/VID_20241212_162609.mp4: 640x384 1 platano, 14.3ms\n",
            "video 1/1 (frame 248/402) /content/VID_20241212_162609.mp4: 640x384 1 platano, 13.3ms\n",
            "video 1/1 (frame 249/402) /content/VID_20241212_162609.mp4: 640x384 1 platano, 13.9ms\n",
            "video 1/1 (frame 250/402) /content/VID_20241212_162609.mp4: 640x384 1 platano, 13.3ms\n",
            "video 1/1 (frame 251/402) /content/VID_20241212_162609.mp4: 640x384 1 platano, 13.4ms\n",
            "video 1/1 (frame 252/402) /content/VID_20241212_162609.mp4: 640x384 1 platano, 13.4ms\n",
            "video 1/1 (frame 253/402) /content/VID_20241212_162609.mp4: 640x384 1 platano, 13.3ms\n",
            "video 1/1 (frame 254/402) /content/VID_20241212_162609.mp4: 640x384 1 platano, 13.3ms\n",
            "video 1/1 (frame 255/402) /content/VID_20241212_162609.mp4: 640x384 1 platano, 16.4ms\n",
            "video 1/1 (frame 256/402) /content/VID_20241212_162609.mp4: 640x384 1 platano, 13.3ms\n",
            "video 1/1 (frame 257/402) /content/VID_20241212_162609.mp4: 640x384 1 platano, 15.6ms\n",
            "video 1/1 (frame 258/402) /content/VID_20241212_162609.mp4: 640x384 1 platano, 16.6ms\n",
            "video 1/1 (frame 259/402) /content/VID_20241212_162609.mp4: 640x384 1 platano, 14.6ms\n",
            "video 1/1 (frame 260/402) /content/VID_20241212_162609.mp4: 640x384 1 platano, 13.3ms\n",
            "video 1/1 (frame 261/402) /content/VID_20241212_162609.mp4: 640x384 1 platano, 13.4ms\n",
            "video 1/1 (frame 262/402) /content/VID_20241212_162609.mp4: 640x384 1 platano, 13.3ms\n",
            "video 1/1 (frame 263/402) /content/VID_20241212_162609.mp4: 640x384 1 platano, 14.5ms\n",
            "video 1/1 (frame 264/402) /content/VID_20241212_162609.mp4: 640x384 1 platano, 17.4ms\n",
            "video 1/1 (frame 265/402) /content/VID_20241212_162609.mp4: 640x384 1 platano, 16.7ms\n",
            "video 1/1 (frame 266/402) /content/VID_20241212_162609.mp4: 640x384 1 platano, 16.3ms\n",
            "video 1/1 (frame 267/402) /content/VID_20241212_162609.mp4: 640x384 1 platano, 16.3ms\n",
            "video 1/1 (frame 268/402) /content/VID_20241212_162609.mp4: 640x384 1 platano, 16.8ms\n",
            "video 1/1 (frame 269/402) /content/VID_20241212_162609.mp4: 640x384 1 platano, 16.8ms\n",
            "video 1/1 (frame 270/402) /content/VID_20241212_162609.mp4: 640x384 1 platano, 21.8ms\n",
            "video 1/1 (frame 271/402) /content/VID_20241212_162609.mp4: 640x384 1 platano, 17.1ms\n",
            "video 1/1 (frame 272/402) /content/VID_20241212_162609.mp4: 640x384 1 platano, 17.1ms\n",
            "video 1/1 (frame 273/402) /content/VID_20241212_162609.mp4: 640x384 1 platano, 17.1ms\n",
            "video 1/1 (frame 274/402) /content/VID_20241212_162609.mp4: 640x384 1 platano, 17.0ms\n",
            "video 1/1 (frame 275/402) /content/VID_20241212_162609.mp4: 640x384 1 platano, 17.3ms\n",
            "video 1/1 (frame 276/402) /content/VID_20241212_162609.mp4: 640x384 1 platano, 17.3ms\n",
            "video 1/1 (frame 277/402) /content/VID_20241212_162609.mp4: 640x384 1 platano, 17.3ms\n",
            "video 1/1 (frame 278/402) /content/VID_20241212_162609.mp4: 640x384 1 platano, 17.7ms\n",
            "video 1/1 (frame 279/402) /content/VID_20241212_162609.mp4: 640x384 1 platano, 21.7ms\n",
            "video 1/1 (frame 280/402) /content/VID_20241212_162609.mp4: 640x384 1 platano, 17.7ms\n",
            "video 1/1 (frame 281/402) /content/VID_20241212_162609.mp4: 640x384 1 platano, 17.8ms\n",
            "video 1/1 (frame 282/402) /content/VID_20241212_162609.mp4: 640x384 1 platano, 22.8ms\n",
            "video 1/1 (frame 283/402) /content/VID_20241212_162609.mp4: 640x384 1 platano, 18.8ms\n",
            "video 1/1 (frame 284/402) /content/VID_20241212_162609.mp4: 640x384 1 platano, 18.6ms\n",
            "video 1/1 (frame 285/402) /content/VID_20241212_162609.mp4: 640x384 1 platano, 19.1ms\n",
            "video 1/1 (frame 286/402) /content/VID_20241212_162609.mp4: 640x384 1 platano, 18.3ms\n",
            "video 1/1 (frame 287/402) /content/VID_20241212_162609.mp4: 640x384 1 platano, 20.9ms\n",
            "video 1/1 (frame 288/402) /content/VID_20241212_162609.mp4: 640x384 1 platano, 18.7ms\n",
            "video 1/1 (frame 289/402) /content/VID_20241212_162609.mp4: 640x384 1 platano, 18.8ms\n",
            "video 1/1 (frame 290/402) /content/VID_20241212_162609.mp4: 640x384 1 platano, 18.8ms\n",
            "video 1/1 (frame 291/402) /content/VID_20241212_162609.mp4: 640x384 1 platano, 18.8ms\n",
            "video 1/1 (frame 292/402) /content/VID_20241212_162609.mp4: 640x384 1 platano, 20.3ms\n",
            "video 1/1 (frame 293/402) /content/VID_20241212_162609.mp4: 640x384 1 platano, 18.8ms\n",
            "video 1/1 (frame 294/402) /content/VID_20241212_162609.mp4: 640x384 1 platano, 18.8ms\n",
            "video 1/1 (frame 295/402) /content/VID_20241212_162609.mp4: 640x384 1 platano, 20.5ms\n",
            "video 1/1 (frame 296/402) /content/VID_20241212_162609.mp4: 640x384 (no detections), 19.1ms\n",
            "video 1/1 (frame 297/402) /content/VID_20241212_162609.mp4: 640x384 1 platano, 19.1ms\n",
            "video 1/1 (frame 298/402) /content/VID_20241212_162609.mp4: 640x384 (no detections), 19.2ms\n",
            "video 1/1 (frame 299/402) /content/VID_20241212_162609.mp4: 640x384 1 platano, 19.4ms\n",
            "video 1/1 (frame 300/402) /content/VID_20241212_162609.mp4: 640x384 (no detections), 19.4ms\n",
            "video 1/1 (frame 301/402) /content/VID_20241212_162609.mp4: 640x384 (no detections), 19.4ms\n",
            "video 1/1 (frame 302/402) /content/VID_20241212_162609.mp4: 640x384 1 platano, 19.4ms\n",
            "video 1/1 (frame 303/402) /content/VID_20241212_162609.mp4: 640x384 1 platano, 19.4ms\n",
            "video 1/1 (frame 304/402) /content/VID_20241212_162609.mp4: 640x384 1 platano, 19.4ms\n",
            "video 1/1 (frame 305/402) /content/VID_20241212_162609.mp4: 640x384 1 platano, 19.4ms\n",
            "video 1/1 (frame 306/402) /content/VID_20241212_162609.mp4: 640x384 1 platano, 19.7ms\n",
            "video 1/1 (frame 307/402) /content/VID_20241212_162609.mp4: 640x384 (no detections), 21.1ms\n",
            "video 1/1 (frame 308/402) /content/VID_20241212_162609.mp4: 640x384 1 platano, 19.7ms\n",
            "video 1/1 (frame 309/402) /content/VID_20241212_162609.mp4: 640x384 1 platano, 21.8ms\n",
            "video 1/1 (frame 310/402) /content/VID_20241212_162609.mp4: 640x384 1 platano, 19.6ms\n",
            "video 1/1 (frame 311/402) /content/VID_20241212_162609.mp4: 640x384 1 platano, 19.7ms\n",
            "video 1/1 (frame 312/402) /content/VID_20241212_162609.mp4: 640x384 1 platano, 19.7ms\n",
            "video 1/1 (frame 313/402) /content/VID_20241212_162609.mp4: 640x384 1 platano, 21.5ms\n",
            "video 1/1 (frame 314/402) /content/VID_20241212_162609.mp4: 640x384 1 platano, 20.5ms\n",
            "video 1/1 (frame 315/402) /content/VID_20241212_162609.mp4: 640x384 1 platano, 20.0ms\n",
            "video 1/1 (frame 316/402) /content/VID_20241212_162609.mp4: 640x384 1 platano, 20.2ms\n",
            "video 1/1 (frame 317/402) /content/VID_20241212_162609.mp4: 640x384 1 platano, 22.3ms\n",
            "video 1/1 (frame 318/402) /content/VID_20241212_162609.mp4: 640x384 (no detections), 20.7ms\n",
            "video 1/1 (frame 319/402) /content/VID_20241212_162609.mp4: 640x384 1 platano, 20.3ms\n",
            "video 1/1 (frame 320/402) /content/VID_20241212_162609.mp4: 640x384 1 platano, 20.3ms\n",
            "video 1/1 (frame 321/402) /content/VID_20241212_162609.mp4: 640x384 1 platano, 20.3ms\n",
            "video 1/1 (frame 322/402) /content/VID_20241212_162609.mp4: 640x384 1 platano, 20.3ms\n",
            "video 1/1 (frame 323/402) /content/VID_20241212_162609.mp4: 640x384 1 platano, 20.5ms\n",
            "video 1/1 (frame 324/402) /content/VID_20241212_162609.mp4: 640x384 1 platano, 20.7ms\n",
            "video 1/1 (frame 325/402) /content/VID_20241212_162609.mp4: 640x384 1 platano, 20.7ms\n",
            "video 1/1 (frame 326/402) /content/VID_20241212_162609.mp4: 640x384 1 platano, 20.7ms\n",
            "video 1/1 (frame 327/402) /content/VID_20241212_162609.mp4: 640x384 1 platano, 20.7ms\n",
            "video 1/1 (frame 328/402) /content/VID_20241212_162609.mp4: 640x384 1 cacao_sin_fruto, 1 platano, 20.7ms\n",
            "video 1/1 (frame 329/402) /content/VID_20241212_162609.mp4: 640x384 1 platano, 20.7ms\n",
            "video 1/1 (frame 330/402) /content/VID_20241212_162609.mp4: 640x384 1 platano, 20.7ms\n",
            "video 1/1 (frame 331/402) /content/VID_20241212_162609.mp4: 640x384 1 platano, 20.1ms\n",
            "video 1/1 (frame 332/402) /content/VID_20241212_162609.mp4: 640x384 1 platano, 23.3ms\n",
            "video 1/1 (frame 333/402) /content/VID_20241212_162609.mp4: 640x384 (no detections), 21.6ms\n",
            "video 1/1 (frame 334/402) /content/VID_20241212_162609.mp4: 640x384 1 platano, 20.0ms\n",
            "video 1/1 (frame 335/402) /content/VID_20241212_162609.mp4: 640x384 (no detections), 20.5ms\n",
            "video 1/1 (frame 336/402) /content/VID_20241212_162609.mp4: 640x384 1 cacao_con_fruto, 21.6ms\n",
            "video 1/1 (frame 337/402) /content/VID_20241212_162609.mp4: 640x384 (no detections), 20.4ms\n",
            "video 1/1 (frame 338/402) /content/VID_20241212_162609.mp4: 640x384 (no detections), 20.0ms\n",
            "video 1/1 (frame 339/402) /content/VID_20241212_162609.mp4: 640x384 1 cacao_con_fruto, 20.0ms\n",
            "video 1/1 (frame 340/402) /content/VID_20241212_162609.mp4: 640x384 1 cacao_con_fruto, 20.0ms\n",
            "video 1/1 (frame 341/402) /content/VID_20241212_162609.mp4: 640x384 1 cacao_con_fruto, 20.0ms\n",
            "video 1/1 (frame 342/402) /content/VID_20241212_162609.mp4: 640x384 (no detections), 20.0ms\n",
            "video 1/1 (frame 343/402) /content/VID_20241212_162609.mp4: 640x384 (no detections), 20.0ms\n",
            "video 1/1 (frame 344/402) /content/VID_20241212_162609.mp4: 640x384 (no detections), 20.0ms\n",
            "video 1/1 (frame 345/402) /content/VID_20241212_162609.mp4: 640x384 1 platano, 20.0ms\n",
            "video 1/1 (frame 346/402) /content/VID_20241212_162609.mp4: 640x384 1 platano, 21.5ms\n",
            "video 1/1 (frame 347/402) /content/VID_20241212_162609.mp4: 640x384 1 platano, 20.0ms\n",
            "video 1/1 (frame 348/402) /content/VID_20241212_162609.mp4: 640x384 1 platano, 20.0ms\n",
            "video 1/1 (frame 349/402) /content/VID_20241212_162609.mp4: 640x384 1 platano, 20.0ms\n",
            "video 1/1 (frame 350/402) /content/VID_20241212_162609.mp4: 640x384 1 platano, 20.1ms\n",
            "video 1/1 (frame 351/402) /content/VID_20241212_162609.mp4: 640x384 1 platano, 20.0ms\n",
            "video 1/1 (frame 352/402) /content/VID_20241212_162609.mp4: 640x384 1 platano, 22.9ms\n",
            "video 1/1 (frame 353/402) /content/VID_20241212_162609.mp4: 640x384 1 platano, 20.0ms\n",
            "video 1/1 (frame 354/402) /content/VID_20241212_162609.mp4: 640x384 1 platano, 20.0ms\n",
            "video 1/1 (frame 355/402) /content/VID_20241212_162609.mp4: 640x384 1 platano, 20.0ms\n",
            "video 1/1 (frame 356/402) /content/VID_20241212_162609.mp4: 640x384 1 platano, 20.0ms\n",
            "video 1/1 (frame 357/402) /content/VID_20241212_162609.mp4: 640x384 1 platano, 20.3ms\n",
            "video 1/1 (frame 358/402) /content/VID_20241212_162609.mp4: 640x384 1 platano, 20.0ms\n",
            "video 1/1 (frame 359/402) /content/VID_20241212_162609.mp4: 640x384 (no detections), 20.1ms\n",
            "video 1/1 (frame 360/402) /content/VID_20241212_162609.mp4: 640x384 (no detections), 20.0ms\n",
            "video 1/1 (frame 361/402) /content/VID_20241212_162609.mp4: 640x384 (no detections), 20.0ms\n",
            "video 1/1 (frame 362/402) /content/VID_20241212_162609.mp4: 640x384 (no detections), 20.2ms\n",
            "video 1/1 (frame 363/402) /content/VID_20241212_162609.mp4: 640x384 (no detections), 20.3ms\n",
            "video 1/1 (frame 364/402) /content/VID_20241212_162609.mp4: 640x384 (no detections), 20.4ms\n",
            "video 1/1 (frame 365/402) /content/VID_20241212_162609.mp4: 640x384 (no detections), 20.3ms\n",
            "video 1/1 (frame 366/402) /content/VID_20241212_162609.mp4: 640x384 1 jicara, 20.3ms\n",
            "video 1/1 (frame 367/402) /content/VID_20241212_162609.mp4: 640x384 (no detections), 21.5ms\n",
            "video 1/1 (frame 368/402) /content/VID_20241212_162609.mp4: 640x384 (no detections), 20.0ms\n",
            "video 1/1 (frame 369/402) /content/VID_20241212_162609.mp4: 640x384 (no detections), 20.0ms\n",
            "video 1/1 (frame 370/402) /content/VID_20241212_162609.mp4: 640x384 (no detections), 21.2ms\n",
            "video 1/1 (frame 371/402) /content/VID_20241212_162609.mp4: 640x384 (no detections), 20.4ms\n",
            "video 1/1 (frame 372/402) /content/VID_20241212_162609.mp4: 640x384 (no detections), 20.0ms\n",
            "video 1/1 (frame 373/402) /content/VID_20241212_162609.mp4: 640x384 1 jicara, 20.0ms\n",
            "video 1/1 (frame 374/402) /content/VID_20241212_162609.mp4: 640x384 (no detections), 20.0ms\n",
            "video 1/1 (frame 375/402) /content/VID_20241212_162609.mp4: 640x384 (no detections), 23.3ms\n",
            "video 1/1 (frame 376/402) /content/VID_20241212_162609.mp4: 640x384 1 jicara, 20.0ms\n",
            "video 1/1 (frame 377/402) /content/VID_20241212_162609.mp4: 640x384 (no detections), 20.0ms\n",
            "video 1/1 (frame 378/402) /content/VID_20241212_162609.mp4: 640x384 (no detections), 20.1ms\n",
            "video 1/1 (frame 379/402) /content/VID_20241212_162609.mp4: 640x384 (no detections), 20.0ms\n",
            "video 1/1 (frame 380/402) /content/VID_20241212_162609.mp4: 640x384 (no detections), 20.0ms\n",
            "video 1/1 (frame 381/402) /content/VID_20241212_162609.mp4: 640x384 (no detections), 20.0ms\n",
            "video 1/1 (frame 382/402) /content/VID_20241212_162609.mp4: 640x384 (no detections), 20.0ms\n",
            "video 1/1 (frame 383/402) /content/VID_20241212_162609.mp4: 640x384 (no detections), 19.9ms\n",
            "video 1/1 (frame 384/402) /content/VID_20241212_162609.mp4: 640x384 (no detections), 20.1ms\n",
            "video 1/1 (frame 385/402) /content/VID_20241212_162609.mp4: 640x384 (no detections), 20.0ms\n",
            "video 1/1 (frame 386/402) /content/VID_20241212_162609.mp4: 640x384 (no detections), 20.0ms\n",
            "video 1/1 (frame 387/402) /content/VID_20241212_162609.mp4: 640x384 (no detections), 20.0ms\n",
            "video 1/1 (frame 388/402) /content/VID_20241212_162609.mp4: 640x384 (no detections), 20.1ms\n",
            "video 1/1 (frame 389/402) /content/VID_20241212_162609.mp4: 640x384 (no detections), 20.0ms\n",
            "video 1/1 (frame 390/402) /content/VID_20241212_162609.mp4: 640x384 (no detections), 17.0ms\n",
            "video 1/1 (frame 391/402) /content/VID_20241212_162609.mp4: 640x384 (no detections), 17.0ms\n",
            "video 1/1 (frame 392/402) /content/VID_20241212_162609.mp4: 640x384 (no detections), 17.0ms\n",
            "video 1/1 (frame 393/402) /content/VID_20241212_162609.mp4: 640x384 (no detections), 17.1ms\n",
            "video 1/1 (frame 394/402) /content/VID_20241212_162609.mp4: 640x384 (no detections), 17.0ms\n",
            "video 1/1 (frame 395/402) /content/VID_20241212_162609.mp4: 640x384 (no detections), 16.7ms\n",
            "video 1/1 (frame 396/402) /content/VID_20241212_162609.mp4: 640x384 (no detections), 16.7ms\n",
            "video 1/1 (frame 397/402) /content/VID_20241212_162609.mp4: 640x384 (no detections), 16.4ms\n",
            "video 1/1 (frame 398/402) /content/VID_20241212_162609.mp4: 640x384 (no detections), 16.3ms\n",
            "video 1/1 (frame 399/402) /content/VID_20241212_162609.mp4: 640x384 (no detections), 16.3ms\n",
            "video 1/1 (frame 400/402) /content/VID_20241212_162609.mp4: 640x384 1 jicara, 15.9ms\n",
            "video 1/1 (frame 401/402) /content/VID_20241212_162609.mp4: 640x384 1 jicara, 15.9ms\n",
            "video 1/1 (frame 402/402) /content/VID_20241212_162609.mp4: 640x384 1 jicara, 15.5ms\n",
            "Speed: 2.2ms preprocess, 16.4ms inference, 3.0ms postprocess per image at shape (1, 3, 640, 384)\n",
            "Results saved to \u001b[1mruns/detect/predict7\u001b[0m\n",
            "💡 Learn more at https://docs.ultralytics.com/modes/predict\n"
          ]
        }
      ],
      "source": [
        "!yolo detect predict model=\"/content/runs/detect/train/weights/best.pt\" source=\"/content/VID_20241212_162609.mp4\" save=True conf=0.60 imgsz=640"
      ]
    },
    {
      "cell_type": "markdown",
      "source": [
        "Con FFMPEG, convertimos el resultado de un tipo de video a otro, en este caso, de AVI a MP4."
      ],
      "metadata": {
        "id": "sotSvAxS4-k4"
      }
    },
    {
      "cell_type": "code",
      "execution_count": null,
      "metadata": {
        "colab": {
          "base_uri": "https://localhost:8080/"
        },
        "id": "zR3mehIuRtcp",
        "outputId": "d8f7cf02-ebbf-495f-aece-8ada86e20865",
        "collapsed": true
      },
      "outputs": [
        {
          "output_type": "stream",
          "name": "stdout",
          "text": [
            "ffmpeg version 4.4.2-0ubuntu0.22.04.1 Copyright (c) 2000-2021 the FFmpeg developers\n",
            "  built with gcc 11 (Ubuntu 11.2.0-19ubuntu1)\n",
            "  configuration: --prefix=/usr --extra-version=0ubuntu0.22.04.1 --toolchain=hardened --libdir=/usr/lib/x86_64-linux-gnu --incdir=/usr/include/x86_64-linux-gnu --arch=amd64 --enable-gpl --disable-stripping --enable-gnutls --enable-ladspa --enable-libaom --enable-libass --enable-libbluray --enable-libbs2b --enable-libcaca --enable-libcdio --enable-libcodec2 --enable-libdav1d --enable-libflite --enable-libfontconfig --enable-libfreetype --enable-libfribidi --enable-libgme --enable-libgsm --enable-libjack --enable-libmp3lame --enable-libmysofa --enable-libopenjpeg --enable-libopenmpt --enable-libopus --enable-libpulse --enable-librabbitmq --enable-librubberband --enable-libshine --enable-libsnappy --enable-libsoxr --enable-libspeex --enable-libsrt --enable-libssh --enable-libtheora --enable-libtwolame --enable-libvidstab --enable-libvorbis --enable-libvpx --enable-libwebp --enable-libx265 --enable-libxml2 --enable-libxvid --enable-libzimg --enable-libzmq --enable-libzvbi --enable-lv2 --enable-omx --enable-openal --enable-opencl --enable-opengl --enable-sdl2 --enable-pocketsphinx --enable-librsvg --enable-libmfx --enable-libdc1394 --enable-libdrm --enable-libiec61883 --enable-chromaprint --enable-frei0r --enable-libx264 --enable-shared\n",
            "  libavutil      56. 70.100 / 56. 70.100\n",
            "  libavcodec     58.134.100 / 58.134.100\n",
            "  libavformat    58. 76.100 / 58. 76.100\n",
            "  libavdevice    58. 13.100 / 58. 13.100\n",
            "  libavfilter     7.110.100 /  7.110.100\n",
            "  libswscale      5.  9.100 /  5.  9.100\n",
            "  libswresample   3.  9.100 /  3.  9.100\n",
            "  libpostproc    55.  9.100 / 55.  9.100\n",
            "Input #0, avi, from '/content/runs/detect/predict/video_prueba.avi':\n",
            "  Metadata:\n",
            "    software        : Lavf59.27.100\n",
            "  Duration: 00:03:57.07, start: 0.000000, bitrate: 51604 kb/s\n",
            "  Stream #0:0: Video: mjpeg (Baseline) (MJPG / 0x47504A4D), yuvj420p(pc, bt470bg/unknown/unknown), 1280x720, 51604 kb/s, 30 fps, 30 tbr, 30 tbn, 30 tbc\n",
            "Stream mapping:\n",
            "  Stream #0:0 -> #0:0 (mjpeg (native) -> h264 (libx264))\n",
            "Press [q] to stop, [?] for help\n",
            "\u001b[1;36m[libx264 @ 0x5624d6ec1d80] \u001b[0musing cpu capabilities: MMX2 SSE2Fast SSSE3 SSE4.2 AVX FMA3 BMI2 AVX2\n",
            "\u001b[1;36m[libx264 @ 0x5624d6ec1d80] \u001b[0mprofile High, level 3.1, 4:2:0, 8-bit\n",
            "\u001b[1;36m[libx264 @ 0x5624d6ec1d80] \u001b[0m264 - core 163 r3060 5db6aa6 - H.264/MPEG-4 AVC codec - Copyleft 2003-2021 - http://www.videolan.org/x264.html - options: cabac=1 ref=3 deblock=1:0:0 analyse=0x3:0x113 me=hex subme=7 psy=1 psy_rd=1.00:0.00 mixed_ref=1 me_range=16 chroma_me=1 trellis=1 8x8dct=1 cqm=0 deadzone=21,11 fast_pskip=1 chroma_qp_offset=-2 threads=3 lookahead_threads=1 sliced_threads=0 nr=0 decimate=1 interlaced=0 bluray_compat=0 constrained_intra=0 bframes=3 b_pyramid=2 b_adapt=1 b_bias=0 direct=1 weightb=1 open_gop=0 weightp=2 keyint=250 keyint_min=25 scenecut=40 intra_refresh=0 rc_lookahead=40 rc=crf mbtree=1 crf=23.0 qcomp=0.60 qpmin=0 qpmax=69 qpstep=4 ip_ratio=1.40 aq=1:1.00\n",
            "Output #0, mp4, to 'detection_result.mp4':\n",
            "  Metadata:\n",
            "    software        : Lavf59.27.100\n",
            "    encoder         : Lavf58.76.100\n",
            "  Stream #0:0: Video: h264 (avc1 / 0x31637661), yuvj420p(pc, bt470bg/unknown/unknown, progressive), 1280x720, q=2-31, 30 fps, 15360 tbn\n",
            "    Metadata:\n",
            "      encoder         : Lavc58.134.100 libx264\n",
            "    Side data:\n",
            "      cpb: bitrate max/min/avg: 0/0/0 buffer size: 0 vbv_delay: N/A\n",
            "\u001b[1;31mav_interleaved_write_frame(): Immediate exit requested\n",
            "\u001b[0mReceived > 3 system signals, hard exiting\n"
          ]
        }
      ],
      "source": [
        "!ffmpeg -i {\"/content/runs/detect/predict/video_prueba.avi\"} -vcodec libx264 {\"detection_result.mp4\"}"
      ]
    },
    {
      "cell_type": "markdown",
      "source": [
        "No importante, pero si se desea, movemos el video convertido a nuestra nube de Google Drive.\n",
        "Donde:\n",
        "- Primer Argumento: Ruta del video convertido.\n",
        "- Segundo Argumento: Ruta destino."
      ],
      "metadata": {
        "id": "XD8LV4n55Inc"
      }
    },
    {
      "cell_type": "code",
      "execution_count": null,
      "metadata": {
        "id": "UNI_V2hSWvzR"
      },
      "outputs": [],
      "source": [
        "!cp /content/runs/detect/predict/ENTRENAMIENTO_3_VIDEO_1.avi /content/drive/MyDrive"
      ]
    },
    {
      "cell_type": "markdown",
      "source": [
        "# Debug y Utils"
      ],
      "metadata": {
        "id": "frSnZ042MxyI"
      }
    },
    {
      "cell_type": "markdown",
      "source": [
        "El comando \"ls\" sirve para listar todos los archivos dentro del directorio especificado, es decir, devuelve una lista de los archivos dentro del directorio especificado."
      ],
      "metadata": {
        "id": "FrNu3q1IM3Lf"
      }
    },
    {
      "cell_type": "code",
      "source": [
        "!ls"
      ],
      "metadata": {
        "colab": {
          "base_uri": "https://localhost:8080/"
        },
        "id": "oi2dfXjTMzOf",
        "outputId": "9edfcb7a-9131-44a2-bf7a-bc0d4c42157a"
      },
      "execution_count": null,
      "outputs": [
        {
          "output_type": "stream",
          "name": "stdout",
          "text": [
            "cocoa_trees.v1i.yolov8-obb.zip\tdrive  runs  sample_data  yolov8n.pt\n"
          ]
        }
      ]
    },
    {
      "cell_type": "markdown",
      "source": [
        "El comando \"zip\" sirve para comprimir archivos o carpetas."
      ],
      "metadata": {
        "id": "rX6zXj3XPg6m"
      }
    },
    {
      "cell_type": "code",
      "source": [
        "!zip -r /content/output.zip /content/runs/"
      ],
      "metadata": {
        "colab": {
          "base_uri": "https://localhost:8080/"
        },
        "id": "g_3HfuaNPloO",
        "outputId": "7db0be45-70ee-4086-d0d1-0a20deceb385"
      },
      "execution_count": null,
      "outputs": [
        {
          "output_type": "stream",
          "name": "stdout",
          "text": [
            "  adding: content/runs/ (stored 0%)\n",
            "  adding: content/runs/detect/ (stored 0%)\n",
            "  adding: content/runs/detect/train/ (stored 0%)\n",
            "  adding: content/runs/detect/train/train_batch14630.jpg (deflated 2%)\n",
            "  adding: content/runs/detect/train/PR_curve.png (deflated 13%)\n",
            "  adding: content/runs/detect/train/F1_curve.png (deflated 7%)\n",
            "  adding: content/runs/detect/train/weights/ (stored 0%)\n",
            "  adding: content/runs/detect/train/weights/best.pt (deflated 8%)\n",
            "  adding: content/runs/detect/train/weights/last.pt (deflated 8%)\n",
            "  adding: content/runs/detect/train/P_curve.png (deflated 8%)\n",
            "  adding: content/runs/detect/train/events.out.tfevents.1734234109.e75f0b1a4a89.183.0 (deflated 85%)\n",
            "  adding: content/runs/detect/train/labels.jpg (deflated 29%)\n",
            "  adding: content/runs/detect/train/train_batch1.jpg (deflated 0%)\n",
            "  adding: content/runs/detect/train/results.csv (deflated 61%)\n",
            "  adding: content/runs/detect/train/train_batch14631.jpg (deflated 5%)\n",
            "  adding: content/runs/detect/train/confusion_matrix_normalized.png (deflated 23%)\n",
            "  adding: content/runs/detect/train/val_batch2_labels.jpg (deflated 5%)\n",
            "  adding: content/runs/detect/train/confusion_matrix.png (deflated 27%)\n",
            "  adding: content/runs/detect/train/R_curve.png (deflated 9%)\n",
            "  adding: content/runs/detect/train/train_batch0.jpg (deflated 0%)\n",
            "  adding: content/runs/detect/train/train_batch2.jpg (deflated 0%)\n",
            "  adding: content/runs/detect/train/val_batch0_labels.jpg (deflated 7%)\n",
            "  adding: content/runs/detect/train/results.png (deflated 7%)\n",
            "  adding: content/runs/detect/train/val_batch1_labels.jpg (deflated 5%)\n",
            "  adding: content/runs/detect/train/val_batch1_pred.jpg (deflated 4%)\n",
            "  adding: content/runs/detect/train/train_batch14632.jpg (deflated 3%)\n",
            "  adding: content/runs/detect/train/val_batch0_pred.jpg (deflated 6%)\n",
            "  adding: content/runs/detect/train/args.yaml (deflated 53%)\n",
            "  adding: content/runs/detect/train/val_batch2_pred.jpg (deflated 4%)\n",
            "  adding: content/runs/detect/train/labels_correlogram.jpg (deflated 46%)\n"
          ]
        }
      ]
    },
    {
      "cell_type": "code",
      "source": [
        "# Copia el dataset de nuestro Drive a este colab.\n",
        "!cp \"./drive/MyDrive/Entrenamiento 3/Dataset/cocoa_tree_recognition.v2i.yolov8_forms.zip\" ./"
      ],
      "metadata": {
        "id": "95zz_aeiPt-1"
      },
      "execution_count": null,
      "outputs": []
    },
    {
      "cell_type": "code",
      "source": [
        "import shutil\n",
        "import os\n",
        "\n",
        "def copy_directory(source_dir, destination_dir):\n",
        "    \"\"\"Copies the contents of a source directory to a destination directory.\n",
        "\n",
        "    Args:\n",
        "        source_dir: The path to the source directory.\n",
        "        destination_dir: The path to the destination directory.\n",
        "    \"\"\"\n",
        "    try:\n",
        "        # Create the destination directory if it doesn't exist\n",
        "        os.makedirs(destination_dir, exist_ok=True)\n",
        "\n",
        "        # Iterate through all files and subdirectories in the source directory\n",
        "        for item in os.listdir(source_dir):\n",
        "            source_item = os.path.join(source_dir, item)\n",
        "            destination_item = os.path.join(destination_dir, item)\n",
        "\n",
        "            if os.path.isfile(source_item):\n",
        "                shutil.copy2(source_item, destination_item)  # Copy file with metadata\n",
        "            elif os.path.isdir(source_item):\n",
        "                copy_directory(source_item, destination_item) # Recursively copy subdirectories\n",
        "\n",
        "        print(f\"Successfully copied '{source_dir}' to '{destination_dir}'\")\n",
        "\n",
        "    except FileNotFoundError:\n",
        "        print(f\"Error: Source directory '{source_dir}' not found.\")\n",
        "    except Exception as e:\n",
        "        print(f\"An error occurred: {e}\")\n",
        "\n",
        "copy_directory(\n",
        "    \"./drive/MyDrive/SAMPLES\",\n",
        "    \"./\"\n",
        "    )"
      ],
      "metadata": {
        "colab": {
          "base_uri": "https://localhost:8080/"
        },
        "id": "-UU8c9pxwKs2",
        "outputId": "89eb64c4-3a71-4e4e-b4d0-97410348ed16"
      },
      "execution_count": null,
      "outputs": [
        {
          "output_type": "stream",
          "name": "stdout",
          "text": [
            "Successfully copied './drive/MyDrive/SAMPLES' to './'\n"
          ]
        }
      ]
    },
    {
      "cell_type": "code",
      "source": [
        "# Leemos el directorio actual y filtramos los archivos con extensión \".jpg\".\n",
        "images = filter(lambda x: x.endswith(\".jpg\"), os.listdir(\"./\"))\n",
        "\n",
        "# Iteramos en cada imagen y hacemos una predicción de cada una.\n",
        "for image in images:\n",
        "  model.predict(image, save=True, conf=0.7)"
      ],
      "metadata": {
        "colab": {
          "base_uri": "https://localhost:8080/"
        },
        "id": "DfpwgxRV-EGu",
        "outputId": "b00b6872-f0fc-410d-f6f7-8f4fef6a4e75",
        "collapsed": true
      },
      "execution_count": null,
      "outputs": [
        {
          "output_type": "stream",
          "name": "stdout",
          "text": [
            "\n",
            "image 1/1 /content/IMG_20241212_120213.jpg: 640x480 1 jicara, 63.2ms\n",
            "Speed: 3.3ms preprocess, 63.2ms inference, 1.7ms postprocess per image at shape (1, 3, 640, 480)\n",
            "Results saved to \u001b[1mruns/detect/train2\u001b[0m\n",
            "\n",
            "image 1/1 /content/IMG_20241212_120159.jpg: 640x480 1 palmera, 27.7ms\n",
            "Speed: 3.1ms preprocess, 27.7ms inference, 1.7ms postprocess per image at shape (1, 3, 640, 480)\n",
            "Results saved to \u001b[1mruns/detect/train3\u001b[0m\n",
            "\n",
            "image 1/1 /content/IMG_20241212_110516.jpg: 480x640 (no detections), 41.7ms\n",
            "Speed: 3.0ms preprocess, 41.7ms inference, 1.2ms postprocess per image at shape (1, 3, 480, 640)\n",
            "Results saved to \u001b[1mruns/detect/train4\u001b[0m\n",
            "\n",
            "image 1/1 /content/IMG_20241212_162621.jpg: 640x480 (no detections), 28.9ms\n",
            "Speed: 3.0ms preprocess, 28.9ms inference, 1.9ms postprocess per image at shape (1, 3, 640, 480)\n",
            "Results saved to \u001b[1mruns/detect/train5\u001b[0m\n",
            "\n",
            "image 1/1 /content/IMG_20241212_120208.jpg: 640x480 1 jicara, 27.8ms\n",
            "Speed: 4.4ms preprocess, 27.8ms inference, 3.1ms postprocess per image at shape (1, 3, 640, 480)\n",
            "Results saved to \u001b[1mruns/detect/train6\u001b[0m\n",
            "\n",
            "image 1/1 /content/IMG_20241212_120203.jpg: 640x480 1 palmera, 27.7ms\n",
            "Speed: 2.7ms preprocess, 27.7ms inference, 1.5ms postprocess per image at shape (1, 3, 640, 480)\n",
            "Results saved to \u001b[1mruns/detect/train7\u001b[0m\n",
            "\n",
            "image 1/1 /content/IMG_20241212_120201.jpg: 640x480 1 palmera, 27.7ms\n",
            "Speed: 2.8ms preprocess, 27.7ms inference, 1.5ms postprocess per image at shape (1, 3, 640, 480)\n",
            "Results saved to \u001b[1mruns/detect/train8\u001b[0m\n"
          ]
        }
      ]
    },
    {
      "cell_type": "code",
      "source": [
        "!cp \"./drive/MyDrive/Entrenamiento 4/train/weights/best.pt\" \"./\""
      ],
      "metadata": {
        "id": "9WJ7W3v7vLim"
      },
      "execution_count": null,
      "outputs": []
    },
    {
      "cell_type": "code",
      "source": [
        "copy_directory(\"./runs/detect\", \"./drive/MyDrive/Entrenamiento 5\")"
      ],
      "metadata": {
        "colab": {
          "base_uri": "https://localhost:8080/"
        },
        "id": "JceaR5mU38FF",
        "outputId": "539ad052-21d4-42b3-f13e-d6f766238a4e"
      },
      "execution_count": null,
      "outputs": [
        {
          "output_type": "stream",
          "name": "stdout",
          "text": [
            "Successfully copied './runs/detect/train5' to './drive/MyDrive/Entrenamiento 5/train5'\n",
            "Successfully copied './runs/detect/predict2' to './drive/MyDrive/Entrenamiento 5/predict2'\n",
            "Successfully copied './runs/detect/train/weights' to './drive/MyDrive/Entrenamiento 5/train/weights'\n",
            "Successfully copied './runs/detect/train' to './drive/MyDrive/Entrenamiento 5/train'\n",
            "Successfully copied './runs/detect/train8' to './drive/MyDrive/Entrenamiento 5/train8'\n",
            "Successfully copied './runs/detect/predict5' to './drive/MyDrive/Entrenamiento 5/predict5'\n",
            "Successfully copied './runs/detect/predict6' to './drive/MyDrive/Entrenamiento 5/predict6'\n",
            "Successfully copied './runs/detect/train4' to './drive/MyDrive/Entrenamiento 5/train4'\n",
            "Successfully copied './runs/detect/predict' to './drive/MyDrive/Entrenamiento 5/predict'\n",
            "Successfully copied './runs/detect/train6' to './drive/MyDrive/Entrenamiento 5/train6'\n",
            "Successfully copied './runs/detect/predict4' to './drive/MyDrive/Entrenamiento 5/predict4'\n",
            "Successfully copied './runs/detect/train2' to './drive/MyDrive/Entrenamiento 5/train2'\n",
            "Successfully copied './runs/detect/train3' to './drive/MyDrive/Entrenamiento 5/train3'\n",
            "Successfully copied './runs/detect/train7' to './drive/MyDrive/Entrenamiento 5/train7'\n",
            "Successfully copied './runs/detect/predict7' to './drive/MyDrive/Entrenamiento 5/predict7'\n",
            "Successfully copied './runs/detect/predict3' to './drive/MyDrive/Entrenamiento 5/predict3'\n",
            "Successfully copied './runs/detect' to './drive/MyDrive/Entrenamiento 5'\n"
          ]
        }
      ]
    },
    {
      "cell_type": "code",
      "source": [
        "m = YOLO(\"./best.pt\")"
      ],
      "metadata": {
        "id": "_WSMKhnhxoeC"
      },
      "execution_count": null,
      "outputs": []
    },
    {
      "cell_type": "code",
      "source": [
        "# Leemos el directorio actual y filtramos los archivos con extensión \".jpg\".\n",
        "imagess = filter(lambda x: x.endswith(\".jpg\"), os.listdir(\"./\"))\n",
        "\n",
        "# Iteramos en cada imagen y hacemos una predicción de cada una.\n",
        "for image in imagess:\n",
        "  m.predict(image,\n",
        "                save=True,\n",
        "                stream_buffer=True,\n",
        "                conf=0.80,\n",
        "                imgsz=640\n",
        "            )"
      ],
      "metadata": {
        "colab": {
          "base_uri": "https://localhost:8080/"
        },
        "id": "2fG7zn2fyMPT",
        "outputId": "0f9510bc-52cb-4350-8bd7-32a0e3564cae"
      },
      "execution_count": null,
      "outputs": [
        {
          "output_type": "stream",
          "name": "stdout",
          "text": [
            "\n",
            "image 1/1 /content/IMG_20241212_120213.jpg: 640x480 (no detections), 125.8ms\n",
            "Speed: 13.7ms preprocess, 125.8ms inference, 134.3ms postprocess per image at shape (1, 3, 640, 480)\n",
            "Results saved to \u001b[1mruns/detect/predict\u001b[0m\n",
            "\n",
            "image 1/1 /content/IMG_20241212_120159.jpg: 640x480 (no detections), 27.8ms\n",
            "Speed: 4.4ms preprocess, 27.8ms inference, 1.3ms postprocess per image at shape (1, 3, 640, 480)\n",
            "Results saved to \u001b[1mruns/detect/predict\u001b[0m\n",
            "\n",
            "image 1/1 /content/IMG_20241212_110516.jpg: 480x640 (no detections), 41.3ms\n",
            "Speed: 2.9ms preprocess, 41.3ms inference, 0.8ms postprocess per image at shape (1, 3, 480, 640)\n",
            "Results saved to \u001b[1mruns/detect/predict\u001b[0m\n",
            "\n",
            "image 1/1 /content/IMG_20241212_162621.jpg: 640x480 (no detections), 28.4ms\n",
            "Speed: 3.2ms preprocess, 28.4ms inference, 0.7ms postprocess per image at shape (1, 3, 640, 480)\n",
            "Results saved to \u001b[1mruns/detect/predict\u001b[0m\n",
            "\n",
            "image 1/1 /content/IMG_20241212_120208.jpg: 640x480 (no detections), 27.7ms\n",
            "Speed: 2.6ms preprocess, 27.7ms inference, 1.0ms postprocess per image at shape (1, 3, 640, 480)\n",
            "Results saved to \u001b[1mruns/detect/predict\u001b[0m\n",
            "\n",
            "image 1/1 /content/IMG_20241212_120203.jpg: 640x480 1 palmera, 27.7ms\n",
            "Speed: 3.2ms preprocess, 27.7ms inference, 741.8ms postprocess per image at shape (1, 3, 640, 480)\n",
            "Results saved to \u001b[1mruns/detect/predict\u001b[0m\n",
            "\n",
            "image 1/1 /content/IMG_20241212_120201.jpg: 640x480 1 palmera, 27.7ms\n",
            "Speed: 2.6ms preprocess, 27.7ms inference, 1.3ms postprocess per image at shape (1, 3, 640, 480)\n",
            "Results saved to \u001b[1mruns/detect/predict\u001b[0m\n"
          ]
        }
      ]
    }
  ],
  "metadata": {
    "accelerator": "GPU",
    "colab": {
      "gpuType": "T4",
      "provenance": []
    },
    "kernelspec": {
      "display_name": "Python 3",
      "name": "python3"
    },
    "language_info": {
      "name": "python"
    }
  },
  "nbformat": 4,
  "nbformat_minor": 0
}